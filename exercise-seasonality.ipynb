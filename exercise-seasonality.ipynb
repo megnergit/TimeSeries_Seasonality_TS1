{
 "cells": [
  {
   "cell_type": "code",
   "execution_count": null,
   "id": "5c9e9678",
   "metadata": {
    "papermill": {
     "duration": 0.039151,
     "end_time": "2021-10-22T20:25:08.639914",
     "exception": false,
     "start_time": "2021-10-22T20:25:08.600763",
     "status": "completed"
    },
    "tags": []
   },
   "outputs": [],
   "source": []
  },
  {
   "cell_type": "markdown",
   "id": "0260984c",
   "metadata": {
    "papermill": {
     "duration": 0.037477,
     "end_time": "2021-10-22T20:25:08.716051",
     "exception": false,
     "start_time": "2021-10-22T20:25:08.678574",
     "status": "completed"
    },
    "tags": []
   },
   "source": [
    "**This notebook is an exercise in the [Time Series](https://www.kaggle.com/learn/time-series) course.  You can reference the tutorial at [this link](https://www.kaggle.com/ryanholbrook/seasonality).**\n",
    "\n",
    "---\n"
   ]
  },
  {
   "cell_type": "markdown",
   "id": "7fa9cd7f",
   "metadata": {
    "papermill": {
     "duration": 0.037191,
     "end_time": "2021-10-22T20:25:08.790929",
     "exception": false,
     "start_time": "2021-10-22T20:25:08.753738",
     "status": "completed"
    },
    "tags": []
   },
   "source": [
    "# Introduction #\n",
    "\n",
    "Run this cell to set everything up!"
   ]
  },
  {
   "cell_type": "code",
   "execution_count": null,
   "id": "647be862",
   "metadata": {
    "execution": {
     "iopub.execute_input": "2021-10-22T18:40:56.638145Z",
     "iopub.status.busy": "2021-10-22T18:40:56.637805Z",
     "iopub.status.idle": "2021-10-22T18:40:56.645028Z",
     "shell.execute_reply": "2021-10-22T18:40:56.643939Z",
     "shell.execute_reply.started": "2021-10-22T18:40:56.638113Z"
    },
    "papermill": {
     "duration": 0.037281,
     "end_time": "2021-10-22T20:25:08.865753",
     "exception": false,
     "start_time": "2021-10-22T20:25:08.828472",
     "status": "completed"
    },
    "tags": []
   },
   "outputs": [],
   "source": []
  },
  {
   "cell_type": "code",
   "execution_count": 1,
   "id": "19eb9cca",
   "metadata": {
    "execution": {
     "iopub.execute_input": "2021-10-22T20:25:08.946590Z",
     "iopub.status.busy": "2021-10-22T20:25:08.945480Z",
     "iopub.status.idle": "2021-10-22T20:25:14.812843Z",
     "shell.execute_reply": "2021-10-22T20:25:14.812030Z",
     "shell.execute_reply.started": "2021-10-22T18:42:14.137945Z"
    },
    "papermill": {
     "duration": 5.908975,
     "end_time": "2021-10-22T20:25:14.813032",
     "exception": false,
     "start_time": "2021-10-22T20:25:08.904057",
     "status": "completed"
    },
    "tags": []
   },
   "outputs": [],
   "source": [
    "# Setup feedback system\n",
    "from learntools.core import binder\n",
    "binder.bind(globals())\n",
    "from learntools.time_series.ex3 import *\n",
    "\n",
    "# Setup notebook\n",
    "from pathlib import Path\n",
    "from learntools.time_series.style import *  # plot style settings\n",
    "from learntools.time_series.utils import plot_periodogram, seasonal_plot\n",
    "\n",
    "import pandas as pd\n",
    "import matplotlib.pyplot as plt\n",
    "import numpy as np\n",
    "import seaborn as sns\n",
    "from sklearn.linear_model import LinearRegression\n",
    "from statsmodels.tsa.deterministic import CalendarFourier, DeterministicProcess\n",
    "\n",
    "\n",
    "comp_dir = Path('../input/store-sales-time-series-forecasting')\n",
    "\n",
    "holidays_events = pd.read_csv(\n",
    "    comp_dir / \"holidays_events.csv\",\n",
    "    dtype={\n",
    "        'type': 'category',\n",
    "        'locale': 'category',\n",
    "        'locale_name': 'category',\n",
    "        'description': 'category',\n",
    "        'transferred': 'bool',\n",
    "    },\n",
    "    parse_dates=['date'],\n",
    "    infer_datetime_format=True,\n",
    ")\n",
    "holidays_events = holidays_events.set_index('date').to_period('D')\n",
    "\n",
    "store_sales = pd.read_csv(\n",
    "    comp_dir / 'train.csv',\n",
    "    usecols=['store_nbr', 'family', 'date', 'sales'],\n",
    "    dtype={\n",
    "        'store_nbr': 'category',\n",
    "        'family': 'category',\n",
    "        'sales': 'float32',\n",
    "    },\n",
    "    parse_dates=['date'],\n",
    "    infer_datetime_format=True,\n",
    ")\n",
    "store_sales['date'] = store_sales.date.dt.to_period('D')\n",
    "store_sales = store_sales.set_index(['store_nbr', 'family', 'date']).sort_index()\n",
    "average_sales = (\n",
    "    store_sales\n",
    "    .groupby('date').mean()\n",
    "    .squeeze()\n",
    "    .loc['2017']\n",
    ")"
   ]
  },
  {
   "cell_type": "code",
   "execution_count": 2,
   "id": "e2456767",
   "metadata": {
    "execution": {
     "iopub.execute_input": "2021-10-22T20:25:14.956529Z",
     "iopub.status.busy": "2021-10-22T20:25:14.955860Z",
     "iopub.status.idle": "2021-10-22T20:25:17.494109Z",
     "shell.execute_reply": "2021-10-22T20:25:17.494577Z",
     "shell.execute_reply.started": "2021-10-22T18:42:18.742186Z"
    },
    "papermill": {
     "duration": 2.584935,
     "end_time": "2021-10-22T20:25:17.494740",
     "exception": false,
     "start_time": "2021-10-22T20:25:14.909805",
     "status": "completed"
    },
    "tags": []
   },
   "outputs": [
    {
     "name": "stdout",
     "output_type": "stream",
     "text": [
      "<class 'pandas.core.frame.DataFrame'>\n"
     ]
    },
    {
     "data": {
      "text/html": [
       "<div>\n",
       "<style scoped>\n",
       "    .dataframe tbody tr th:only-of-type {\n",
       "        vertical-align: middle;\n",
       "    }\n",
       "\n",
       "    .dataframe tbody tr th {\n",
       "        vertical-align: top;\n",
       "    }\n",
       "\n",
       "    .dataframe thead th {\n",
       "        text-align: right;\n",
       "    }\n",
       "</style>\n",
       "<table border=\"1\" class=\"dataframe\">\n",
       "  <thead>\n",
       "    <tr style=\"text-align: right;\">\n",
       "      <th></th>\n",
       "      <th>sales</th>\n",
       "    </tr>\n",
       "    <tr>\n",
       "      <th>date</th>\n",
       "      <th></th>\n",
       "    </tr>\n",
       "  </thead>\n",
       "  <tbody>\n",
       "    <tr>\n",
       "      <th>2017-01-01</th>\n",
       "      <td>6.780304</td>\n",
       "    </tr>\n",
       "    <tr>\n",
       "      <th>2017-01-02</th>\n",
       "      <td>786.928379</td>\n",
       "    </tr>\n",
       "    <tr>\n",
       "      <th>2017-01-03</th>\n",
       "      <td>619.740224</td>\n",
       "    </tr>\n",
       "    <tr>\n",
       "      <th>2017-01-04</th>\n",
       "      <td>555.608004</td>\n",
       "    </tr>\n",
       "    <tr>\n",
       "      <th>2017-01-05</th>\n",
       "      <td>436.375395</td>\n",
       "    </tr>\n",
       "    <tr>\n",
       "      <th>...</th>\n",
       "      <td>...</td>\n",
       "    </tr>\n",
       "    <tr>\n",
       "      <th>2017-08-11</th>\n",
       "      <td>463.733851</td>\n",
       "    </tr>\n",
       "    <tr>\n",
       "      <th>2017-08-12</th>\n",
       "      <td>444.798280</td>\n",
       "    </tr>\n",
       "    <tr>\n",
       "      <th>2017-08-13</th>\n",
       "      <td>485.768618</td>\n",
       "    </tr>\n",
       "    <tr>\n",
       "      <th>2017-08-14</th>\n",
       "      <td>427.004717</td>\n",
       "    </tr>\n",
       "    <tr>\n",
       "      <th>2017-08-15</th>\n",
       "      <td>427.980884</td>\n",
       "    </tr>\n",
       "  </tbody>\n",
       "</table>\n",
       "<p>227 rows × 1 columns</p>\n",
       "</div>"
      ],
      "text/plain": [
       "                 sales\n",
       "date                  \n",
       "2017-01-01    6.780304\n",
       "2017-01-02  786.928379\n",
       "2017-01-03  619.740224\n",
       "2017-01-04  555.608004\n",
       "2017-01-05  436.375395\n",
       "...                ...\n",
       "2017-08-11  463.733851\n",
       "2017-08-12  444.798280\n",
       "2017-08-13  485.768618\n",
       "2017-08-14  427.004717\n",
       "2017-08-15  427.980884\n",
       "\n",
       "[227 rows x 1 columns]"
      ]
     },
     "execution_count": 2,
     "metadata": {},
     "output_type": "execute_result"
    }
   ],
   "source": [
    "import numpy as np\n",
    "import pandas as pd\n",
    "from sklearn.linear_model import LinearRegression\n",
    "from statsmodels.tsa.deterministic import CalendarFourier, DeterministicProcess\n",
    "from pathlib import Path\n",
    "import plotly.graph_objs as go\n",
    "from scipy.signal import periodogram\n",
    "\n",
    "\n",
    "DATA_DIR = Path('../input/store-sales-time-series-forecasting')\n",
    "holidays_events = pd.read_csv(DATA_DIR/'holidays_events.csv', \n",
    "                              dtype={'type':'category',\n",
    "                                     'locale':'category',\n",
    "                                     'locale_name':'category',\n",
    "                                     'description':'category',\n",
    "                                     'transferred':'bool' ,\n",
    "                              },\n",
    "                              parse_dates=['date'], index_col='date', \n",
    "                              infer_datetime_format=True).to_period('D').sort_index()\n",
    "\n",
    "store_sales = pd.read_csv(DATA_DIR/'train.csv', parse_dates=['date'], \n",
    "                          dtype = {'store_nbr':'category', \n",
    "                                   'family':'category'\n",
    "                          },\n",
    "                          index_col='date').to_period('D').sort_index()\n",
    "\n",
    "store_sales.set_index(['store_nbr', 'family'], append=True, inplace=True)\n",
    "# period has to be set before multiple index is set\n",
    "\n",
    "# one can do like this. '2017'\n",
    "\n",
    "\n",
    "\n",
    "average_sales = store_sales.groupby('date').mean().loc['2017', ['sales']]\n",
    "average_sales = pd.DataFrame(average_sales)\n",
    "print(type(average_sales))\n",
    "average_sales"
   ]
  },
  {
   "cell_type": "code",
   "execution_count": 3,
   "id": "e21c4ecb",
   "metadata": {
    "execution": {
     "iopub.execute_input": "2021-10-22T20:25:17.576750Z",
     "iopub.status.busy": "2021-10-22T20:25:17.576088Z",
     "iopub.status.idle": "2021-10-22T20:25:17.579307Z",
     "shell.execute_reply": "2021-10-22T20:25:17.578796Z",
     "shell.execute_reply.started": "2021-10-22T18:42:22.109688Z"
    },
    "papermill": {
     "duration": 0.045803,
     "end_time": "2021-10-22T20:25:17.579447",
     "exception": false,
     "start_time": "2021-10-22T20:25:17.533644",
     "status": "completed"
    },
    "tags": []
   },
   "outputs": [],
   "source": [
    "# - parse\n",
    "# - index\n",
    "# - set period to 'D'\n",
    "# - dtype (category to category)\n"
   ]
  },
  {
   "cell_type": "code",
   "execution_count": 4,
   "id": "e90b7f74",
   "metadata": {
    "execution": {
     "iopub.execute_input": "2021-10-22T20:25:17.660734Z",
     "iopub.status.busy": "2021-10-22T20:25:17.659708Z",
     "iopub.status.idle": "2021-10-22T20:25:17.780525Z",
     "shell.execute_reply": "2021-10-22T20:25:17.780969Z",
     "shell.execute_reply.started": "2021-10-22T18:42:22.116994Z"
    },
    "papermill": {
     "duration": 0.163331,
     "end_time": "2021-10-22T20:25:17.781170",
     "exception": false,
     "start_time": "2021-10-22T20:25:17.617839",
     "status": "completed"
    },
    "tags": []
   },
   "outputs": [],
   "source": [
    "average_sales = (\n",
    "    store_sales\n",
    "    .groupby('date').mean()\n",
    "    .squeeze()\n",
    "    .loc['2017']\n",
    ")"
   ]
  },
  {
   "cell_type": "code",
   "execution_count": 5,
   "id": "2f4b5075",
   "metadata": {
    "execution": {
     "iopub.execute_input": "2021-10-22T20:25:17.863237Z",
     "iopub.status.busy": "2021-10-22T20:25:17.862398Z",
     "iopub.status.idle": "2021-10-22T20:25:17.869467Z",
     "shell.execute_reply": "2021-10-22T20:25:17.869915Z",
     "shell.execute_reply.started": "2021-10-22T18:42:36.658155Z"
    },
    "papermill": {
     "duration": 0.050279,
     "end_time": "2021-10-22T20:25:17.870096",
     "exception": false,
     "start_time": "2021-10-22T20:25:17.819817",
     "status": "completed"
    },
    "tags": []
   },
   "outputs": [
    {
     "data": {
      "text/plain": [
       "PeriodIndex(['2016-12-26/2017-01-01', '2017-01-02/2017-01-08',\n",
       "             '2017-01-02/2017-01-08', '2017-01-02/2017-01-08',\n",
       "             '2017-01-02/2017-01-08', '2017-01-02/2017-01-08',\n",
       "             '2017-01-02/2017-01-08', '2017-01-02/2017-01-08',\n",
       "             '2017-01-09/2017-01-15', '2017-01-09/2017-01-15',\n",
       "             ...\n",
       "             '2017-07-31/2017-08-06', '2017-08-07/2017-08-13',\n",
       "             '2017-08-07/2017-08-13', '2017-08-07/2017-08-13',\n",
       "             '2017-08-07/2017-08-13', '2017-08-07/2017-08-13',\n",
       "             '2017-08-07/2017-08-13', '2017-08-07/2017-08-13',\n",
       "             '2017-08-14/2017-08-20', '2017-08-14/2017-08-20'],\n",
       "            dtype='period[W-SUN]', name='date', length=227)"
      ]
     },
     "execution_count": 5,
     "metadata": {},
     "output_type": "execute_result"
    }
   ],
   "source": [
    "average_sales.index.asfreq('W')"
   ]
  },
  {
   "cell_type": "code",
   "execution_count": 6,
   "id": "af51129a",
   "metadata": {
    "execution": {
     "iopub.execute_input": "2021-10-22T20:25:17.952699Z",
     "iopub.status.busy": "2021-10-22T20:25:17.952049Z",
     "iopub.status.idle": "2021-10-22T20:25:18.062540Z",
     "shell.execute_reply": "2021-10-22T20:25:18.062044Z",
     "shell.execute_reply.started": "2021-10-22T18:42:22.306664Z"
    },
    "papermill": {
     "duration": 0.153867,
     "end_time": "2021-10-22T20:25:18.062682",
     "exception": false,
     "start_time": "2021-10-22T20:25:17.908815",
     "status": "completed"
    },
    "tags": []
   },
   "outputs": [
    {
     "data": {
      "text/html": [
       "        <script type=\"text/javascript\">\n",
       "        window.PlotlyConfig = {MathJaxConfig: 'local'};\n",
       "        if (window.MathJax) {MathJax.Hub.Config({SVG: {font: \"STIX-Web\"}});}\n",
       "        if (typeof require !== 'undefined') {\n",
       "        require.undef(\"plotly\");\n",
       "        requirejs.config({\n",
       "            paths: {\n",
       "                'plotly': ['https://cdn.plot.ly/plotly-2.4.2.min']\n",
       "            }\n",
       "        });\n",
       "        require(['plotly'], function(Plotly) {\n",
       "            window._Plotly = Plotly;\n",
       "        });\n",
       "        }\n",
       "        </script>\n",
       "        "
      ]
     },
     "metadata": {},
     "output_type": "display_data"
    },
    {
     "data": {
      "text/html": [
       "<div>                            <div id=\"dd78beaa-78d3-43b0-ba50-504d523144c4\" class=\"plotly-graph-div\" style=\"height:525px; width:100%;\"></div>            <script type=\"text/javascript\">                require([\"plotly\"], function(Plotly) {                    window.PLOTLYENV=window.PLOTLYENV || {};                                    if (document.getElementById(\"dd78beaa-78d3-43b0-ba50-504d523144c4\")) {                    Plotly.newPlot(                        \"dd78beaa-78d3-43b0-ba50-504d523144c4\",                        [{\"type\":\"scatter\",\"x\":[\"2017-01-01T00:00:00\",\"2017-01-02T00:00:00\",\"2017-01-03T00:00:00\",\"2017-01-04T00:00:00\",\"2017-01-05T00:00:00\",\"2017-01-06T00:00:00\",\"2017-01-07T00:00:00\",\"2017-01-08T00:00:00\",\"2017-01-09T00:00:00\",\"2017-01-10T00:00:00\",\"2017-01-11T00:00:00\",\"2017-01-12T00:00:00\",\"2017-01-13T00:00:00\",\"2017-01-14T00:00:00\",\"2017-01-15T00:00:00\",\"2017-01-16T00:00:00\",\"2017-01-17T00:00:00\",\"2017-01-18T00:00:00\",\"2017-01-19T00:00:00\",\"2017-01-20T00:00:00\",\"2017-01-21T00:00:00\",\"2017-01-22T00:00:00\",\"2017-01-23T00:00:00\",\"2017-01-24T00:00:00\",\"2017-01-25T00:00:00\",\"2017-01-26T00:00:00\",\"2017-01-27T00:00:00\",\"2017-01-28T00:00:00\",\"2017-01-29T00:00:00\",\"2017-01-30T00:00:00\",\"2017-01-31T00:00:00\",\"2017-02-01T00:00:00\",\"2017-02-02T00:00:00\",\"2017-02-03T00:00:00\",\"2017-02-04T00:00:00\",\"2017-02-05T00:00:00\",\"2017-02-06T00:00:00\",\"2017-02-07T00:00:00\",\"2017-02-08T00:00:00\",\"2017-02-09T00:00:00\",\"2017-02-10T00:00:00\",\"2017-02-11T00:00:00\",\"2017-02-12T00:00:00\",\"2017-02-13T00:00:00\",\"2017-02-14T00:00:00\",\"2017-02-15T00:00:00\",\"2017-02-16T00:00:00\",\"2017-02-17T00:00:00\",\"2017-02-18T00:00:00\",\"2017-02-19T00:00:00\",\"2017-02-20T00:00:00\",\"2017-02-21T00:00:00\",\"2017-02-22T00:00:00\",\"2017-02-23T00:00:00\",\"2017-02-24T00:00:00\",\"2017-02-25T00:00:00\",\"2017-02-26T00:00:00\",\"2017-02-27T00:00:00\",\"2017-02-28T00:00:00\",\"2017-03-01T00:00:00\",\"2017-03-02T00:00:00\",\"2017-03-03T00:00:00\",\"2017-03-04T00:00:00\",\"2017-03-05T00:00:00\",\"2017-03-06T00:00:00\",\"2017-03-07T00:00:00\",\"2017-03-08T00:00:00\",\"2017-03-09T00:00:00\",\"2017-03-10T00:00:00\",\"2017-03-11T00:00:00\",\"2017-03-12T00:00:00\",\"2017-03-13T00:00:00\",\"2017-03-14T00:00:00\",\"2017-03-15T00:00:00\",\"2017-03-16T00:00:00\",\"2017-03-17T00:00:00\",\"2017-03-18T00:00:00\",\"2017-03-19T00:00:00\",\"2017-03-20T00:00:00\",\"2017-03-21T00:00:00\",\"2017-03-22T00:00:00\",\"2017-03-23T00:00:00\",\"2017-03-24T00:00:00\",\"2017-03-25T00:00:00\",\"2017-03-26T00:00:00\",\"2017-03-27T00:00:00\",\"2017-03-28T00:00:00\",\"2017-03-29T00:00:00\",\"2017-03-30T00:00:00\",\"2017-03-31T00:00:00\",\"2017-04-01T00:00:00\",\"2017-04-02T00:00:00\",\"2017-04-03T00:00:00\",\"2017-04-04T00:00:00\",\"2017-04-05T00:00:00\",\"2017-04-06T00:00:00\",\"2017-04-07T00:00:00\",\"2017-04-08T00:00:00\",\"2017-04-09T00:00:00\",\"2017-04-10T00:00:00\",\"2017-04-11T00:00:00\",\"2017-04-12T00:00:00\",\"2017-04-13T00:00:00\",\"2017-04-14T00:00:00\",\"2017-04-15T00:00:00\",\"2017-04-16T00:00:00\",\"2017-04-17T00:00:00\",\"2017-04-18T00:00:00\",\"2017-04-19T00:00:00\",\"2017-04-20T00:00:00\",\"2017-04-21T00:00:00\",\"2017-04-22T00:00:00\",\"2017-04-23T00:00:00\",\"2017-04-24T00:00:00\",\"2017-04-25T00:00:00\",\"2017-04-26T00:00:00\",\"2017-04-27T00:00:00\",\"2017-04-28T00:00:00\",\"2017-04-29T00:00:00\",\"2017-04-30T00:00:00\",\"2017-05-01T00:00:00\",\"2017-05-02T00:00:00\",\"2017-05-03T00:00:00\",\"2017-05-04T00:00:00\",\"2017-05-05T00:00:00\",\"2017-05-06T00:00:00\",\"2017-05-07T00:00:00\",\"2017-05-08T00:00:00\",\"2017-05-09T00:00:00\",\"2017-05-10T00:00:00\",\"2017-05-11T00:00:00\",\"2017-05-12T00:00:00\",\"2017-05-13T00:00:00\",\"2017-05-14T00:00:00\",\"2017-05-15T00:00:00\",\"2017-05-16T00:00:00\",\"2017-05-17T00:00:00\",\"2017-05-18T00:00:00\",\"2017-05-19T00:00:00\",\"2017-05-20T00:00:00\",\"2017-05-21T00:00:00\",\"2017-05-22T00:00:00\",\"2017-05-23T00:00:00\",\"2017-05-24T00:00:00\",\"2017-05-25T00:00:00\",\"2017-05-26T00:00:00\",\"2017-05-27T00:00:00\",\"2017-05-28T00:00:00\",\"2017-05-29T00:00:00\",\"2017-05-30T00:00:00\",\"2017-05-31T00:00:00\",\"2017-06-01T00:00:00\",\"2017-06-02T00:00:00\",\"2017-06-03T00:00:00\",\"2017-06-04T00:00:00\",\"2017-06-05T00:00:00\",\"2017-06-06T00:00:00\",\"2017-06-07T00:00:00\",\"2017-06-08T00:00:00\",\"2017-06-09T00:00:00\",\"2017-06-10T00:00:00\",\"2017-06-11T00:00:00\",\"2017-06-12T00:00:00\",\"2017-06-13T00:00:00\",\"2017-06-14T00:00:00\",\"2017-06-15T00:00:00\",\"2017-06-16T00:00:00\",\"2017-06-17T00:00:00\",\"2017-06-18T00:00:00\",\"2017-06-19T00:00:00\",\"2017-06-20T00:00:00\",\"2017-06-21T00:00:00\",\"2017-06-22T00:00:00\",\"2017-06-23T00:00:00\",\"2017-06-24T00:00:00\",\"2017-06-25T00:00:00\",\"2017-06-26T00:00:00\",\"2017-06-27T00:00:00\",\"2017-06-28T00:00:00\",\"2017-06-29T00:00:00\",\"2017-06-30T00:00:00\",\"2017-07-01T00:00:00\",\"2017-07-02T00:00:00\",\"2017-07-03T00:00:00\",\"2017-07-04T00:00:00\",\"2017-07-05T00:00:00\",\"2017-07-06T00:00:00\",\"2017-07-07T00:00:00\",\"2017-07-08T00:00:00\",\"2017-07-09T00:00:00\",\"2017-07-10T00:00:00\",\"2017-07-11T00:00:00\",\"2017-07-12T00:00:00\",\"2017-07-13T00:00:00\",\"2017-07-14T00:00:00\",\"2017-07-15T00:00:00\",\"2017-07-16T00:00:00\",\"2017-07-17T00:00:00\",\"2017-07-18T00:00:00\",\"2017-07-19T00:00:00\",\"2017-07-20T00:00:00\",\"2017-07-21T00:00:00\",\"2017-07-22T00:00:00\",\"2017-07-23T00:00:00\",\"2017-07-24T00:00:00\",\"2017-07-25T00:00:00\",\"2017-07-26T00:00:00\",\"2017-07-27T00:00:00\",\"2017-07-28T00:00:00\",\"2017-07-29T00:00:00\",\"2017-07-30T00:00:00\",\"2017-07-31T00:00:00\",\"2017-08-01T00:00:00\",\"2017-08-02T00:00:00\",\"2017-08-03T00:00:00\",\"2017-08-04T00:00:00\",\"2017-08-05T00:00:00\",\"2017-08-06T00:00:00\",\"2017-08-07T00:00:00\",\"2017-08-08T00:00:00\",\"2017-08-09T00:00:00\",\"2017-08-10T00:00:00\",\"2017-08-11T00:00:00\",\"2017-08-12T00:00:00\",\"2017-08-13T00:00:00\",\"2017-08-14T00:00:00\",\"2017-08-15T00:00:00\"],\"y\":[6.780303589786756,786.928378694725,619.7402243684063,555.6080043445567,436.3753951007295,471.15613804096523,619.4199208468013,669.2164708069585,445.4124000597643,416.7427436929854,432.51553875701455,353.3309730662177,431.48088910673397,572.9800988922559,659.7784320078563,462.67601917789,421.34486136475874,439.2009117128507,340.6003057684063,407.24112855639726,601.9762766021324,644.3402684927048,447.8864265572391,404.75632703759817,417.70066942912456,323.5216256945567,405.22668846071826,548.7376014870931,603.3484809444445,391.7641795942761,436.71284283108866,539.7179477407408,420.2484470342312,468.38785181217736,635.6838055067341,646.4577054405163,441.45476665600444,414.9445641425365,439.7336572306397,350.3857956784512,422.11405154573515,530.2607480415264,603.1542648787879,445.7432278717733,360.6134607570146,418.5074944354658,362.49621608703706,425.84495667227833,596.7423367020202,481.9849175159933,425.9932996412458,402.8101442342873,414.9203335593154,379.1125141167228,458.0232878518519,575.7638736293491,435.30246238945006,418.04542544219976,532.7535516557239,565.9493321896746,469.26216558473624,495.3085164276094,631.7263451510662,671.7080191380471,443.40249219444445,427.534640838945,438.29779009971946,366.947919182211,434.26223728956234,561.826281709596,643.101474171156,423.33915826936027,393.37712381857466,457.70027349551066,392.3165919326599,455.83994066778905,583.0003177070707,649.3494043698092,463.7648203759821,418.9791953855219,430.9095426116723,376.4579180858586,442.15158558641974,582.5697625628508,618.1579555028059,440.01305557912457,394.4691069455668,462.757006191358,357.8138838372615,493.1257227160494,821.0347713013468,638.9730970246914,468.68216724410775,468.9128148157688,475.1017440555555,383.31064540011226,429.57475416666665,554.7651346565657,618.24559882211,414.92263242873173,416.0109035892256,444.3110622239057,413.5968379253648,415.7628994551066,504.2706048978676,553.0268210510662,435.41913911644224,402.467068328844,412.8693682647026,379.23906953013466,446.57457568574637,547.1115700723906,639.7700756473064,423.7219590039282,403.4770373945006,438.3609893375421,350.6790269896184,447.6075337275533,599.4836228625139,584.3149539677329,733.2768613338945,509.1605466402918,518.6572711582492,402.1630802373738,438.1584775622896,583.2872401054994,688.7657732457911,435.6383249242424,401.6897861285073,429.9112834421998,364.0013541184063,429.18766317845115,626.8108255628507,496.18401449971947,461.8605904163861,453.3130724345118,472.17037482828283,352.68686305387206,434.2174174341751,581.1825936212122,674.4887128108867,437.1128822255892,405.80907294163865,418.8011375563973,347.9844241919192,552.4753940030864,523.1312531672278,595.8314460757576,435.92207465656566,416.6505482550505,481.51635769416384,430.336236164422,515.3879456369248,660.0101622626262,772.4531540375982,512.1738782828282,452.04637932435463,473.0526582953423,374.35454602974187,446.19311788434345,557.6502155157127,681.0740442631874,431.17270423776654,409.32264862457913,441.0134168890572,370.56023960381594,468.4547853843996,615.1142260867003,541.6072509421998,443.96542858080807,441.82195120061726,429.94332844511786,342.2384012113356,427.0761756812009,540.5545606818182,613.1374066296296,423.88767961083056,382.8386469769921,410.7166021383277,353.9909107025814,450.2093935088103,677.6262187811448,727.4855317359709,519.160162074074,467.0927530941077,473.794395687991,392.9697025570707,452.18423243153757,560.23972671633,617.7515838249158,451.2675987859147,409.95217042704826,420.20201790611674,353.3397098369809,429.56768652822666,543.814323835578,617.7349601700337,459.2174647300785,409.72710939393943,430.9645219292929,386.2447069904602,439.06750797912457,523.5140553765432,574.7972734259259,458.22913978451174,400.4386266043771,415.63021558193043,370.2860982372615,468.63057362710435,579.29902678844,630.6130628236252,497.11382764898985,554.7293845140291,541.3647677053872,408.5681734747474,464.52058705274976,541.9156287833895,588.9782066649831,447.5112030398429,402.7869523599888,411.9751257070707,365.5369876373176,463.7338507418631,444.79828006649836,485.7686181094276,427.00471721705946,427.98088436531987]}],                        {\"template\":{\"data\":{\"bar\":[{\"error_x\":{\"color\":\"#2a3f5f\"},\"error_y\":{\"color\":\"#2a3f5f\"},\"marker\":{\"line\":{\"color\":\"#E5ECF6\",\"width\":0.5},\"pattern\":{\"fillmode\":\"overlay\",\"size\":10,\"solidity\":0.2}},\"type\":\"bar\"}],\"barpolar\":[{\"marker\":{\"line\":{\"color\":\"#E5ECF6\",\"width\":0.5},\"pattern\":{\"fillmode\":\"overlay\",\"size\":10,\"solidity\":0.2}},\"type\":\"barpolar\"}],\"carpet\":[{\"aaxis\":{\"endlinecolor\":\"#2a3f5f\",\"gridcolor\":\"white\",\"linecolor\":\"white\",\"minorgridcolor\":\"white\",\"startlinecolor\":\"#2a3f5f\"},\"baxis\":{\"endlinecolor\":\"#2a3f5f\",\"gridcolor\":\"white\",\"linecolor\":\"white\",\"minorgridcolor\":\"white\",\"startlinecolor\":\"#2a3f5f\"},\"type\":\"carpet\"}],\"choropleth\":[{\"colorbar\":{\"outlinewidth\":0,\"ticks\":\"\"},\"type\":\"choropleth\"}],\"contour\":[{\"colorbar\":{\"outlinewidth\":0,\"ticks\":\"\"},\"colorscale\":[[0.0,\"#0d0887\"],[0.1111111111111111,\"#46039f\"],[0.2222222222222222,\"#7201a8\"],[0.3333333333333333,\"#9c179e\"],[0.4444444444444444,\"#bd3786\"],[0.5555555555555556,\"#d8576b\"],[0.6666666666666666,\"#ed7953\"],[0.7777777777777778,\"#fb9f3a\"],[0.8888888888888888,\"#fdca26\"],[1.0,\"#f0f921\"]],\"type\":\"contour\"}],\"contourcarpet\":[{\"colorbar\":{\"outlinewidth\":0,\"ticks\":\"\"},\"type\":\"contourcarpet\"}],\"heatmap\":[{\"colorbar\":{\"outlinewidth\":0,\"ticks\":\"\"},\"colorscale\":[[0.0,\"#0d0887\"],[0.1111111111111111,\"#46039f\"],[0.2222222222222222,\"#7201a8\"],[0.3333333333333333,\"#9c179e\"],[0.4444444444444444,\"#bd3786\"],[0.5555555555555556,\"#d8576b\"],[0.6666666666666666,\"#ed7953\"],[0.7777777777777778,\"#fb9f3a\"],[0.8888888888888888,\"#fdca26\"],[1.0,\"#f0f921\"]],\"type\":\"heatmap\"}],\"heatmapgl\":[{\"colorbar\":{\"outlinewidth\":0,\"ticks\":\"\"},\"colorscale\":[[0.0,\"#0d0887\"],[0.1111111111111111,\"#46039f\"],[0.2222222222222222,\"#7201a8\"],[0.3333333333333333,\"#9c179e\"],[0.4444444444444444,\"#bd3786\"],[0.5555555555555556,\"#d8576b\"],[0.6666666666666666,\"#ed7953\"],[0.7777777777777778,\"#fb9f3a\"],[0.8888888888888888,\"#fdca26\"],[1.0,\"#f0f921\"]],\"type\":\"heatmapgl\"}],\"histogram\":[{\"marker\":{\"pattern\":{\"fillmode\":\"overlay\",\"size\":10,\"solidity\":0.2}},\"type\":\"histogram\"}],\"histogram2d\":[{\"colorbar\":{\"outlinewidth\":0,\"ticks\":\"\"},\"colorscale\":[[0.0,\"#0d0887\"],[0.1111111111111111,\"#46039f\"],[0.2222222222222222,\"#7201a8\"],[0.3333333333333333,\"#9c179e\"],[0.4444444444444444,\"#bd3786\"],[0.5555555555555556,\"#d8576b\"],[0.6666666666666666,\"#ed7953\"],[0.7777777777777778,\"#fb9f3a\"],[0.8888888888888888,\"#fdca26\"],[1.0,\"#f0f921\"]],\"type\":\"histogram2d\"}],\"histogram2dcontour\":[{\"colorbar\":{\"outlinewidth\":0,\"ticks\":\"\"},\"colorscale\":[[0.0,\"#0d0887\"],[0.1111111111111111,\"#46039f\"],[0.2222222222222222,\"#7201a8\"],[0.3333333333333333,\"#9c179e\"],[0.4444444444444444,\"#bd3786\"],[0.5555555555555556,\"#d8576b\"],[0.6666666666666666,\"#ed7953\"],[0.7777777777777778,\"#fb9f3a\"],[0.8888888888888888,\"#fdca26\"],[1.0,\"#f0f921\"]],\"type\":\"histogram2dcontour\"}],\"mesh3d\":[{\"colorbar\":{\"outlinewidth\":0,\"ticks\":\"\"},\"type\":\"mesh3d\"}],\"parcoords\":[{\"line\":{\"colorbar\":{\"outlinewidth\":0,\"ticks\":\"\"}},\"type\":\"parcoords\"}],\"pie\":[{\"automargin\":true,\"type\":\"pie\"}],\"scatter\":[{\"marker\":{\"colorbar\":{\"outlinewidth\":0,\"ticks\":\"\"}},\"type\":\"scatter\"}],\"scatter3d\":[{\"line\":{\"colorbar\":{\"outlinewidth\":0,\"ticks\":\"\"}},\"marker\":{\"colorbar\":{\"outlinewidth\":0,\"ticks\":\"\"}},\"type\":\"scatter3d\"}],\"scattercarpet\":[{\"marker\":{\"colorbar\":{\"outlinewidth\":0,\"ticks\":\"\"}},\"type\":\"scattercarpet\"}],\"scattergeo\":[{\"marker\":{\"colorbar\":{\"outlinewidth\":0,\"ticks\":\"\"}},\"type\":\"scattergeo\"}],\"scattergl\":[{\"marker\":{\"colorbar\":{\"outlinewidth\":0,\"ticks\":\"\"}},\"type\":\"scattergl\"}],\"scattermapbox\":[{\"marker\":{\"colorbar\":{\"outlinewidth\":0,\"ticks\":\"\"}},\"type\":\"scattermapbox\"}],\"scatterpolar\":[{\"marker\":{\"colorbar\":{\"outlinewidth\":0,\"ticks\":\"\"}},\"type\":\"scatterpolar\"}],\"scatterpolargl\":[{\"marker\":{\"colorbar\":{\"outlinewidth\":0,\"ticks\":\"\"}},\"type\":\"scatterpolargl\"}],\"scatterternary\":[{\"marker\":{\"colorbar\":{\"outlinewidth\":0,\"ticks\":\"\"}},\"type\":\"scatterternary\"}],\"surface\":[{\"colorbar\":{\"outlinewidth\":0,\"ticks\":\"\"},\"colorscale\":[[0.0,\"#0d0887\"],[0.1111111111111111,\"#46039f\"],[0.2222222222222222,\"#7201a8\"],[0.3333333333333333,\"#9c179e\"],[0.4444444444444444,\"#bd3786\"],[0.5555555555555556,\"#d8576b\"],[0.6666666666666666,\"#ed7953\"],[0.7777777777777778,\"#fb9f3a\"],[0.8888888888888888,\"#fdca26\"],[1.0,\"#f0f921\"]],\"type\":\"surface\"}],\"table\":[{\"cells\":{\"fill\":{\"color\":\"#EBF0F8\"},\"line\":{\"color\":\"white\"}},\"header\":{\"fill\":{\"color\":\"#C8D4E3\"},\"line\":{\"color\":\"white\"}},\"type\":\"table\"}]},\"layout\":{\"annotationdefaults\":{\"arrowcolor\":\"#2a3f5f\",\"arrowhead\":0,\"arrowwidth\":1},\"autotypenumbers\":\"strict\",\"coloraxis\":{\"colorbar\":{\"outlinewidth\":0,\"ticks\":\"\"}},\"colorscale\":{\"diverging\":[[0,\"#8e0152\"],[0.1,\"#c51b7d\"],[0.2,\"#de77ae\"],[0.3,\"#f1b6da\"],[0.4,\"#fde0ef\"],[0.5,\"#f7f7f7\"],[0.6,\"#e6f5d0\"],[0.7,\"#b8e186\"],[0.8,\"#7fbc41\"],[0.9,\"#4d9221\"],[1,\"#276419\"]],\"sequential\":[[0.0,\"#0d0887\"],[0.1111111111111111,\"#46039f\"],[0.2222222222222222,\"#7201a8\"],[0.3333333333333333,\"#9c179e\"],[0.4444444444444444,\"#bd3786\"],[0.5555555555555556,\"#d8576b\"],[0.6666666666666666,\"#ed7953\"],[0.7777777777777778,\"#fb9f3a\"],[0.8888888888888888,\"#fdca26\"],[1.0,\"#f0f921\"]],\"sequentialminus\":[[0.0,\"#0d0887\"],[0.1111111111111111,\"#46039f\"],[0.2222222222222222,\"#7201a8\"],[0.3333333333333333,\"#9c179e\"],[0.4444444444444444,\"#bd3786\"],[0.5555555555555556,\"#d8576b\"],[0.6666666666666666,\"#ed7953\"],[0.7777777777777778,\"#fb9f3a\"],[0.8888888888888888,\"#fdca26\"],[1.0,\"#f0f921\"]]},\"colorway\":[\"#636efa\",\"#EF553B\",\"#00cc96\",\"#ab63fa\",\"#FFA15A\",\"#19d3f3\",\"#FF6692\",\"#B6E880\",\"#FF97FF\",\"#FECB52\"],\"font\":{\"color\":\"#2a3f5f\"},\"geo\":{\"bgcolor\":\"white\",\"lakecolor\":\"white\",\"landcolor\":\"#E5ECF6\",\"showlakes\":true,\"showland\":true,\"subunitcolor\":\"white\"},\"hoverlabel\":{\"align\":\"left\"},\"hovermode\":\"closest\",\"mapbox\":{\"style\":\"light\"},\"paper_bgcolor\":\"white\",\"plot_bgcolor\":\"#E5ECF6\",\"polar\":{\"angularaxis\":{\"gridcolor\":\"white\",\"linecolor\":\"white\",\"ticks\":\"\"},\"bgcolor\":\"#E5ECF6\",\"radialaxis\":{\"gridcolor\":\"white\",\"linecolor\":\"white\",\"ticks\":\"\"}},\"scene\":{\"xaxis\":{\"backgroundcolor\":\"#E5ECF6\",\"gridcolor\":\"white\",\"gridwidth\":2,\"linecolor\":\"white\",\"showbackground\":true,\"ticks\":\"\",\"zerolinecolor\":\"white\"},\"yaxis\":{\"backgroundcolor\":\"#E5ECF6\",\"gridcolor\":\"white\",\"gridwidth\":2,\"linecolor\":\"white\",\"showbackground\":true,\"ticks\":\"\",\"zerolinecolor\":\"white\"},\"zaxis\":{\"backgroundcolor\":\"#E5ECF6\",\"gridcolor\":\"white\",\"gridwidth\":2,\"linecolor\":\"white\",\"showbackground\":true,\"ticks\":\"\",\"zerolinecolor\":\"white\"}},\"shapedefaults\":{\"line\":{\"color\":\"#2a3f5f\"}},\"ternary\":{\"aaxis\":{\"gridcolor\":\"white\",\"linecolor\":\"white\",\"ticks\":\"\"},\"baxis\":{\"gridcolor\":\"white\",\"linecolor\":\"white\",\"ticks\":\"\"},\"bgcolor\":\"#E5ECF6\",\"caxis\":{\"gridcolor\":\"white\",\"linecolor\":\"white\",\"ticks\":\"\"}},\"title\":{\"x\":0.05},\"xaxis\":{\"automargin\":true,\"gridcolor\":\"white\",\"linecolor\":\"white\",\"ticks\":\"\",\"title\":{\"standoff\":15},\"zerolinecolor\":\"white\",\"zerolinewidth\":2},\"yaxis\":{\"automargin\":true,\"gridcolor\":\"white\",\"linecolor\":\"white\",\"ticks\":\"\",\"title\":{\"standoff\":15},\"zerolinecolor\":\"white\",\"zerolinewidth\":2}}}},                        {\"responsive\": true}                    ).then(function(){\n",
       "                            \n",
       "var gd = document.getElementById('dd78beaa-78d3-43b0-ba50-504d523144c4');\n",
       "var x = new MutationObserver(function (mutations, observer) {{\n",
       "        var display = window.getComputedStyle(gd).display;\n",
       "        if (!display || display === 'none') {{\n",
       "            console.log([gd, 'removed!']);\n",
       "            Plotly.purge(gd);\n",
       "            observer.disconnect();\n",
       "        }}\n",
       "}});\n",
       "\n",
       "// Listen for the removal of the full notebook cells\n",
       "var notebookContainer = gd.closest('#notebook-container');\n",
       "if (notebookContainer) {{\n",
       "    x.observe(notebookContainer, {childList: true});\n",
       "}}\n",
       "\n",
       "// Listen for the clearing of the current output cell\n",
       "var outputEl = gd.closest('.output');\n",
       "if (outputEl) {{\n",
       "    x.observe(outputEl, {childList: true});\n",
       "}}\n",
       "\n",
       "                        })                };                });            </script>        </div>"
      ]
     },
     "metadata": {},
     "output_type": "display_data"
    }
   ],
   "source": [
    "trace = go.Scatter(x=average_sales.index.to_timestamp(), y=average_sales['sales'])\n",
    "data=[trace]\n",
    "fig = go.Figure(data=data)\n",
    "fig.show()"
   ]
  },
  {
   "cell_type": "code",
   "execution_count": 7,
   "id": "4d32adbb",
   "metadata": {
    "execution": {
     "iopub.execute_input": "2021-10-22T20:25:18.148091Z",
     "iopub.status.busy": "2021-10-22T20:25:18.147112Z",
     "iopub.status.idle": "2021-10-22T20:25:18.156725Z",
     "shell.execute_reply": "2021-10-22T20:25:18.157219Z",
     "shell.execute_reply.started": "2021-10-22T18:07:38.213077Z"
    },
    "papermill": {
     "duration": 0.053648,
     "end_time": "2021-10-22T20:25:18.157388",
     "exception": false,
     "start_time": "2021-10-22T20:25:18.103740",
     "status": "completed"
    },
    "tags": []
   },
   "outputs": [],
   "source": [
    "X = average_sales.copy()\n",
    "X_week = pd.Index(X.asfreq('W').index, name='week')\n",
    "X['day_of_week'] = X.index.dayofweek\n",
    "X.set_index(X_week, append=True, inplace=True)\n"
   ]
  },
  {
   "cell_type": "code",
   "execution_count": 8,
   "id": "bd46315e",
   "metadata": {
    "execution": {
     "iopub.execute_input": "2021-10-22T20:25:18.240590Z",
     "iopub.status.busy": "2021-10-22T20:25:18.239618Z",
     "iopub.status.idle": "2021-10-22T20:25:18.246008Z",
     "shell.execute_reply": "2021-10-22T20:25:18.246634Z",
     "shell.execute_reply.started": "2021-10-22T18:43:01.796002Z"
    },
    "papermill": {
     "duration": 0.049627,
     "end_time": "2021-10-22T20:25:18.246808",
     "exception": false,
     "start_time": "2021-10-22T20:25:18.197181",
     "status": "completed"
    },
    "tags": []
   },
   "outputs": [],
   "source": [
    "def color_dict(date_index) :\n",
    "    '''\n",
    "    date_index : index of pd.DataFrame\n",
    "    '''\n",
    "    a = pd.Series(range(len(date_index)))\n",
    "    a_min = a.min()\n",
    "    a_max = a.max()\n",
    "    \n",
    "    c_a = (0.8 / (a_max - a_min) * (a - a_min) + 0.1) * 256 ** 3\n",
    "    c_a = c_a.astype(int)\n",
    "\n",
    "    c_a = ['#'+hex(c).replace('0x','') for c in c_a]\n",
    "\n",
    "    d = {}\n",
    "    dump = [d.update({x: c}) for x, c in zip(a, c_a)]\n",
    "\n",
    "    return d\n",
    "    "
   ]
  },
  {
   "cell_type": "code",
   "execution_count": 9,
   "id": "52874ab8",
   "metadata": {
    "execution": {
     "iopub.execute_input": "2021-10-22T20:25:18.329803Z",
     "iopub.status.busy": "2021-10-22T20:25:18.328902Z",
     "iopub.status.idle": "2021-10-22T20:25:18.641194Z",
     "shell.execute_reply": "2021-10-22T20:25:18.641651Z",
     "shell.execute_reply.started": "2021-10-22T18:07:44.053923Z"
    },
    "papermill": {
     "duration": 0.35555,
     "end_time": "2021-10-22T20:25:18.641826",
     "exception": false,
     "start_time": "2021-10-22T20:25:18.286276",
     "status": "completed"
    },
    "tags": []
   },
   "outputs": [
    {
     "data": {
      "text/html": [
       "<div>                            <div id=\"05dfe5f2-652e-420f-8467-4e3542099fb0\" class=\"plotly-graph-div\" style=\"height:525px; width:100%;\"></div>            <script type=\"text/javascript\">                require([\"plotly\"], function(Plotly) {                    window.PLOTLYENV=window.PLOTLYENV || {};                                    if (document.getElementById(\"05dfe5f2-652e-420f-8467-4e3542099fb0\")) {                    Plotly.newPlot(                        \"05dfe5f2-652e-420f-8467-4e3542099fb0\",                        [{\"line\":{\"color\":\"#199999\"},\"type\":\"scatter\",\"x\":[6],\"y\":[6.780303589786756]},{\"line\":{\"color\":\"#1a8195\"},\"type\":\"scatter\",\"x\":[0,1,2,3,4,5,6],\"y\":[786.928378694725,619.7402243684063,555.6080043445567,436.3753951007295,471.15613804096523,619.4199208468013,669.2164708069585]},{\"line\":{\"color\":\"#1b6992\"},\"type\":\"scatter\",\"x\":[0,1,2,3,4,5,6],\"y\":[786.928378694725,619.7402243684063,555.6080043445567,436.3753951007295,471.15613804096523,619.4199208468013,669.2164708069585]},{\"line\":{\"color\":\"#1c518e\"},\"type\":\"scatter\",\"x\":[0,1,2,3,4,5,6],\"y\":[786.928378694725,619.7402243684063,555.6080043445567,436.3753951007295,471.15613804096523,619.4199208468013,669.2164708069585]},{\"line\":{\"color\":\"#1d398b\"},\"type\":\"scatter\",\"x\":[0,1,2,3,4,5,6],\"y\":[786.928378694725,619.7402243684063,555.6080043445567,436.3753951007295,471.15613804096523,619.4199208468013,669.2164708069585]},{\"line\":{\"color\":\"#1e2187\"},\"type\":\"scatter\",\"x\":[0,1,2,3,4,5,6],\"y\":[786.928378694725,619.7402243684063,555.6080043445567,436.3753951007295,471.15613804096523,619.4199208468013,669.2164708069585]},{\"line\":{\"color\":\"#1f0983\"},\"type\":\"scatter\",\"x\":[0,1,2,3,4,5,6],\"y\":[786.928378694725,619.7402243684063,555.6080043445567,436.3753951007295,471.15613804096523,619.4199208468013,669.2164708069585]},{\"line\":{\"color\":\"#1ff180\"},\"type\":\"scatter\",\"x\":[0,1,2,3,4,5,6],\"y\":[786.928378694725,619.7402243684063,555.6080043445567,436.3753951007295,471.15613804096523,619.4199208468013,669.2164708069585]},{\"line\":{\"color\":\"#20d97c\"},\"type\":\"scatter\",\"x\":[0,1,2,3,4,5,6],\"y\":[445.4124000597643,416.7427436929854,432.51553875701455,353.3309730662177,431.48088910673397,572.9800988922559,659.7784320078563]},{\"line\":{\"color\":\"#21c178\"},\"type\":\"scatter\",\"x\":[0,1,2,3,4,5,6],\"y\":[445.4124000597643,416.7427436929854,432.51553875701455,353.3309730662177,431.48088910673397,572.9800988922559,659.7784320078563]},{\"line\":{\"color\":\"#22a975\"},\"type\":\"scatter\",\"x\":[0,1,2,3,4,5,6],\"y\":[445.4124000597643,416.7427436929854,432.51553875701455,353.3309730662177,431.48088910673397,572.9800988922559,659.7784320078563]},{\"line\":{\"color\":\"#239171\"},\"type\":\"scatter\",\"x\":[0,1,2,3,4,5,6],\"y\":[445.4124000597643,416.7427436929854,432.51553875701455,353.3309730662177,431.48088910673397,572.9800988922559,659.7784320078563]},{\"line\":{\"color\":\"#24796e\"},\"type\":\"scatter\",\"x\":[0,1,2,3,4,5,6],\"y\":[445.4124000597643,416.7427436929854,432.51553875701455,353.3309730662177,431.48088910673397,572.9800988922559,659.7784320078563]},{\"line\":{\"color\":\"#25616a\"},\"type\":\"scatter\",\"x\":[0,1,2,3,4,5,6],\"y\":[445.4124000597643,416.7427436929854,432.51553875701455,353.3309730662177,431.48088910673397,572.9800988922559,659.7784320078563]},{\"line\":{\"color\":\"#264966\"},\"type\":\"scatter\",\"x\":[0,1,2,3,4,5,6],\"y\":[445.4124000597643,416.7427436929854,432.51553875701455,353.3309730662177,431.48088910673397,572.9800988922559,659.7784320078563]},{\"line\":{\"color\":\"#273163\"},\"type\":\"scatter\",\"x\":[0,1,2,3,4,5,6],\"y\":[462.67601917789,421.34486136475874,439.2009117128507,340.6003057684063,407.24112855639726,601.9762766021324,644.3402684927048]},{\"line\":{\"color\":\"#28195f\"},\"type\":\"scatter\",\"x\":[0,1,2,3,4,5,6],\"y\":[462.67601917789,421.34486136475874,439.2009117128507,340.6003057684063,407.24112855639726,601.9762766021324,644.3402684927048]},{\"line\":{\"color\":\"#29015b\"},\"type\":\"scatter\",\"x\":[0,1,2,3,4,5,6],\"y\":[462.67601917789,421.34486136475874,439.2009117128507,340.6003057684063,407.24112855639726,601.9762766021324,644.3402684927048]},{\"line\":{\"color\":\"#29e958\"},\"type\":\"scatter\",\"x\":[0,1,2,3,4,5,6],\"y\":[462.67601917789,421.34486136475874,439.2009117128507,340.6003057684063,407.24112855639726,601.9762766021324,644.3402684927048]},{\"line\":{\"color\":\"#2ad154\"},\"type\":\"scatter\",\"x\":[0,1,2,3,4,5,6],\"y\":[462.67601917789,421.34486136475874,439.2009117128507,340.6003057684063,407.24112855639726,601.9762766021324,644.3402684927048]},{\"line\":{\"color\":\"#2bb951\"},\"type\":\"scatter\",\"x\":[0,1,2,3,4,5,6],\"y\":[462.67601917789,421.34486136475874,439.2009117128507,340.6003057684063,407.24112855639726,601.9762766021324,644.3402684927048]},{\"line\":{\"color\":\"#2ca14d\"},\"type\":\"scatter\",\"x\":[0,1,2,3,4,5,6],\"y\":[462.67601917789,421.34486136475874,439.2009117128507,340.6003057684063,407.24112855639726,601.9762766021324,644.3402684927048]},{\"line\":{\"color\":\"#2d8949\"},\"type\":\"scatter\",\"x\":[0,1,2,3,4,5,6],\"y\":[447.8864265572391,404.75632703759817,417.70066942912456,323.5216256945567,405.22668846071826,548.7376014870931,603.3484809444445]},{\"line\":{\"color\":\"#2e7146\"},\"type\":\"scatter\",\"x\":[0,1,2,3,4,5,6],\"y\":[447.8864265572391,404.75632703759817,417.70066942912456,323.5216256945567,405.22668846071826,548.7376014870931,603.3484809444445]},{\"line\":{\"color\":\"#2f5942\"},\"type\":\"scatter\",\"x\":[0,1,2,3,4,5,6],\"y\":[447.8864265572391,404.75632703759817,417.70066942912456,323.5216256945567,405.22668846071826,548.7376014870931,603.3484809444445]},{\"line\":{\"color\":\"#30413e\"},\"type\":\"scatter\",\"x\":[0,1,2,3,4,5,6],\"y\":[447.8864265572391,404.75632703759817,417.70066942912456,323.5216256945567,405.22668846071826,548.7376014870931,603.3484809444445]},{\"line\":{\"color\":\"#31293b\"},\"type\":\"scatter\",\"x\":[0,1,2,3,4,5,6],\"y\":[447.8864265572391,404.75632703759817,417.70066942912456,323.5216256945567,405.22668846071826,548.7376014870931,603.3484809444445]},{\"line\":{\"color\":\"#321137\"},\"type\":\"scatter\",\"x\":[0,1,2,3,4,5,6],\"y\":[447.8864265572391,404.75632703759817,417.70066942912456,323.5216256945567,405.22668846071826,548.7376014870931,603.3484809444445]},{\"line\":{\"color\":\"#32f934\"},\"type\":\"scatter\",\"x\":[0,1,2,3,4,5,6],\"y\":[447.8864265572391,404.75632703759817,417.70066942912456,323.5216256945567,405.22668846071826,548.7376014870931,603.3484809444445]},{\"line\":{\"color\":\"#33e130\"},\"type\":\"scatter\",\"x\":[0,1,2,3,4,5,6],\"y\":[391.7641795942761,436.71284283108866,539.7179477407408,420.2484470342312,468.38785181217736,635.6838055067341,646.4577054405163]},{\"line\":{\"color\":\"#34c92c\"},\"type\":\"scatter\",\"x\":[0,1,2,3,4,5,6],\"y\":[391.7641795942761,436.71284283108866,539.7179477407408,420.2484470342312,468.38785181217736,635.6838055067341,646.4577054405163]},{\"line\":{\"color\":\"#35b129\"},\"type\":\"scatter\",\"x\":[0,1,2,3,4,5,6],\"y\":[391.7641795942761,436.71284283108866,539.7179477407408,420.2484470342312,468.38785181217736,635.6838055067341,646.4577054405163]},{\"line\":{\"color\":\"#369925\"},\"type\":\"scatter\",\"x\":[0,1,2,3,4,5,6],\"y\":[391.7641795942761,436.71284283108866,539.7179477407408,420.2484470342312,468.38785181217736,635.6838055067341,646.4577054405163]},{\"line\":{\"color\":\"#378121\"},\"type\":\"scatter\",\"x\":[0,1,2,3,4,5,6],\"y\":[391.7641795942761,436.71284283108866,539.7179477407408,420.2484470342312,468.38785181217736,635.6838055067341,646.4577054405163]},{\"line\":{\"color\":\"#38691e\"},\"type\":\"scatter\",\"x\":[0,1,2,3,4,5,6],\"y\":[391.7641795942761,436.71284283108866,539.7179477407408,420.2484470342312,468.38785181217736,635.6838055067341,646.4577054405163]},{\"line\":{\"color\":\"#39511a\"},\"type\":\"scatter\",\"x\":[0,1,2,3,4,5,6],\"y\":[391.7641795942761,436.71284283108866,539.7179477407408,420.2484470342312,468.38785181217736,635.6838055067341,646.4577054405163]},{\"line\":{\"color\":\"#3a3917\"},\"type\":\"scatter\",\"x\":[0,1,2,3,4,5,6],\"y\":[441.45476665600444,414.9445641425365,439.7336572306397,350.3857956784512,422.11405154573515,530.2607480415264,603.1542648787879]},{\"line\":{\"color\":\"#3b2113\"},\"type\":\"scatter\",\"x\":[0,1,2,3,4,5,6],\"y\":[441.45476665600444,414.9445641425365,439.7336572306397,350.3857956784512,422.11405154573515,530.2607480415264,603.1542648787879]},{\"line\":{\"color\":\"#3c090f\"},\"type\":\"scatter\",\"x\":[0,1,2,3,4,5,6],\"y\":[441.45476665600444,414.9445641425365,439.7336572306397,350.3857956784512,422.11405154573515,530.2607480415264,603.1542648787879]},{\"line\":{\"color\":\"#3cf10c\"},\"type\":\"scatter\",\"x\":[0,1,2,3,4,5,6],\"y\":[441.45476665600444,414.9445641425365,439.7336572306397,350.3857956784512,422.11405154573515,530.2607480415264,603.1542648787879]},{\"line\":{\"color\":\"#3dd908\"},\"type\":\"scatter\",\"x\":[0,1,2,3,4,5,6],\"y\":[441.45476665600444,414.9445641425365,439.7336572306397,350.3857956784512,422.11405154573515,530.2607480415264,603.1542648787879]},{\"line\":{\"color\":\"#3ec104\"},\"type\":\"scatter\",\"x\":[0,1,2,3,4,5,6],\"y\":[441.45476665600444,414.9445641425365,439.7336572306397,350.3857956784512,422.11405154573515,530.2607480415264,603.1542648787879]},{\"line\":{\"color\":\"#3fa901\"},\"type\":\"scatter\",\"x\":[0,1,2,3,4,5,6],\"y\":[441.45476665600444,414.9445641425365,439.7336572306397,350.3857956784512,422.11405154573515,530.2607480415264,603.1542648787879]},{\"line\":{\"color\":\"#4090fd\"},\"type\":\"scatter\",\"x\":[0,1,2,3,4,5,6],\"y\":[445.7432278717733,360.6134607570146,418.5074944354658,362.49621608703706,425.84495667227833,596.7423367020202,481.9849175159933]},{\"line\":{\"color\":\"#4178fa\"},\"type\":\"scatter\",\"x\":[0,1,2,3,4,5,6],\"y\":[445.7432278717733,360.6134607570146,418.5074944354658,362.49621608703706,425.84495667227833,596.7423367020202,481.9849175159933]},{\"line\":{\"color\":\"#4260f6\"},\"type\":\"scatter\",\"x\":[0,1,2,3,4,5,6],\"y\":[445.7432278717733,360.6134607570146,418.5074944354658,362.49621608703706,425.84495667227833,596.7423367020202,481.9849175159933]},{\"line\":{\"color\":\"#4348f2\"},\"type\":\"scatter\",\"x\":[0,1,2,3,4,5,6],\"y\":[445.7432278717733,360.6134607570146,418.5074944354658,362.49621608703706,425.84495667227833,596.7423367020202,481.9849175159933]},{\"line\":{\"color\":\"#4430ef\"},\"type\":\"scatter\",\"x\":[0,1,2,3,4,5,6],\"y\":[445.7432278717733,360.6134607570146,418.5074944354658,362.49621608703706,425.84495667227833,596.7423367020202,481.9849175159933]},{\"line\":{\"color\":\"#4518eb\"},\"type\":\"scatter\",\"x\":[0,1,2,3,4,5,6],\"y\":[445.7432278717733,360.6134607570146,418.5074944354658,362.49621608703706,425.84495667227833,596.7423367020202,481.9849175159933]},{\"line\":{\"color\":\"#4600e7\"},\"type\":\"scatter\",\"x\":[0,1,2,3,4,5,6],\"y\":[445.7432278717733,360.6134607570146,418.5074944354658,362.49621608703706,425.84495667227833,596.7423367020202,481.9849175159933]},{\"line\":{\"color\":\"#46e8e4\"},\"type\":\"scatter\",\"x\":[0,1,2,3,4,5,6],\"y\":[425.9932996412458,402.8101442342873,414.9203335593154,379.1125141167228,458.0232878518519,575.7638736293491,435.30246238945006]},{\"line\":{\"color\":\"#47d0e0\"},\"type\":\"scatter\",\"x\":[0,1,2,3,4,5,6],\"y\":[425.9932996412458,402.8101442342873,414.9203335593154,379.1125141167228,458.0232878518519,575.7638736293491,435.30246238945006]},{\"line\":{\"color\":\"#48b8dd\"},\"type\":\"scatter\",\"x\":[0,1,2,3,4,5,6],\"y\":[425.9932996412458,402.8101442342873,414.9203335593154,379.1125141167228,458.0232878518519,575.7638736293491,435.30246238945006]},{\"line\":{\"color\":\"#49a0d9\"},\"type\":\"scatter\",\"x\":[0,1,2,3,4,5,6],\"y\":[425.9932996412458,402.8101442342873,414.9203335593154,379.1125141167228,458.0232878518519,575.7638736293491,435.30246238945006]},{\"line\":{\"color\":\"#4a88d5\"},\"type\":\"scatter\",\"x\":[0,1,2,3,4,5,6],\"y\":[425.9932996412458,402.8101442342873,414.9203335593154,379.1125141167228,458.0232878518519,575.7638736293491,435.30246238945006]},{\"line\":{\"color\":\"#4b70d2\"},\"type\":\"scatter\",\"x\":[0,1,2,3,4,5,6],\"y\":[425.9932996412458,402.8101442342873,414.9203335593154,379.1125141167228,458.0232878518519,575.7638736293491,435.30246238945006]},{\"line\":{\"color\":\"#4c58ce\"},\"type\":\"scatter\",\"x\":[0,1,2,3,4,5,6],\"y\":[425.9932996412458,402.8101442342873,414.9203335593154,379.1125141167228,458.0232878518519,575.7638736293491,435.30246238945006]},{\"line\":{\"color\":\"#4d40ca\"},\"type\":\"scatter\",\"x\":[0,1,2,3,4,5,6],\"y\":[418.04542544219976,532.7535516557239,565.9493321896746,469.26216558473624,495.3085164276094,631.7263451510662,671.7080191380471]},{\"line\":{\"color\":\"#4e28c7\"},\"type\":\"scatter\",\"x\":[0,1,2,3,4,5,6],\"y\":[418.04542544219976,532.7535516557239,565.9493321896746,469.26216558473624,495.3085164276094,631.7263451510662,671.7080191380471]},{\"line\":{\"color\":\"#4f10c3\"},\"type\":\"scatter\",\"x\":[0,1,2,3,4,5,6],\"y\":[418.04542544219976,532.7535516557239,565.9493321896746,469.26216558473624,495.3085164276094,631.7263451510662,671.7080191380471]},{\"line\":{\"color\":\"#4ff8c0\"},\"type\":\"scatter\",\"x\":[0,1,2,3,4,5,6],\"y\":[418.04542544219976,532.7535516557239,565.9493321896746,469.26216558473624,495.3085164276094,631.7263451510662,671.7080191380471]},{\"line\":{\"color\":\"#50e0bc\"},\"type\":\"scatter\",\"x\":[0,1,2,3,4,5,6],\"y\":[418.04542544219976,532.7535516557239,565.9493321896746,469.26216558473624,495.3085164276094,631.7263451510662,671.7080191380471]},{\"line\":{\"color\":\"#51c8b8\"},\"type\":\"scatter\",\"x\":[0,1,2,3,4,5,6],\"y\":[418.04542544219976,532.7535516557239,565.9493321896746,469.26216558473624,495.3085164276094,631.7263451510662,671.7080191380471]},{\"line\":{\"color\":\"#52b0b5\"},\"type\":\"scatter\",\"x\":[0,1,2,3,4,5,6],\"y\":[418.04542544219976,532.7535516557239,565.9493321896746,469.26216558473624,495.3085164276094,631.7263451510662,671.7080191380471]},{\"line\":{\"color\":\"#5398b1\"},\"type\":\"scatter\",\"x\":[0,1,2,3,4,5,6],\"y\":[443.40249219444445,427.534640838945,438.29779009971946,366.947919182211,434.26223728956234,561.826281709596,643.101474171156]},{\"line\":{\"color\":\"#5480ad\"},\"type\":\"scatter\",\"x\":[0,1,2,3,4,5,6],\"y\":[443.40249219444445,427.534640838945,438.29779009971946,366.947919182211,434.26223728956234,561.826281709596,643.101474171156]},{\"line\":{\"color\":\"#5568aa\"},\"type\":\"scatter\",\"x\":[0,1,2,3,4,5,6],\"y\":[443.40249219444445,427.534640838945,438.29779009971946,366.947919182211,434.26223728956234,561.826281709596,643.101474171156]},{\"line\":{\"color\":\"#5650a6\"},\"type\":\"scatter\",\"x\":[0,1,2,3,4,5,6],\"y\":[443.40249219444445,427.534640838945,438.29779009971946,366.947919182211,434.26223728956234,561.826281709596,643.101474171156]},{\"line\":{\"color\":\"#5738a3\"},\"type\":\"scatter\",\"x\":[0,1,2,3,4,5,6],\"y\":[443.40249219444445,427.534640838945,438.29779009971946,366.947919182211,434.26223728956234,561.826281709596,643.101474171156]},{\"line\":{\"color\":\"#58209f\"},\"type\":\"scatter\",\"x\":[0,1,2,3,4,5,6],\"y\":[443.40249219444445,427.534640838945,438.29779009971946,366.947919182211,434.26223728956234,561.826281709596,643.101474171156]},{\"line\":{\"color\":\"#59089b\"},\"type\":\"scatter\",\"x\":[0,1,2,3,4,5,6],\"y\":[443.40249219444445,427.534640838945,438.29779009971946,366.947919182211,434.26223728956234,561.826281709596,643.101474171156]},{\"line\":{\"color\":\"#59f098\"},\"type\":\"scatter\",\"x\":[0,1,2,3,4,5,6],\"y\":[423.33915826936027,393.37712381857466,457.70027349551066,392.3165919326599,455.83994066778905,583.0003177070707,649.3494043698092]},{\"line\":{\"color\":\"#5ad894\"},\"type\":\"scatter\",\"x\":[0,1,2,3,4,5,6],\"y\":[423.33915826936027,393.37712381857466,457.70027349551066,392.3165919326599,455.83994066778905,583.0003177070707,649.3494043698092]},{\"line\":{\"color\":\"#5bc090\"},\"type\":\"scatter\",\"x\":[0,1,2,3,4,5,6],\"y\":[423.33915826936027,393.37712381857466,457.70027349551066,392.3165919326599,455.83994066778905,583.0003177070707,649.3494043698092]},{\"line\":{\"color\":\"#5ca88d\"},\"type\":\"scatter\",\"x\":[0,1,2,3,4,5,6],\"y\":[423.33915826936027,393.37712381857466,457.70027349551066,392.3165919326599,455.83994066778905,583.0003177070707,649.3494043698092]},{\"line\":{\"color\":\"#5d9089\"},\"type\":\"scatter\",\"x\":[0,1,2,3,4,5,6],\"y\":[423.33915826936027,393.37712381857466,457.70027349551066,392.3165919326599,455.83994066778905,583.0003177070707,649.3494043698092]},{\"line\":{\"color\":\"#5e7886\"},\"type\":\"scatter\",\"x\":[0,1,2,3,4,5,6],\"y\":[423.33915826936027,393.37712381857466,457.70027349551066,392.3165919326599,455.83994066778905,583.0003177070707,649.3494043698092]},{\"line\":{\"color\":\"#5f6082\"},\"type\":\"scatter\",\"x\":[0,1,2,3,4,5,6],\"y\":[423.33915826936027,393.37712381857466,457.70027349551066,392.3165919326599,455.83994066778905,583.0003177070707,649.3494043698092]},{\"line\":{\"color\":\"#60487e\"},\"type\":\"scatter\",\"x\":[0,1,2,3,4,5,6],\"y\":[463.7648203759821,418.9791953855219,430.9095426116723,376.4579180858586,442.15158558641974,582.5697625628508,618.1579555028059]},{\"line\":{\"color\":\"#61307b\"},\"type\":\"scatter\",\"x\":[0,1,2,3,4,5,6],\"y\":[463.7648203759821,418.9791953855219,430.9095426116723,376.4579180858586,442.15158558641974,582.5697625628508,618.1579555028059]},{\"line\":{\"color\":\"#621877\"},\"type\":\"scatter\",\"x\":[0,1,2,3,4,5,6],\"y\":[463.7648203759821,418.9791953855219,430.9095426116723,376.4579180858586,442.15158558641974,582.5697625628508,618.1579555028059]},{\"line\":{\"color\":\"#630073\"},\"type\":\"scatter\",\"x\":[0,1,2,3,4,5,6],\"y\":[463.7648203759821,418.9791953855219,430.9095426116723,376.4579180858586,442.15158558641974,582.5697625628508,618.1579555028059]},{\"line\":{\"color\":\"#63e870\"},\"type\":\"scatter\",\"x\":[0,1,2,3,4,5,6],\"y\":[463.7648203759821,418.9791953855219,430.9095426116723,376.4579180858586,442.15158558641974,582.5697625628508,618.1579555028059]},{\"line\":{\"color\":\"#64d06c\"},\"type\":\"scatter\",\"x\":[0,1,2,3,4,5,6],\"y\":[463.7648203759821,418.9791953855219,430.9095426116723,376.4579180858586,442.15158558641974,582.5697625628508,618.1579555028059]},{\"line\":{\"color\":\"#65b869\"},\"type\":\"scatter\",\"x\":[0,1,2,3,4,5,6],\"y\":[463.7648203759821,418.9791953855219,430.9095426116723,376.4579180858586,442.15158558641974,582.5697625628508,618.1579555028059]},{\"line\":{\"color\":\"#66a065\"},\"type\":\"scatter\",\"x\":[0,1,2,3,4,5,6],\"y\":[440.01305557912457,394.4691069455668,462.757006191358,357.8138838372615,493.1257227160494,821.0347713013468,638.9730970246914]},{\"line\":{\"color\":\"#678861\"},\"type\":\"scatter\",\"x\":[0,1,2,3,4,5,6],\"y\":[440.01305557912457,394.4691069455668,462.757006191358,357.8138838372615,493.1257227160494,821.0347713013468,638.9730970246914]},{\"line\":{\"color\":\"#68705e\"},\"type\":\"scatter\",\"x\":[0,1,2,3,4,5,6],\"y\":[440.01305557912457,394.4691069455668,462.757006191358,357.8138838372615,493.1257227160494,821.0347713013468,638.9730970246914]},{\"line\":{\"color\":\"#69585a\"},\"type\":\"scatter\",\"x\":[0,1,2,3,4,5,6],\"y\":[440.01305557912457,394.4691069455668,462.757006191358,357.8138838372615,493.1257227160494,821.0347713013468,638.9730970246914]},{\"line\":{\"color\":\"#6a4056\"},\"type\":\"scatter\",\"x\":[0,1,2,3,4,5,6],\"y\":[440.01305557912457,394.4691069455668,462.757006191358,357.8138838372615,493.1257227160494,821.0347713013468,638.9730970246914]},{\"line\":{\"color\":\"#6b2853\"},\"type\":\"scatter\",\"x\":[0,1,2,3,4,5,6],\"y\":[440.01305557912457,394.4691069455668,462.757006191358,357.8138838372615,493.1257227160494,821.0347713013468,638.9730970246914]},{\"line\":{\"color\":\"#6c104f\"},\"type\":\"scatter\",\"x\":[0,1,2,3,4,5,6],\"y\":[440.01305557912457,394.4691069455668,462.757006191358,357.8138838372615,493.1257227160494,821.0347713013468,638.9730970246914]},{\"line\":{\"color\":\"#6cf84c\"},\"type\":\"scatter\",\"x\":[0,1,2,3,4,5,6],\"y\":[468.68216724410775,468.9128148157688,475.1017440555555,383.31064540011226,429.57475416666665,554.7651346565657,618.24559882211]},{\"line\":{\"color\":\"#6de048\"},\"type\":\"scatter\",\"x\":[0,1,2,3,4,5,6],\"y\":[468.68216724410775,468.9128148157688,475.1017440555555,383.31064540011226,429.57475416666665,554.7651346565657,618.24559882211]},{\"line\":{\"color\":\"#6ec844\"},\"type\":\"scatter\",\"x\":[0,1,2,3,4,5,6],\"y\":[468.68216724410775,468.9128148157688,475.1017440555555,383.31064540011226,429.57475416666665,554.7651346565657,618.24559882211]},{\"line\":{\"color\":\"#6fb041\"},\"type\":\"scatter\",\"x\":[0,1,2,3,4,5,6],\"y\":[468.68216724410775,468.9128148157688,475.1017440555555,383.31064540011226,429.57475416666665,554.7651346565657,618.24559882211]},{\"line\":{\"color\":\"#70983d\"},\"type\":\"scatter\",\"x\":[0,1,2,3,4,5,6],\"y\":[468.68216724410775,468.9128148157688,475.1017440555555,383.31064540011226,429.57475416666665,554.7651346565657,618.24559882211]},{\"line\":{\"color\":\"#718039\"},\"type\":\"scatter\",\"x\":[0,1,2,3,4,5,6],\"y\":[468.68216724410775,468.9128148157688,475.1017440555555,383.31064540011226,429.57475416666665,554.7651346565657,618.24559882211]},{\"line\":{\"color\":\"#726836\"},\"type\":\"scatter\",\"x\":[0,1,2,3,4,5,6],\"y\":[468.68216724410775,468.9128148157688,475.1017440555555,383.31064540011226,429.57475416666665,554.7651346565657,618.24559882211]},{\"line\":{\"color\":\"#735032\"},\"type\":\"scatter\",\"x\":[0,1,2,3,4,5,6],\"y\":[414.92263242873173,416.0109035892256,444.3110622239057,413.5968379253648,415.7628994551066,504.2706048978676,553.0268210510662]},{\"line\":{\"color\":\"#74382f\"},\"type\":\"scatter\",\"x\":[0,1,2,3,4,5,6],\"y\":[414.92263242873173,416.0109035892256,444.3110622239057,413.5968379253648,415.7628994551066,504.2706048978676,553.0268210510662]},{\"line\":{\"color\":\"#75202b\"},\"type\":\"scatter\",\"x\":[0,1,2,3,4,5,6],\"y\":[414.92263242873173,416.0109035892256,444.3110622239057,413.5968379253648,415.7628994551066,504.2706048978676,553.0268210510662]},{\"line\":{\"color\":\"#760827\"},\"type\":\"scatter\",\"x\":[0,1,2,3,4,5,6],\"y\":[414.92263242873173,416.0109035892256,444.3110622239057,413.5968379253648,415.7628994551066,504.2706048978676,553.0268210510662]},{\"line\":{\"color\":\"#76f024\"},\"type\":\"scatter\",\"x\":[0,1,2,3,4,5,6],\"y\":[414.92263242873173,416.0109035892256,444.3110622239057,413.5968379253648,415.7628994551066,504.2706048978676,553.0268210510662]},{\"line\":{\"color\":\"#77d820\"},\"type\":\"scatter\",\"x\":[0,1,2,3,4,5,6],\"y\":[414.92263242873173,416.0109035892256,444.3110622239057,413.5968379253648,415.7628994551066,504.2706048978676,553.0268210510662]},{\"line\":{\"color\":\"#78c01c\"},\"type\":\"scatter\",\"x\":[0,1,2,3,4,5,6],\"y\":[414.92263242873173,416.0109035892256,444.3110622239057,413.5968379253648,415.7628994551066,504.2706048978676,553.0268210510662]},{\"line\":{\"color\":\"#79a819\"},\"type\":\"scatter\",\"x\":[0,1,2,3,4,5,6],\"y\":[435.41913911644224,402.467068328844,412.8693682647026,379.23906953013466,446.57457568574637,547.1115700723906,639.7700756473064]},{\"line\":{\"color\":\"#7a9015\"},\"type\":\"scatter\",\"x\":[0,1,2,3,4,5,6],\"y\":[435.41913911644224,402.467068328844,412.8693682647026,379.23906953013466,446.57457568574637,547.1115700723906,639.7700756473064]},{\"line\":{\"color\":\"#7b7812\"},\"type\":\"scatter\",\"x\":[0,1,2,3,4,5,6],\"y\":[435.41913911644224,402.467068328844,412.8693682647026,379.23906953013466,446.57457568574637,547.1115700723906,639.7700756473064]},{\"line\":{\"color\":\"#7c600e\"},\"type\":\"scatter\",\"x\":[0,1,2,3,4,5,6],\"y\":[435.41913911644224,402.467068328844,412.8693682647026,379.23906953013466,446.57457568574637,547.1115700723906,639.7700756473064]},{\"line\":{\"color\":\"#7d480a\"},\"type\":\"scatter\",\"x\":[0,1,2,3,4,5,6],\"y\":[435.41913911644224,402.467068328844,412.8693682647026,379.23906953013466,446.57457568574637,547.1115700723906,639.7700756473064]},{\"line\":{\"color\":\"#7e3007\"},\"type\":\"scatter\",\"x\":[0,1,2,3,4,5,6],\"y\":[435.41913911644224,402.467068328844,412.8693682647026,379.23906953013466,446.57457568574637,547.1115700723906,639.7700756473064]},{\"line\":{\"color\":\"#7f1803\"},\"type\":\"scatter\",\"x\":[0,1,2,3,4,5,6],\"y\":[435.41913911644224,402.467068328844,412.8693682647026,379.23906953013466,446.57457568574637,547.1115700723906,639.7700756473064]},{\"line\":{\"color\":\"#800000\"},\"type\":\"scatter\",\"x\":[0,1,2,3,4,5,6],\"y\":[423.7219590039282,403.4770373945006,438.3609893375421,350.6790269896184,447.6075337275533,599.4836228625139,584.3149539677329]},{\"line\":{\"color\":\"#80e7fc\"},\"type\":\"scatter\",\"x\":[0,1,2,3,4,5,6],\"y\":[423.7219590039282,403.4770373945006,438.3609893375421,350.6790269896184,447.6075337275533,599.4836228625139,584.3149539677329]},{\"line\":{\"color\":\"#81cff8\"},\"type\":\"scatter\",\"x\":[0,1,2,3,4,5,6],\"y\":[423.7219590039282,403.4770373945006,438.3609893375421,350.6790269896184,447.6075337275533,599.4836228625139,584.3149539677329]},{\"line\":{\"color\":\"#82b7f5\"},\"type\":\"scatter\",\"x\":[0,1,2,3,4,5,6],\"y\":[423.7219590039282,403.4770373945006,438.3609893375421,350.6790269896184,447.6075337275533,599.4836228625139,584.3149539677329]},{\"line\":{\"color\":\"#839ff1\"},\"type\":\"scatter\",\"x\":[0,1,2,3,4,5,6],\"y\":[423.7219590039282,403.4770373945006,438.3609893375421,350.6790269896184,447.6075337275533,599.4836228625139,584.3149539677329]},{\"line\":{\"color\":\"#8487ed\"},\"type\":\"scatter\",\"x\":[0,1,2,3,4,5,6],\"y\":[423.7219590039282,403.4770373945006,438.3609893375421,350.6790269896184,447.6075337275533,599.4836228625139,584.3149539677329]},{\"line\":{\"color\":\"#856fea\"},\"type\":\"scatter\",\"x\":[0,1,2,3,4,5,6],\"y\":[423.7219590039282,403.4770373945006,438.3609893375421,350.6790269896184,447.6075337275533,599.4836228625139,584.3149539677329]},{\"line\":{\"color\":\"#8657e6\"},\"type\":\"scatter\",\"x\":[0,1,2,3,4,5,6],\"y\":[733.2768613338945,509.1605466402918,518.6572711582492,402.1630802373738,438.1584775622896,583.2872401054994,688.7657732457911]},{\"line\":{\"color\":\"#873fe3\"},\"type\":\"scatter\",\"x\":[0,1,2,3,4,5,6],\"y\":[733.2768613338945,509.1605466402918,518.6572711582492,402.1630802373738,438.1584775622896,583.2872401054994,688.7657732457911]},{\"line\":{\"color\":\"#8827df\"},\"type\":\"scatter\",\"x\":[0,1,2,3,4,5,6],\"y\":[733.2768613338945,509.1605466402918,518.6572711582492,402.1630802373738,438.1584775622896,583.2872401054994,688.7657732457911]},{\"line\":{\"color\":\"#890fdb\"},\"type\":\"scatter\",\"x\":[0,1,2,3,4,5,6],\"y\":[733.2768613338945,509.1605466402918,518.6572711582492,402.1630802373738,438.1584775622896,583.2872401054994,688.7657732457911]},{\"line\":{\"color\":\"#89f7d8\"},\"type\":\"scatter\",\"x\":[0,1,2,3,4,5,6],\"y\":[733.2768613338945,509.1605466402918,518.6572711582492,402.1630802373738,438.1584775622896,583.2872401054994,688.7657732457911]},{\"line\":{\"color\":\"#8adfd4\"},\"type\":\"scatter\",\"x\":[0,1,2,3,4,5,6],\"y\":[733.2768613338945,509.1605466402918,518.6572711582492,402.1630802373738,438.1584775622896,583.2872401054994,688.7657732457911]},{\"line\":{\"color\":\"#8bc7d0\"},\"type\":\"scatter\",\"x\":[0,1,2,3,4,5,6],\"y\":[733.2768613338945,509.1605466402918,518.6572711582492,402.1630802373738,438.1584775622896,583.2872401054994,688.7657732457911]},{\"line\":{\"color\":\"#8cafcd\"},\"type\":\"scatter\",\"x\":[0,1,2,3,4,5,6],\"y\":[435.6383249242424,401.6897861285073,429.9112834421998,364.0013541184063,429.18766317845115,626.8108255628507,496.18401449971947]},{\"line\":{\"color\":\"#8d97c9\"},\"type\":\"scatter\",\"x\":[0,1,2,3,4,5,6],\"y\":[435.6383249242424,401.6897861285073,429.9112834421998,364.0013541184063,429.18766317845115,626.8108255628507,496.18401449971947]},{\"line\":{\"color\":\"#8e7fc6\"},\"type\":\"scatter\",\"x\":[0,1,2,3,4,5,6],\"y\":[435.6383249242424,401.6897861285073,429.9112834421998,364.0013541184063,429.18766317845115,626.8108255628507,496.18401449971947]},{\"line\":{\"color\":\"#8f67c2\"},\"type\":\"scatter\",\"x\":[0,1,2,3,4,5,6],\"y\":[435.6383249242424,401.6897861285073,429.9112834421998,364.0013541184063,429.18766317845115,626.8108255628507,496.18401449971947]},{\"line\":{\"color\":\"#904fbe\"},\"type\":\"scatter\",\"x\":[0,1,2,3,4,5,6],\"y\":[435.6383249242424,401.6897861285073,429.9112834421998,364.0013541184063,429.18766317845115,626.8108255628507,496.18401449971947]},{\"line\":{\"color\":\"#9137bb\"},\"type\":\"scatter\",\"x\":[0,1,2,3,4,5,6],\"y\":[435.6383249242424,401.6897861285073,429.9112834421998,364.0013541184063,429.18766317845115,626.8108255628507,496.18401449971947]},{\"line\":{\"color\":\"#921fb7\"},\"type\":\"scatter\",\"x\":[0,1,2,3,4,5,6],\"y\":[435.6383249242424,401.6897861285073,429.9112834421998,364.0013541184063,429.18766317845115,626.8108255628507,496.18401449971947]},{\"line\":{\"color\":\"#9307b3\"},\"type\":\"scatter\",\"x\":[0,1,2,3,4,5,6],\"y\":[461.8605904163861,453.3130724345118,472.17037482828283,352.68686305387206,434.2174174341751,581.1825936212122,674.4887128108867]},{\"line\":{\"color\":\"#93efb0\"},\"type\":\"scatter\",\"x\":[0,1,2,3,4,5,6],\"y\":[461.8605904163861,453.3130724345118,472.17037482828283,352.68686305387206,434.2174174341751,581.1825936212122,674.4887128108867]},{\"line\":{\"color\":\"#94d7ac\"},\"type\":\"scatter\",\"x\":[0,1,2,3,4,5,6],\"y\":[461.8605904163861,453.3130724345118,472.17037482828283,352.68686305387206,434.2174174341751,581.1825936212122,674.4887128108867]},{\"line\":{\"color\":\"#95bfa9\"},\"type\":\"scatter\",\"x\":[0,1,2,3,4,5,6],\"y\":[461.8605904163861,453.3130724345118,472.17037482828283,352.68686305387206,434.2174174341751,581.1825936212122,674.4887128108867]},{\"line\":{\"color\":\"#96a7a5\"},\"type\":\"scatter\",\"x\":[0,1,2,3,4,5,6],\"y\":[461.8605904163861,453.3130724345118,472.17037482828283,352.68686305387206,434.2174174341751,581.1825936212122,674.4887128108867]},{\"line\":{\"color\":\"#978fa1\"},\"type\":\"scatter\",\"x\":[0,1,2,3,4,5,6],\"y\":[461.8605904163861,453.3130724345118,472.17037482828283,352.68686305387206,434.2174174341751,581.1825936212122,674.4887128108867]},{\"line\":{\"color\":\"#98779e\"},\"type\":\"scatter\",\"x\":[0,1,2,3,4,5,6],\"y\":[461.8605904163861,453.3130724345118,472.17037482828283,352.68686305387206,434.2174174341751,581.1825936212122,674.4887128108867]},{\"line\":{\"color\":\"#995f9a\"},\"type\":\"scatter\",\"x\":[0,1,2,3,4,5,6],\"y\":[437.1128822255892,405.80907294163865,418.8011375563973,347.9844241919192,552.4753940030864,523.1312531672278,595.8314460757576]},{\"line\":{\"color\":\"#9a4796\"},\"type\":\"scatter\",\"x\":[0,1,2,3,4,5,6],\"y\":[437.1128822255892,405.80907294163865,418.8011375563973,347.9844241919192,552.4753940030864,523.1312531672278,595.8314460757576]},{\"line\":{\"color\":\"#9b2f93\"},\"type\":\"scatter\",\"x\":[0,1,2,3,4,5,6],\"y\":[437.1128822255892,405.80907294163865,418.8011375563973,347.9844241919192,552.4753940030864,523.1312531672278,595.8314460757576]},{\"line\":{\"color\":\"#9c178f\"},\"type\":\"scatter\",\"x\":[0,1,2,3,4,5,6],\"y\":[437.1128822255892,405.80907294163865,418.8011375563973,347.9844241919192,552.4753940030864,523.1312531672278,595.8314460757576]},{\"line\":{\"color\":\"#9cff8c\"},\"type\":\"scatter\",\"x\":[0,1,2,3,4,5,6],\"y\":[437.1128822255892,405.80907294163865,418.8011375563973,347.9844241919192,552.4753940030864,523.1312531672278,595.8314460757576]},{\"line\":{\"color\":\"#9de788\"},\"type\":\"scatter\",\"x\":[0,1,2,3,4,5,6],\"y\":[437.1128822255892,405.80907294163865,418.8011375563973,347.9844241919192,552.4753940030864,523.1312531672278,595.8314460757576]},{\"line\":{\"color\":\"#9ecf84\"},\"type\":\"scatter\",\"x\":[0,1,2,3,4,5,6],\"y\":[437.1128822255892,405.80907294163865,418.8011375563973,347.9844241919192,552.4753940030864,523.1312531672278,595.8314460757576]},{\"line\":{\"color\":\"#9fb781\"},\"type\":\"scatter\",\"x\":[0,1,2,3,4,5,6],\"y\":[435.92207465656566,416.6505482550505,481.51635769416384,430.336236164422,515.3879456369248,660.0101622626262,772.4531540375982]},{\"line\":{\"color\":\"#a09f7d\"},\"type\":\"scatter\",\"x\":[0,1,2,3,4,5,6],\"y\":[435.92207465656566,416.6505482550505,481.51635769416384,430.336236164422,515.3879456369248,660.0101622626262,772.4531540375982]},{\"line\":{\"color\":\"#a18779\"},\"type\":\"scatter\",\"x\":[0,1,2,3,4,5,6],\"y\":[435.92207465656566,416.6505482550505,481.51635769416384,430.336236164422,515.3879456369248,660.0101622626262,772.4531540375982]},{\"line\":{\"color\":\"#a26f76\"},\"type\":\"scatter\",\"x\":[0,1,2,3,4,5,6],\"y\":[435.92207465656566,416.6505482550505,481.51635769416384,430.336236164422,515.3879456369248,660.0101622626262,772.4531540375982]},{\"line\":{\"color\":\"#a35772\"},\"type\":\"scatter\",\"x\":[0,1,2,3,4,5,6],\"y\":[435.92207465656566,416.6505482550505,481.51635769416384,430.336236164422,515.3879456369248,660.0101622626262,772.4531540375982]},{\"line\":{\"color\":\"#a43f6f\"},\"type\":\"scatter\",\"x\":[0,1,2,3,4,5,6],\"y\":[435.92207465656566,416.6505482550505,481.51635769416384,430.336236164422,515.3879456369248,660.0101622626262,772.4531540375982]},{\"line\":{\"color\":\"#a5276b\"},\"type\":\"scatter\",\"x\":[0,1,2,3,4,5,6],\"y\":[435.92207465656566,416.6505482550505,481.51635769416384,430.336236164422,515.3879456369248,660.0101622626262,772.4531540375982]},{\"line\":{\"color\":\"#a60f67\"},\"type\":\"scatter\",\"x\":[0,1,2,3,4,5,6],\"y\":[512.1738782828282,452.04637932435463,473.0526582953423,374.35454602974187,446.19311788434345,557.6502155157127,681.0740442631874]},{\"line\":{\"color\":\"#a6f764\"},\"type\":\"scatter\",\"x\":[0,1,2,3,4,5,6],\"y\":[512.1738782828282,452.04637932435463,473.0526582953423,374.35454602974187,446.19311788434345,557.6502155157127,681.0740442631874]},{\"line\":{\"color\":\"#a7df60\"},\"type\":\"scatter\",\"x\":[0,1,2,3,4,5,6],\"y\":[512.1738782828282,452.04637932435463,473.0526582953423,374.35454602974187,446.19311788434345,557.6502155157127,681.0740442631874]},{\"line\":{\"color\":\"#a8c75c\"},\"type\":\"scatter\",\"x\":[0,1,2,3,4,5,6],\"y\":[512.1738782828282,452.04637932435463,473.0526582953423,374.35454602974187,446.19311788434345,557.6502155157127,681.0740442631874]},{\"line\":{\"color\":\"#a9af59\"},\"type\":\"scatter\",\"x\":[0,1,2,3,4,5,6],\"y\":[512.1738782828282,452.04637932435463,473.0526582953423,374.35454602974187,446.19311788434345,557.6502155157127,681.0740442631874]},{\"line\":{\"color\":\"#aa9755\"},\"type\":\"scatter\",\"x\":[0,1,2,3,4,5,6],\"y\":[512.1738782828282,452.04637932435463,473.0526582953423,374.35454602974187,446.19311788434345,557.6502155157127,681.0740442631874]},{\"line\":{\"color\":\"#ab7f52\"},\"type\":\"scatter\",\"x\":[0,1,2,3,4,5,6],\"y\":[512.1738782828282,452.04637932435463,473.0526582953423,374.35454602974187,446.19311788434345,557.6502155157127,681.0740442631874]},{\"line\":{\"color\":\"#ac674e\"},\"type\":\"scatter\",\"x\":[0,1,2,3,4,5,6],\"y\":[431.17270423776654,409.32264862457913,441.0134168890572,370.56023960381594,468.4547853843996,615.1142260867003,541.6072509421998]},{\"line\":{\"color\":\"#ad4f4a\"},\"type\":\"scatter\",\"x\":[0,1,2,3,4,5,6],\"y\":[431.17270423776654,409.32264862457913,441.0134168890572,370.56023960381594,468.4547853843996,615.1142260867003,541.6072509421998]},{\"line\":{\"color\":\"#ae3747\"},\"type\":\"scatter\",\"x\":[0,1,2,3,4,5,6],\"y\":[431.17270423776654,409.32264862457913,441.0134168890572,370.56023960381594,468.4547853843996,615.1142260867003,541.6072509421998]},{\"line\":{\"color\":\"#af1f43\"},\"type\":\"scatter\",\"x\":[0,1,2,3,4,5,6],\"y\":[431.17270423776654,409.32264862457913,441.0134168890572,370.56023960381594,468.4547853843996,615.1142260867003,541.6072509421998]},{\"line\":{\"color\":\"#b0073f\"},\"type\":\"scatter\",\"x\":[0,1,2,3,4,5,6],\"y\":[431.17270423776654,409.32264862457913,441.0134168890572,370.56023960381594,468.4547853843996,615.1142260867003,541.6072509421998]},{\"line\":{\"color\":\"#b0ef3c\"},\"type\":\"scatter\",\"x\":[0,1,2,3,4,5,6],\"y\":[431.17270423776654,409.32264862457913,441.0134168890572,370.56023960381594,468.4547853843996,615.1142260867003,541.6072509421998]},{\"line\":{\"color\":\"#b1d738\"},\"type\":\"scatter\",\"x\":[0,1,2,3,4,5,6],\"y\":[431.17270423776654,409.32264862457913,441.0134168890572,370.56023960381594,468.4547853843996,615.1142260867003,541.6072509421998]},{\"line\":{\"color\":\"#b2bf35\"},\"type\":\"scatter\",\"x\":[0,1,2,3,4,5,6],\"y\":[443.96542858080807,441.82195120061726,429.94332844511786,342.2384012113356,427.0761756812009,540.5545606818182,613.1374066296296]},{\"line\":{\"color\":\"#b3a731\"},\"type\":\"scatter\",\"x\":[0,1,2,3,4,5,6],\"y\":[443.96542858080807,441.82195120061726,429.94332844511786,342.2384012113356,427.0761756812009,540.5545606818182,613.1374066296296]},{\"line\":{\"color\":\"#b48f2d\"},\"type\":\"scatter\",\"x\":[0,1,2,3,4,5,6],\"y\":[443.96542858080807,441.82195120061726,429.94332844511786,342.2384012113356,427.0761756812009,540.5545606818182,613.1374066296296]},{\"line\":{\"color\":\"#b5772a\"},\"type\":\"scatter\",\"x\":[0,1,2,3,4,5,6],\"y\":[443.96542858080807,441.82195120061726,429.94332844511786,342.2384012113356,427.0761756812009,540.5545606818182,613.1374066296296]},{\"line\":{\"color\":\"#b65f26\"},\"type\":\"scatter\",\"x\":[0,1,2,3,4,5,6],\"y\":[443.96542858080807,441.82195120061726,429.94332844511786,342.2384012113356,427.0761756812009,540.5545606818182,613.1374066296296]},{\"line\":{\"color\":\"#b74722\"},\"type\":\"scatter\",\"x\":[0,1,2,3,4,5,6],\"y\":[443.96542858080807,441.82195120061726,429.94332844511786,342.2384012113356,427.0761756812009,540.5545606818182,613.1374066296296]},{\"line\":{\"color\":\"#b82f1f\"},\"type\":\"scatter\",\"x\":[0,1,2,3,4,5,6],\"y\":[443.96542858080807,441.82195120061726,429.94332844511786,342.2384012113356,427.0761756812009,540.5545606818182,613.1374066296296]},{\"line\":{\"color\":\"#b9171b\"},\"type\":\"scatter\",\"x\":[0,1,2,3,4,5,6],\"y\":[423.88767961083056,382.8386469769921,410.7166021383277,353.9909107025814,450.2093935088103,677.6262187811448,727.4855317359709]},{\"line\":{\"color\":\"#b9ff18\"},\"type\":\"scatter\",\"x\":[0,1,2,3,4,5,6],\"y\":[423.88767961083056,382.8386469769921,410.7166021383277,353.9909107025814,450.2093935088103,677.6262187811448,727.4855317359709]},{\"line\":{\"color\":\"#bae714\"},\"type\":\"scatter\",\"x\":[0,1,2,3,4,5,6],\"y\":[423.88767961083056,382.8386469769921,410.7166021383277,353.9909107025814,450.2093935088103,677.6262187811448,727.4855317359709]},{\"line\":{\"color\":\"#bbcf10\"},\"type\":\"scatter\",\"x\":[0,1,2,3,4,5,6],\"y\":[423.88767961083056,382.8386469769921,410.7166021383277,353.9909107025814,450.2093935088103,677.6262187811448,727.4855317359709]},{\"line\":{\"color\":\"#bcb70d\"},\"type\":\"scatter\",\"x\":[0,1,2,3,4,5,6],\"y\":[423.88767961083056,382.8386469769921,410.7166021383277,353.9909107025814,450.2093935088103,677.6262187811448,727.4855317359709]},{\"line\":{\"color\":\"#bd9f09\"},\"type\":\"scatter\",\"x\":[0,1,2,3,4,5,6],\"y\":[423.88767961083056,382.8386469769921,410.7166021383277,353.9909107025814,450.2093935088103,677.6262187811448,727.4855317359709]},{\"line\":{\"color\":\"#be8705\"},\"type\":\"scatter\",\"x\":[0,1,2,3,4,5,6],\"y\":[423.88767961083056,382.8386469769921,410.7166021383277,353.9909107025814,450.2093935088103,677.6262187811448,727.4855317359709]},{\"line\":{\"color\":\"#bf6f02\"},\"type\":\"scatter\",\"x\":[0,1,2,3,4,5,6],\"y\":[519.160162074074,467.0927530941077,473.794395687991,392.9697025570707,452.18423243153757,560.23972671633,617.7515838249158]},{\"line\":{\"color\":\"#c056fe\"},\"type\":\"scatter\",\"x\":[0,1,2,3,4,5,6],\"y\":[519.160162074074,467.0927530941077,473.794395687991,392.9697025570707,452.18423243153757,560.23972671633,617.7515838249158]},{\"line\":{\"color\":\"#c13efb\"},\"type\":\"scatter\",\"x\":[0,1,2,3,4,5,6],\"y\":[519.160162074074,467.0927530941077,473.794395687991,392.9697025570707,452.18423243153757,560.23972671633,617.7515838249158]},{\"line\":{\"color\":\"#c226f7\"},\"type\":\"scatter\",\"x\":[0,1,2,3,4,5,6],\"y\":[519.160162074074,467.0927530941077,473.794395687991,392.9697025570707,452.18423243153757,560.23972671633,617.7515838249158]},{\"line\":{\"color\":\"#c30ef3\"},\"type\":\"scatter\",\"x\":[0,1,2,3,4,5,6],\"y\":[519.160162074074,467.0927530941077,473.794395687991,392.9697025570707,452.18423243153757,560.23972671633,617.7515838249158]},{\"line\":{\"color\":\"#c3f6f0\"},\"type\":\"scatter\",\"x\":[0,1,2,3,4,5,6],\"y\":[519.160162074074,467.0927530941077,473.794395687991,392.9697025570707,452.18423243153757,560.23972671633,617.7515838249158]},{\"line\":{\"color\":\"#c4deec\"},\"type\":\"scatter\",\"x\":[0,1,2,3,4,5,6],\"y\":[519.160162074074,467.0927530941077,473.794395687991,392.9697025570707,452.18423243153757,560.23972671633,617.7515838249158]},{\"line\":{\"color\":\"#c5c6e8\"},\"type\":\"scatter\",\"x\":[0,1,2,3,4,5,6],\"y\":[451.2675987859147,409.95217042704826,420.20201790611674,353.3397098369809,429.56768652822666,543.814323835578,617.7349601700337]},{\"line\":{\"color\":\"#c6aee5\"},\"type\":\"scatter\",\"x\":[0,1,2,3,4,5,6],\"y\":[451.2675987859147,409.95217042704826,420.20201790611674,353.3397098369809,429.56768652822666,543.814323835578,617.7349601700337]},{\"line\":{\"color\":\"#c796e1\"},\"type\":\"scatter\",\"x\":[0,1,2,3,4,5,6],\"y\":[451.2675987859147,409.95217042704826,420.20201790611674,353.3397098369809,429.56768652822666,543.814323835578,617.7349601700337]},{\"line\":{\"color\":\"#c87ede\"},\"type\":\"scatter\",\"x\":[0,1,2,3,4,5,6],\"y\":[451.2675987859147,409.95217042704826,420.20201790611674,353.3397098369809,429.56768652822666,543.814323835578,617.7349601700337]},{\"line\":{\"color\":\"#c966da\"},\"type\":\"scatter\",\"x\":[0,1,2,3,4,5,6],\"y\":[451.2675987859147,409.95217042704826,420.20201790611674,353.3397098369809,429.56768652822666,543.814323835578,617.7349601700337]},{\"line\":{\"color\":\"#ca4ed6\"},\"type\":\"scatter\",\"x\":[0,1,2,3,4,5,6],\"y\":[451.2675987859147,409.95217042704826,420.20201790611674,353.3397098369809,429.56768652822666,543.814323835578,617.7349601700337]},{\"line\":{\"color\":\"#cb36d3\"},\"type\":\"scatter\",\"x\":[0,1,2,3,4,5,6],\"y\":[451.2675987859147,409.95217042704826,420.20201790611674,353.3397098369809,429.56768652822666,543.814323835578,617.7349601700337]},{\"line\":{\"color\":\"#cc1ecf\"},\"type\":\"scatter\",\"x\":[0,1,2,3,4,5,6],\"y\":[459.2174647300785,409.72710939393943,430.9645219292929,386.2447069904602,439.06750797912457,523.5140553765432,574.7972734259259]},{\"line\":{\"color\":\"#cd06cb\"},\"type\":\"scatter\",\"x\":[0,1,2,3,4,5,6],\"y\":[459.2174647300785,409.72710939393943,430.9645219292929,386.2447069904602,439.06750797912457,523.5140553765432,574.7972734259259]},{\"line\":{\"color\":\"#cdeec8\"},\"type\":\"scatter\",\"x\":[0,1,2,3,4,5,6],\"y\":[459.2174647300785,409.72710939393943,430.9645219292929,386.2447069904602,439.06750797912457,523.5140553765432,574.7972734259259]},{\"line\":{\"color\":\"#ced6c4\"},\"type\":\"scatter\",\"x\":[0,1,2,3,4,5,6],\"y\":[459.2174647300785,409.72710939393943,430.9645219292929,386.2447069904602,439.06750797912457,523.5140553765432,574.7972734259259]},{\"line\":{\"color\":\"#cfbec1\"},\"type\":\"scatter\",\"x\":[0,1,2,3,4,5,6],\"y\":[459.2174647300785,409.72710939393943,430.9645219292929,386.2447069904602,439.06750797912457,523.5140553765432,574.7972734259259]},{\"line\":{\"color\":\"#d0a6bd\"},\"type\":\"scatter\",\"x\":[0,1,2,3,4,5,6],\"y\":[459.2174647300785,409.72710939393943,430.9645219292929,386.2447069904602,439.06750797912457,523.5140553765432,574.7972734259259]},{\"line\":{\"color\":\"#d18eb9\"},\"type\":\"scatter\",\"x\":[0,1,2,3,4,5,6],\"y\":[459.2174647300785,409.72710939393943,430.9645219292929,386.2447069904602,439.06750797912457,523.5140553765432,574.7972734259259]},{\"line\":{\"color\":\"#d276b6\"},\"type\":\"scatter\",\"x\":[0,1,2,3,4,5,6],\"y\":[458.22913978451174,400.4386266043771,415.63021558193043,370.2860982372615,468.63057362710435,579.29902678844,630.6130628236252]},{\"line\":{\"color\":\"#d35eb2\"},\"type\":\"scatter\",\"x\":[0,1,2,3,4,5,6],\"y\":[458.22913978451174,400.4386266043771,415.63021558193043,370.2860982372615,468.63057362710435,579.29902678844,630.6130628236252]},{\"line\":{\"color\":\"#d446ae\"},\"type\":\"scatter\",\"x\":[0,1,2,3,4,5,6],\"y\":[458.22913978451174,400.4386266043771,415.63021558193043,370.2860982372615,468.63057362710435,579.29902678844,630.6130628236252]},{\"line\":{\"color\":\"#d52eab\"},\"type\":\"scatter\",\"x\":[0,1,2,3,4,5,6],\"y\":[458.22913978451174,400.4386266043771,415.63021558193043,370.2860982372615,468.63057362710435,579.29902678844,630.6130628236252]},{\"line\":{\"color\":\"#d616a7\"},\"type\":\"scatter\",\"x\":[0,1,2,3,4,5,6],\"y\":[458.22913978451174,400.4386266043771,415.63021558193043,370.2860982372615,468.63057362710435,579.29902678844,630.6130628236252]},{\"line\":{\"color\":\"#d6fea4\"},\"type\":\"scatter\",\"x\":[0,1,2,3,4,5,6],\"y\":[458.22913978451174,400.4386266043771,415.63021558193043,370.2860982372615,468.63057362710435,579.29902678844,630.6130628236252]},{\"line\":{\"color\":\"#d7e6a0\"},\"type\":\"scatter\",\"x\":[0,1,2,3,4,5,6],\"y\":[458.22913978451174,400.4386266043771,415.63021558193043,370.2860982372615,468.63057362710435,579.29902678844,630.6130628236252]},{\"line\":{\"color\":\"#d8ce9c\"},\"type\":\"scatter\",\"x\":[0,1,2,3,4,5,6],\"y\":[497.11382764898985,554.7293845140291,541.3647677053872,408.5681734747474,464.52058705274976,541.9156287833895,588.9782066649831]},{\"line\":{\"color\":\"#d9b699\"},\"type\":\"scatter\",\"x\":[0,1,2,3,4,5,6],\"y\":[497.11382764898985,554.7293845140291,541.3647677053872,408.5681734747474,464.52058705274976,541.9156287833895,588.9782066649831]},{\"line\":{\"color\":\"#da9e95\"},\"type\":\"scatter\",\"x\":[0,1,2,3,4,5,6],\"y\":[497.11382764898985,554.7293845140291,541.3647677053872,408.5681734747474,464.52058705274976,541.9156287833895,588.9782066649831]},{\"line\":{\"color\":\"#db8691\"},\"type\":\"scatter\",\"x\":[0,1,2,3,4,5,6],\"y\":[497.11382764898985,554.7293845140291,541.3647677053872,408.5681734747474,464.52058705274976,541.9156287833895,588.9782066649831]},{\"line\":{\"color\":\"#dc6e8e\"},\"type\":\"scatter\",\"x\":[0,1,2,3,4,5,6],\"y\":[497.11382764898985,554.7293845140291,541.3647677053872,408.5681734747474,464.52058705274976,541.9156287833895,588.9782066649831]},{\"line\":{\"color\":\"#dd568a\"},\"type\":\"scatter\",\"x\":[0,1,2,3,4,5,6],\"y\":[497.11382764898985,554.7293845140291,541.3647677053872,408.5681734747474,464.52058705274976,541.9156287833895,588.9782066649831]},{\"line\":{\"color\":\"#de3e87\"},\"type\":\"scatter\",\"x\":[0,1,2,3,4,5,6],\"y\":[497.11382764898985,554.7293845140291,541.3647677053872,408.5681734747474,464.52058705274976,541.9156287833895,588.9782066649831]},{\"line\":{\"color\":\"#df2683\"},\"type\":\"scatter\",\"x\":[0,1,2,3,4,5,6],\"y\":[447.5112030398429,402.7869523599888,411.9751257070707,365.5369876373176,463.7338507418631,444.79828006649836,485.7686181094276]},{\"line\":{\"color\":\"#e00e7f\"},\"type\":\"scatter\",\"x\":[0,1,2,3,4,5,6],\"y\":[447.5112030398429,402.7869523599888,411.9751257070707,365.5369876373176,463.7338507418631,444.79828006649836,485.7686181094276]},{\"line\":{\"color\":\"#e0f67c\"},\"type\":\"scatter\",\"x\":[0,1,2,3,4,5,6],\"y\":[447.5112030398429,402.7869523599888,411.9751257070707,365.5369876373176,463.7338507418631,444.79828006649836,485.7686181094276]},{\"line\":{\"color\":\"#e1de78\"},\"type\":\"scatter\",\"x\":[0,1,2,3,4,5,6],\"y\":[447.5112030398429,402.7869523599888,411.9751257070707,365.5369876373176,463.7338507418631,444.79828006649836,485.7686181094276]},{\"line\":{\"color\":\"#e2c674\"},\"type\":\"scatter\",\"x\":[0,1,2,3,4,5,6],\"y\":[447.5112030398429,402.7869523599888,411.9751257070707,365.5369876373176,463.7338507418631,444.79828006649836,485.7686181094276]},{\"line\":{\"color\":\"#e3ae71\"},\"type\":\"scatter\",\"x\":[0,1,2,3,4,5,6],\"y\":[447.5112030398429,402.7869523599888,411.9751257070707,365.5369876373176,463.7338507418631,444.79828006649836,485.7686181094276]},{\"line\":{\"color\":\"#e4966d\"},\"type\":\"scatter\",\"x\":[0,1,2,3,4,5,6],\"y\":[447.5112030398429,402.7869523599888,411.9751257070707,365.5369876373176,463.7338507418631,444.79828006649836,485.7686181094276]},{\"line\":{\"color\":\"#e57e6a\"},\"type\":\"scatter\",\"x\":[0,1],\"y\":[427.00471721705946,427.98088436531987]},{\"line\":{\"color\":\"#e66666\"},\"type\":\"scatter\",\"x\":[0,1],\"y\":[427.00471721705946,427.98088436531987]}],                        {\"template\":{\"data\":{\"bar\":[{\"error_x\":{\"color\":\"#2a3f5f\"},\"error_y\":{\"color\":\"#2a3f5f\"},\"marker\":{\"line\":{\"color\":\"#E5ECF6\",\"width\":0.5},\"pattern\":{\"fillmode\":\"overlay\",\"size\":10,\"solidity\":0.2}},\"type\":\"bar\"}],\"barpolar\":[{\"marker\":{\"line\":{\"color\":\"#E5ECF6\",\"width\":0.5},\"pattern\":{\"fillmode\":\"overlay\",\"size\":10,\"solidity\":0.2}},\"type\":\"barpolar\"}],\"carpet\":[{\"aaxis\":{\"endlinecolor\":\"#2a3f5f\",\"gridcolor\":\"white\",\"linecolor\":\"white\",\"minorgridcolor\":\"white\",\"startlinecolor\":\"#2a3f5f\"},\"baxis\":{\"endlinecolor\":\"#2a3f5f\",\"gridcolor\":\"white\",\"linecolor\":\"white\",\"minorgridcolor\":\"white\",\"startlinecolor\":\"#2a3f5f\"},\"type\":\"carpet\"}],\"choropleth\":[{\"colorbar\":{\"outlinewidth\":0,\"ticks\":\"\"},\"type\":\"choropleth\"}],\"contour\":[{\"colorbar\":{\"outlinewidth\":0,\"ticks\":\"\"},\"colorscale\":[[0.0,\"#0d0887\"],[0.1111111111111111,\"#46039f\"],[0.2222222222222222,\"#7201a8\"],[0.3333333333333333,\"#9c179e\"],[0.4444444444444444,\"#bd3786\"],[0.5555555555555556,\"#d8576b\"],[0.6666666666666666,\"#ed7953\"],[0.7777777777777778,\"#fb9f3a\"],[0.8888888888888888,\"#fdca26\"],[1.0,\"#f0f921\"]],\"type\":\"contour\"}],\"contourcarpet\":[{\"colorbar\":{\"outlinewidth\":0,\"ticks\":\"\"},\"type\":\"contourcarpet\"}],\"heatmap\":[{\"colorbar\":{\"outlinewidth\":0,\"ticks\":\"\"},\"colorscale\":[[0.0,\"#0d0887\"],[0.1111111111111111,\"#46039f\"],[0.2222222222222222,\"#7201a8\"],[0.3333333333333333,\"#9c179e\"],[0.4444444444444444,\"#bd3786\"],[0.5555555555555556,\"#d8576b\"],[0.6666666666666666,\"#ed7953\"],[0.7777777777777778,\"#fb9f3a\"],[0.8888888888888888,\"#fdca26\"],[1.0,\"#f0f921\"]],\"type\":\"heatmap\"}],\"heatmapgl\":[{\"colorbar\":{\"outlinewidth\":0,\"ticks\":\"\"},\"colorscale\":[[0.0,\"#0d0887\"],[0.1111111111111111,\"#46039f\"],[0.2222222222222222,\"#7201a8\"],[0.3333333333333333,\"#9c179e\"],[0.4444444444444444,\"#bd3786\"],[0.5555555555555556,\"#d8576b\"],[0.6666666666666666,\"#ed7953\"],[0.7777777777777778,\"#fb9f3a\"],[0.8888888888888888,\"#fdca26\"],[1.0,\"#f0f921\"]],\"type\":\"heatmapgl\"}],\"histogram\":[{\"marker\":{\"pattern\":{\"fillmode\":\"overlay\",\"size\":10,\"solidity\":0.2}},\"type\":\"histogram\"}],\"histogram2d\":[{\"colorbar\":{\"outlinewidth\":0,\"ticks\":\"\"},\"colorscale\":[[0.0,\"#0d0887\"],[0.1111111111111111,\"#46039f\"],[0.2222222222222222,\"#7201a8\"],[0.3333333333333333,\"#9c179e\"],[0.4444444444444444,\"#bd3786\"],[0.5555555555555556,\"#d8576b\"],[0.6666666666666666,\"#ed7953\"],[0.7777777777777778,\"#fb9f3a\"],[0.8888888888888888,\"#fdca26\"],[1.0,\"#f0f921\"]],\"type\":\"histogram2d\"}],\"histogram2dcontour\":[{\"colorbar\":{\"outlinewidth\":0,\"ticks\":\"\"},\"colorscale\":[[0.0,\"#0d0887\"],[0.1111111111111111,\"#46039f\"],[0.2222222222222222,\"#7201a8\"],[0.3333333333333333,\"#9c179e\"],[0.4444444444444444,\"#bd3786\"],[0.5555555555555556,\"#d8576b\"],[0.6666666666666666,\"#ed7953\"],[0.7777777777777778,\"#fb9f3a\"],[0.8888888888888888,\"#fdca26\"],[1.0,\"#f0f921\"]],\"type\":\"histogram2dcontour\"}],\"mesh3d\":[{\"colorbar\":{\"outlinewidth\":0,\"ticks\":\"\"},\"type\":\"mesh3d\"}],\"parcoords\":[{\"line\":{\"colorbar\":{\"outlinewidth\":0,\"ticks\":\"\"}},\"type\":\"parcoords\"}],\"pie\":[{\"automargin\":true,\"type\":\"pie\"}],\"scatter\":[{\"marker\":{\"colorbar\":{\"outlinewidth\":0,\"ticks\":\"\"}},\"type\":\"scatter\"}],\"scatter3d\":[{\"line\":{\"colorbar\":{\"outlinewidth\":0,\"ticks\":\"\"}},\"marker\":{\"colorbar\":{\"outlinewidth\":0,\"ticks\":\"\"}},\"type\":\"scatter3d\"}],\"scattercarpet\":[{\"marker\":{\"colorbar\":{\"outlinewidth\":0,\"ticks\":\"\"}},\"type\":\"scattercarpet\"}],\"scattergeo\":[{\"marker\":{\"colorbar\":{\"outlinewidth\":0,\"ticks\":\"\"}},\"type\":\"scattergeo\"}],\"scattergl\":[{\"marker\":{\"colorbar\":{\"outlinewidth\":0,\"ticks\":\"\"}},\"type\":\"scattergl\"}],\"scattermapbox\":[{\"marker\":{\"colorbar\":{\"outlinewidth\":0,\"ticks\":\"\"}},\"type\":\"scattermapbox\"}],\"scatterpolar\":[{\"marker\":{\"colorbar\":{\"outlinewidth\":0,\"ticks\":\"\"}},\"type\":\"scatterpolar\"}],\"scatterpolargl\":[{\"marker\":{\"colorbar\":{\"outlinewidth\":0,\"ticks\":\"\"}},\"type\":\"scatterpolargl\"}],\"scatterternary\":[{\"marker\":{\"colorbar\":{\"outlinewidth\":0,\"ticks\":\"\"}},\"type\":\"scatterternary\"}],\"surface\":[{\"colorbar\":{\"outlinewidth\":0,\"ticks\":\"\"},\"colorscale\":[[0.0,\"#0d0887\"],[0.1111111111111111,\"#46039f\"],[0.2222222222222222,\"#7201a8\"],[0.3333333333333333,\"#9c179e\"],[0.4444444444444444,\"#bd3786\"],[0.5555555555555556,\"#d8576b\"],[0.6666666666666666,\"#ed7953\"],[0.7777777777777778,\"#fb9f3a\"],[0.8888888888888888,\"#fdca26\"],[1.0,\"#f0f921\"]],\"type\":\"surface\"}],\"table\":[{\"cells\":{\"fill\":{\"color\":\"#EBF0F8\"},\"line\":{\"color\":\"white\"}},\"header\":{\"fill\":{\"color\":\"#C8D4E3\"},\"line\":{\"color\":\"white\"}},\"type\":\"table\"}]},\"layout\":{\"annotationdefaults\":{\"arrowcolor\":\"#2a3f5f\",\"arrowhead\":0,\"arrowwidth\":1},\"autotypenumbers\":\"strict\",\"coloraxis\":{\"colorbar\":{\"outlinewidth\":0,\"ticks\":\"\"}},\"colorscale\":{\"diverging\":[[0,\"#8e0152\"],[0.1,\"#c51b7d\"],[0.2,\"#de77ae\"],[0.3,\"#f1b6da\"],[0.4,\"#fde0ef\"],[0.5,\"#f7f7f7\"],[0.6,\"#e6f5d0\"],[0.7,\"#b8e186\"],[0.8,\"#7fbc41\"],[0.9,\"#4d9221\"],[1,\"#276419\"]],\"sequential\":[[0.0,\"#0d0887\"],[0.1111111111111111,\"#46039f\"],[0.2222222222222222,\"#7201a8\"],[0.3333333333333333,\"#9c179e\"],[0.4444444444444444,\"#bd3786\"],[0.5555555555555556,\"#d8576b\"],[0.6666666666666666,\"#ed7953\"],[0.7777777777777778,\"#fb9f3a\"],[0.8888888888888888,\"#fdca26\"],[1.0,\"#f0f921\"]],\"sequentialminus\":[[0.0,\"#0d0887\"],[0.1111111111111111,\"#46039f\"],[0.2222222222222222,\"#7201a8\"],[0.3333333333333333,\"#9c179e\"],[0.4444444444444444,\"#bd3786\"],[0.5555555555555556,\"#d8576b\"],[0.6666666666666666,\"#ed7953\"],[0.7777777777777778,\"#fb9f3a\"],[0.8888888888888888,\"#fdca26\"],[1.0,\"#f0f921\"]]},\"colorway\":[\"#636efa\",\"#EF553B\",\"#00cc96\",\"#ab63fa\",\"#FFA15A\",\"#19d3f3\",\"#FF6692\",\"#B6E880\",\"#FF97FF\",\"#FECB52\"],\"font\":{\"color\":\"#2a3f5f\"},\"geo\":{\"bgcolor\":\"white\",\"lakecolor\":\"white\",\"landcolor\":\"#E5ECF6\",\"showlakes\":true,\"showland\":true,\"subunitcolor\":\"white\"},\"hoverlabel\":{\"align\":\"left\"},\"hovermode\":\"closest\",\"mapbox\":{\"style\":\"light\"},\"paper_bgcolor\":\"white\",\"plot_bgcolor\":\"#E5ECF6\",\"polar\":{\"angularaxis\":{\"gridcolor\":\"white\",\"linecolor\":\"white\",\"ticks\":\"\"},\"bgcolor\":\"#E5ECF6\",\"radialaxis\":{\"gridcolor\":\"white\",\"linecolor\":\"white\",\"ticks\":\"\"}},\"scene\":{\"xaxis\":{\"backgroundcolor\":\"#E5ECF6\",\"gridcolor\":\"white\",\"gridwidth\":2,\"linecolor\":\"white\",\"showbackground\":true,\"ticks\":\"\",\"zerolinecolor\":\"white\"},\"yaxis\":{\"backgroundcolor\":\"#E5ECF6\",\"gridcolor\":\"white\",\"gridwidth\":2,\"linecolor\":\"white\",\"showbackground\":true,\"ticks\":\"\",\"zerolinecolor\":\"white\"},\"zaxis\":{\"backgroundcolor\":\"#E5ECF6\",\"gridcolor\":\"white\",\"gridwidth\":2,\"linecolor\":\"white\",\"showbackground\":true,\"ticks\":\"\",\"zerolinecolor\":\"white\"}},\"shapedefaults\":{\"line\":{\"color\":\"#2a3f5f\"}},\"ternary\":{\"aaxis\":{\"gridcolor\":\"white\",\"linecolor\":\"white\",\"ticks\":\"\"},\"baxis\":{\"gridcolor\":\"white\",\"linecolor\":\"white\",\"ticks\":\"\"},\"bgcolor\":\"#E5ECF6\",\"caxis\":{\"gridcolor\":\"white\",\"linecolor\":\"white\",\"ticks\":\"\"}},\"title\":{\"x\":0.05},\"xaxis\":{\"automargin\":true,\"gridcolor\":\"white\",\"linecolor\":\"white\",\"ticks\":\"\",\"title\":{\"standoff\":15},\"zerolinecolor\":\"white\",\"zerolinewidth\":2},\"yaxis\":{\"automargin\":true,\"gridcolor\":\"white\",\"linecolor\":\"white\",\"ticks\":\"\",\"title\":{\"standoff\":15},\"zerolinecolor\":\"white\",\"zerolinewidth\":2}}}},                        {\"responsive\": true}                    ).then(function(){\n",
       "                            \n",
       "var gd = document.getElementById('05dfe5f2-652e-420f-8467-4e3542099fb0');\n",
       "var x = new MutationObserver(function (mutations, observer) {{\n",
       "        var display = window.getComputedStyle(gd).display;\n",
       "        if (!display || display === 'none') {{\n",
       "            console.log([gd, 'removed!']);\n",
       "            Plotly.purge(gd);\n",
       "            observer.disconnect();\n",
       "        }}\n",
       "}});\n",
       "\n",
       "// Listen for the removal of the full notebook cells\n",
       "var notebookContainer = gd.closest('#notebook-container');\n",
       "if (notebookContainer) {{\n",
       "    x.observe(notebookContainer, {childList: true});\n",
       "}}\n",
       "\n",
       "// Listen for the clearing of the current output cell\n",
       "var outputEl = gd.closest('.output');\n",
       "if (outputEl) {{\n",
       "    x.observe(outputEl, {childList: true});\n",
       "}}\n",
       "\n",
       "                        })                };                });            </script>        </div>"
      ]
     },
     "metadata": {},
     "output_type": "display_data"
    }
   ],
   "source": [
    "colors = color_dict(X.index.get_level_values(1))\n",
    "\n",
    "\n",
    "data=[]\n",
    "for i, s in enumerate(X.index.get_level_values(1)):\n",
    "    x = X.iloc[X.index.get_level_values(1) == s]['day_of_week']\n",
    "    y = X.iloc[X.index.get_level_values(1) == s]['sales']\n",
    "    color = colors[i] \n",
    "    \n",
    "    trace = go.Scatter(x=x, y=y, line=dict(color=color))\n",
    "    data.append(trace)\n",
    "    \n",
    "fig = go.Figure(data=data)\n",
    "fig.show()"
   ]
  },
  {
   "cell_type": "code",
   "execution_count": 10,
   "id": "e165719a",
   "metadata": {
    "execution": {
     "iopub.execute_input": "2021-10-22T20:25:18.727537Z",
     "iopub.status.busy": "2021-10-22T20:25:18.726555Z",
     "iopub.status.idle": "2021-10-22T20:25:18.848581Z",
     "shell.execute_reply": "2021-10-22T20:25:18.849127Z",
     "shell.execute_reply.started": "2021-10-22T18:07:52.949077Z"
    },
    "papermill": {
     "duration": 0.166566,
     "end_time": "2021-10-22T20:25:18.849299",
     "exception": false,
     "start_time": "2021-10-22T20:25:18.682733",
     "status": "completed"
    },
    "tags": []
   },
   "outputs": [],
   "source": [
    "average_sales = store_sales.groupby('date').mean().loc['2017', ['sales']]"
   ]
  },
  {
   "cell_type": "code",
   "execution_count": 11,
   "id": "004c14d3",
   "metadata": {
    "execution": {
     "iopub.execute_input": "2021-10-22T20:25:18.935318Z",
     "iopub.status.busy": "2021-10-22T20:25:18.934304Z",
     "iopub.status.idle": "2021-10-22T20:25:18.955750Z",
     "shell.execute_reply": "2021-10-22T20:25:18.956237Z",
     "shell.execute_reply.started": "2021-10-22T18:08:38.977832Z"
    },
    "papermill": {
     "duration": 0.066206,
     "end_time": "2021-10-22T20:25:18.956408",
     "exception": false,
     "start_time": "2021-10-22T20:25:18.890202",
     "status": "completed"
    },
    "tags": []
   },
   "outputs": [
    {
     "name": "stdout",
     "output_type": "stream",
     "text": [
      "365 days 05:49:12\n",
      "1 days 00:00:00\n",
      "365.2425\n"
     ]
    }
   ],
   "source": [
    "print(pd.Timedelta('1Y') )\n",
    "print(pd.Timedelta('1D'))\n",
    "fs = pd.Timedelta('1Y') / pd.Timedelta('1D')\n",
    "print(fs)\n",
    "\n",
    "frequencies, spectrum = periodogram(average_sales['sales'], \n",
    "                                    fs =fs, \n",
    "                                    detrend='linear',\n",
    "                                    window='boxcar',\n",
    "                                    scaling='spectrum',)\n",
    "\n"
   ]
  },
  {
   "cell_type": "code",
   "execution_count": 12,
   "id": "b4a9c811",
   "metadata": {
    "execution": {
     "iopub.execute_input": "2021-10-22T20:25:19.043237Z",
     "iopub.status.busy": "2021-10-22T20:25:19.042231Z",
     "iopub.status.idle": "2021-10-22T20:25:19.065412Z",
     "shell.execute_reply": "2021-10-22T20:25:19.065884Z",
     "shell.execute_reply.started": "2021-10-22T18:08:55.536533Z"
    },
    "papermill": {
     "duration": 0.068362,
     "end_time": "2021-10-22T20:25:19.066084",
     "exception": false,
     "start_time": "2021-10-22T20:25:18.997722",
     "status": "completed"
    },
    "tags": []
   },
   "outputs": [
    {
     "name": "stdout",
     "output_type": "stream",
     "text": [
      "365 days 05:49:12\n",
      "1 days 00:00:00\n",
      "365.2425\n"
     ]
    },
    {
     "data": {
      "text/html": [
       "<div>                            <div id=\"c93ed07b-cb8c-4f2d-b25a-779a0205580b\" class=\"plotly-graph-div\" style=\"height:525px; width:100%;\"></div>            <script type=\"text/javascript\">                require([\"plotly\"], function(Plotly) {                    window.PLOTLYENV=window.PLOTLYENV || {};                                    if (document.getElementById(\"c93ed07b-cb8c-4f2d-b25a-779a0205580b\")) {                    Plotly.newPlot(                        \"c93ed07b-cb8c-4f2d-b25a-779a0205580b\",                        [{\"line\":{\"shape\":\"hvh\"},\"type\":\"scatter\",\"x\":[0.0,1.6089977973568281,3.2179955947136563,4.826993392070484,6.4359911894273125,8.04498898678414,9.653986784140969,11.262984581497797,12.871982378854625,14.480980176211453,16.08997797356828,17.69897577092511,19.307973568281938,20.916971365638766,22.525969162995594,24.134966960352422,25.74396475770925,27.352962555066078,28.961960352422906,30.570958149779734,32.17995594713656,33.78895374449339,35.39795154185022,37.00694933920705,38.615947136563875,40.2249449339207,41.83394273127753,43.44294052863436,45.05193832599119,46.660936123348016,48.269933920704844,49.87893171806167,51.4879295154185,53.09692731277533,54.705925110132156,56.314922907488985,57.92392070484581,59.53291850220264,61.14191629955947,62.7509140969163,64.35991189427313,65.96890969162996,67.57790748898678,69.1869052863436,70.79590308370044,72.40490088105727,74.0138986784141,75.62289647577092,77.23189427312775,78.84089207048459,80.4498898678414,82.05888766519823,83.66788546255506,85.2768832599119,86.88588105726872,88.49487885462554,90.10387665198238,91.71287444933921,93.32187224669603,94.93087004405285,96.53986784140969,98.14886563876652,99.75786343612334,101.36686123348017,102.975859030837,104.58485682819384,106.19385462555066,107.80285242290748,109.41185022026431,111.02084801762115,112.62984581497797,114.23884361233479,115.84784140969163,117.45683920704846,119.06583700440528,120.6748348017621,122.28383259911894,123.89283039647577,125.5018281938326,127.11082599118942,128.71982378854625,130.32882158590309,131.93781938325992,133.54681718061673,135.15581497797356,136.7648127753304,138.3738105726872,139.98280837004404,141.59180616740088,143.2008039647577,144.80980176211455,146.41879955947135,148.0277973568282,149.63679515418502,151.24579295154183,152.85479074889867,154.4637885462555,156.07278634361234,157.68178414096917,159.29078193832598,160.8997797356828,162.50877753303965,164.11777533039646,165.7267731277533,167.33577092511013,168.94476872246696,170.5537665198238,172.1627643171806,173.77176211453744,175.38075991189427,176.98975770925108,178.59875550660792,180.20775330396475,181.8167511013216],\"y\":[7.29150915081485e-27,29.945176907333312,0.026260613360774714,23.217113454243652,9.464281423613494,7.708205400780608,10.613267922889749,107.32126091666727,277.180307256168,97.26876286038558,35.554787625479364,0.10889745740510728,35.681353413460684,21.630540453581006,40.85277210792469,304.3180580423484,17.167616563539056,29.7052379004261,7.756927603396335,2.934443800681372,4.735530319885839,30.59314105080235,23.8277011983622,100.03553146599738,82.11727913969877,4.185674041315985,31.934363886079566,10.3042279914256,9.42750338456601,30.514821320632873,69.98846260815633,84.17188921000283,2334.973177517147,1490.9841524300923,288.2845676070742,104.35772963410407,171.23195476897115,75.36854628461832,32.74340526820353,84.35198409445182,63.280617017357265,31.628002477418413,10.729103656643908,25.7113509870137,125.23107744962188,2.370910184256703,61.89830361515312,23.79066739468837,55.72796276640284,22.049231358104848,21.21382328570398,31.17881964716278,32.75061984184482,21.395534101932256,77.76895577417972,23.56405950835163,68.68141856060711,108.29317753303846,1.3867822677277037,87.11314345927308,29.397734698617604,73.03814255465856,49.329926382901455,86.66929792053642,181.64715435779934,1246.6786809344658,4.9372762243681,11.980701825985223,16.253148372291637,50.618296874010795,41.05630131980479,34.82284520371324,13.616397306625016,51.24440484915366,51.42962109650325,4.827808319473566,29.57730332990667,55.59072461988772,23.511457529987023,2.191661860009457,22.85421182219282,0.0540504497622681,133.52076801253514,1.4984062494527863,63.373290327889194,28.417229166012874,8.213781319101702,22.135626961314646,35.87200768062937,10.241045308396844,24.90877322257744,13.136833480734104,84.5633070329304,10.670066160640896,11.288927952231777,3.170297234991709,0.6711900407745535,29.870294239476184,74.81083775087737,49.19612270411697,6.965457543088411,72.61612544546047,28.39036972341899,30.047165622014393,18.598523847850238,42.4933718851991,17.444506696014013,47.469335803130264,9.004489265861466,39.41919153883959,10.901991053944919,72.67823124659725,42.4368762604429,29.92763996053078]}],                        {\"template\":{\"data\":{\"bar\":[{\"error_x\":{\"color\":\"#2a3f5f\"},\"error_y\":{\"color\":\"#2a3f5f\"},\"marker\":{\"line\":{\"color\":\"#E5ECF6\",\"width\":0.5},\"pattern\":{\"fillmode\":\"overlay\",\"size\":10,\"solidity\":0.2}},\"type\":\"bar\"}],\"barpolar\":[{\"marker\":{\"line\":{\"color\":\"#E5ECF6\",\"width\":0.5},\"pattern\":{\"fillmode\":\"overlay\",\"size\":10,\"solidity\":0.2}},\"type\":\"barpolar\"}],\"carpet\":[{\"aaxis\":{\"endlinecolor\":\"#2a3f5f\",\"gridcolor\":\"white\",\"linecolor\":\"white\",\"minorgridcolor\":\"white\",\"startlinecolor\":\"#2a3f5f\"},\"baxis\":{\"endlinecolor\":\"#2a3f5f\",\"gridcolor\":\"white\",\"linecolor\":\"white\",\"minorgridcolor\":\"white\",\"startlinecolor\":\"#2a3f5f\"},\"type\":\"carpet\"}],\"choropleth\":[{\"colorbar\":{\"outlinewidth\":0,\"ticks\":\"\"},\"type\":\"choropleth\"}],\"contour\":[{\"colorbar\":{\"outlinewidth\":0,\"ticks\":\"\"},\"colorscale\":[[0.0,\"#0d0887\"],[0.1111111111111111,\"#46039f\"],[0.2222222222222222,\"#7201a8\"],[0.3333333333333333,\"#9c179e\"],[0.4444444444444444,\"#bd3786\"],[0.5555555555555556,\"#d8576b\"],[0.6666666666666666,\"#ed7953\"],[0.7777777777777778,\"#fb9f3a\"],[0.8888888888888888,\"#fdca26\"],[1.0,\"#f0f921\"]],\"type\":\"contour\"}],\"contourcarpet\":[{\"colorbar\":{\"outlinewidth\":0,\"ticks\":\"\"},\"type\":\"contourcarpet\"}],\"heatmap\":[{\"colorbar\":{\"outlinewidth\":0,\"ticks\":\"\"},\"colorscale\":[[0.0,\"#0d0887\"],[0.1111111111111111,\"#46039f\"],[0.2222222222222222,\"#7201a8\"],[0.3333333333333333,\"#9c179e\"],[0.4444444444444444,\"#bd3786\"],[0.5555555555555556,\"#d8576b\"],[0.6666666666666666,\"#ed7953\"],[0.7777777777777778,\"#fb9f3a\"],[0.8888888888888888,\"#fdca26\"],[1.0,\"#f0f921\"]],\"type\":\"heatmap\"}],\"heatmapgl\":[{\"colorbar\":{\"outlinewidth\":0,\"ticks\":\"\"},\"colorscale\":[[0.0,\"#0d0887\"],[0.1111111111111111,\"#46039f\"],[0.2222222222222222,\"#7201a8\"],[0.3333333333333333,\"#9c179e\"],[0.4444444444444444,\"#bd3786\"],[0.5555555555555556,\"#d8576b\"],[0.6666666666666666,\"#ed7953\"],[0.7777777777777778,\"#fb9f3a\"],[0.8888888888888888,\"#fdca26\"],[1.0,\"#f0f921\"]],\"type\":\"heatmapgl\"}],\"histogram\":[{\"marker\":{\"pattern\":{\"fillmode\":\"overlay\",\"size\":10,\"solidity\":0.2}},\"type\":\"histogram\"}],\"histogram2d\":[{\"colorbar\":{\"outlinewidth\":0,\"ticks\":\"\"},\"colorscale\":[[0.0,\"#0d0887\"],[0.1111111111111111,\"#46039f\"],[0.2222222222222222,\"#7201a8\"],[0.3333333333333333,\"#9c179e\"],[0.4444444444444444,\"#bd3786\"],[0.5555555555555556,\"#d8576b\"],[0.6666666666666666,\"#ed7953\"],[0.7777777777777778,\"#fb9f3a\"],[0.8888888888888888,\"#fdca26\"],[1.0,\"#f0f921\"]],\"type\":\"histogram2d\"}],\"histogram2dcontour\":[{\"colorbar\":{\"outlinewidth\":0,\"ticks\":\"\"},\"colorscale\":[[0.0,\"#0d0887\"],[0.1111111111111111,\"#46039f\"],[0.2222222222222222,\"#7201a8\"],[0.3333333333333333,\"#9c179e\"],[0.4444444444444444,\"#bd3786\"],[0.5555555555555556,\"#d8576b\"],[0.6666666666666666,\"#ed7953\"],[0.7777777777777778,\"#fb9f3a\"],[0.8888888888888888,\"#fdca26\"],[1.0,\"#f0f921\"]],\"type\":\"histogram2dcontour\"}],\"mesh3d\":[{\"colorbar\":{\"outlinewidth\":0,\"ticks\":\"\"},\"type\":\"mesh3d\"}],\"parcoords\":[{\"line\":{\"colorbar\":{\"outlinewidth\":0,\"ticks\":\"\"}},\"type\":\"parcoords\"}],\"pie\":[{\"automargin\":true,\"type\":\"pie\"}],\"scatter\":[{\"marker\":{\"colorbar\":{\"outlinewidth\":0,\"ticks\":\"\"}},\"type\":\"scatter\"}],\"scatter3d\":[{\"line\":{\"colorbar\":{\"outlinewidth\":0,\"ticks\":\"\"}},\"marker\":{\"colorbar\":{\"outlinewidth\":0,\"ticks\":\"\"}},\"type\":\"scatter3d\"}],\"scattercarpet\":[{\"marker\":{\"colorbar\":{\"outlinewidth\":0,\"ticks\":\"\"}},\"type\":\"scattercarpet\"}],\"scattergeo\":[{\"marker\":{\"colorbar\":{\"outlinewidth\":0,\"ticks\":\"\"}},\"type\":\"scattergeo\"}],\"scattergl\":[{\"marker\":{\"colorbar\":{\"outlinewidth\":0,\"ticks\":\"\"}},\"type\":\"scattergl\"}],\"scattermapbox\":[{\"marker\":{\"colorbar\":{\"outlinewidth\":0,\"ticks\":\"\"}},\"type\":\"scattermapbox\"}],\"scatterpolar\":[{\"marker\":{\"colorbar\":{\"outlinewidth\":0,\"ticks\":\"\"}},\"type\":\"scatterpolar\"}],\"scatterpolargl\":[{\"marker\":{\"colorbar\":{\"outlinewidth\":0,\"ticks\":\"\"}},\"type\":\"scatterpolargl\"}],\"scatterternary\":[{\"marker\":{\"colorbar\":{\"outlinewidth\":0,\"ticks\":\"\"}},\"type\":\"scatterternary\"}],\"surface\":[{\"colorbar\":{\"outlinewidth\":0,\"ticks\":\"\"},\"colorscale\":[[0.0,\"#0d0887\"],[0.1111111111111111,\"#46039f\"],[0.2222222222222222,\"#7201a8\"],[0.3333333333333333,\"#9c179e\"],[0.4444444444444444,\"#bd3786\"],[0.5555555555555556,\"#d8576b\"],[0.6666666666666666,\"#ed7953\"],[0.7777777777777778,\"#fb9f3a\"],[0.8888888888888888,\"#fdca26\"],[1.0,\"#f0f921\"]],\"type\":\"surface\"}],\"table\":[{\"cells\":{\"fill\":{\"color\":\"#EBF0F8\"},\"line\":{\"color\":\"white\"}},\"header\":{\"fill\":{\"color\":\"#C8D4E3\"},\"line\":{\"color\":\"white\"}},\"type\":\"table\"}]},\"layout\":{\"annotationdefaults\":{\"arrowcolor\":\"#2a3f5f\",\"arrowhead\":0,\"arrowwidth\":1},\"autotypenumbers\":\"strict\",\"coloraxis\":{\"colorbar\":{\"outlinewidth\":0,\"ticks\":\"\"}},\"colorscale\":{\"diverging\":[[0,\"#8e0152\"],[0.1,\"#c51b7d\"],[0.2,\"#de77ae\"],[0.3,\"#f1b6da\"],[0.4,\"#fde0ef\"],[0.5,\"#f7f7f7\"],[0.6,\"#e6f5d0\"],[0.7,\"#b8e186\"],[0.8,\"#7fbc41\"],[0.9,\"#4d9221\"],[1,\"#276419\"]],\"sequential\":[[0.0,\"#0d0887\"],[0.1111111111111111,\"#46039f\"],[0.2222222222222222,\"#7201a8\"],[0.3333333333333333,\"#9c179e\"],[0.4444444444444444,\"#bd3786\"],[0.5555555555555556,\"#d8576b\"],[0.6666666666666666,\"#ed7953\"],[0.7777777777777778,\"#fb9f3a\"],[0.8888888888888888,\"#fdca26\"],[1.0,\"#f0f921\"]],\"sequentialminus\":[[0.0,\"#0d0887\"],[0.1111111111111111,\"#46039f\"],[0.2222222222222222,\"#7201a8\"],[0.3333333333333333,\"#9c179e\"],[0.4444444444444444,\"#bd3786\"],[0.5555555555555556,\"#d8576b\"],[0.6666666666666666,\"#ed7953\"],[0.7777777777777778,\"#fb9f3a\"],[0.8888888888888888,\"#fdca26\"],[1.0,\"#f0f921\"]]},\"colorway\":[\"#636efa\",\"#EF553B\",\"#00cc96\",\"#ab63fa\",\"#FFA15A\",\"#19d3f3\",\"#FF6692\",\"#B6E880\",\"#FF97FF\",\"#FECB52\"],\"font\":{\"color\":\"#2a3f5f\"},\"geo\":{\"bgcolor\":\"white\",\"lakecolor\":\"white\",\"landcolor\":\"#E5ECF6\",\"showlakes\":true,\"showland\":true,\"subunitcolor\":\"white\"},\"hoverlabel\":{\"align\":\"left\"},\"hovermode\":\"closest\",\"mapbox\":{\"style\":\"light\"},\"paper_bgcolor\":\"white\",\"plot_bgcolor\":\"#E5ECF6\",\"polar\":{\"angularaxis\":{\"gridcolor\":\"white\",\"linecolor\":\"white\",\"ticks\":\"\"},\"bgcolor\":\"#E5ECF6\",\"radialaxis\":{\"gridcolor\":\"white\",\"linecolor\":\"white\",\"ticks\":\"\"}},\"scene\":{\"xaxis\":{\"backgroundcolor\":\"#E5ECF6\",\"gridcolor\":\"white\",\"gridwidth\":2,\"linecolor\":\"white\",\"showbackground\":true,\"ticks\":\"\",\"zerolinecolor\":\"white\"},\"yaxis\":{\"backgroundcolor\":\"#E5ECF6\",\"gridcolor\":\"white\",\"gridwidth\":2,\"linecolor\":\"white\",\"showbackground\":true,\"ticks\":\"\",\"zerolinecolor\":\"white\"},\"zaxis\":{\"backgroundcolor\":\"#E5ECF6\",\"gridcolor\":\"white\",\"gridwidth\":2,\"linecolor\":\"white\",\"showbackground\":true,\"ticks\":\"\",\"zerolinecolor\":\"white\"}},\"shapedefaults\":{\"line\":{\"color\":\"#2a3f5f\"}},\"ternary\":{\"aaxis\":{\"gridcolor\":\"white\",\"linecolor\":\"white\",\"ticks\":\"\"},\"baxis\":{\"gridcolor\":\"white\",\"linecolor\":\"white\",\"ticks\":\"\"},\"bgcolor\":\"#E5ECF6\",\"caxis\":{\"gridcolor\":\"white\",\"linecolor\":\"white\",\"ticks\":\"\"}},\"title\":{\"x\":0.05},\"xaxis\":{\"automargin\":true,\"gridcolor\":\"white\",\"linecolor\":\"white\",\"ticks\":\"\",\"title\":{\"standoff\":15},\"zerolinecolor\":\"white\",\"zerolinewidth\":2},\"yaxis\":{\"automargin\":true,\"gridcolor\":\"white\",\"linecolor\":\"white\",\"ticks\":\"\",\"title\":{\"standoff\":15},\"zerolinecolor\":\"white\",\"zerolinewidth\":2}}},\"xaxis\":{\"type\":\"log\"}},                        {\"responsive\": true}                    ).then(function(){\n",
       "                            \n",
       "var gd = document.getElementById('c93ed07b-cb8c-4f2d-b25a-779a0205580b');\n",
       "var x = new MutationObserver(function (mutations, observer) {{\n",
       "        var display = window.getComputedStyle(gd).display;\n",
       "        if (!display || display === 'none') {{\n",
       "            console.log([gd, 'removed!']);\n",
       "            Plotly.purge(gd);\n",
       "            observer.disconnect();\n",
       "        }}\n",
       "}});\n",
       "\n",
       "// Listen for the removal of the full notebook cells\n",
       "var notebookContainer = gd.closest('#notebook-container');\n",
       "if (notebookContainer) {{\n",
       "    x.observe(notebookContainer, {childList: true});\n",
       "}}\n",
       "\n",
       "// Listen for the clearing of the current output cell\n",
       "var outputEl = gd.closest('.output');\n",
       "if (outputEl) {{\n",
       "    x.observe(outputEl, {childList: true});\n",
       "}}\n",
       "\n",
       "                        })                };                });            </script>        </div>"
      ]
     },
     "metadata": {},
     "output_type": "display_data"
    }
   ],
   "source": [
    "from scipy.signal import periodogram\n",
    "print(pd.Timedelta('1Y') )\n",
    "print(pd.Timedelta('1D'))\n",
    "fs = pd.Timedelta('1Y') / pd.Timedelta('1D')\n",
    "print(fs)\n",
    "\n",
    "frequencies, spectrum = periodogram(average_sales['sales'], \n",
    "                                    fs =fs, \n",
    "                                    detrend='linear',\n",
    "                                    window='boxcar',\n",
    "                                    scaling='spectrum',)\n",
    "\n",
    "\n",
    "trace = go.Scatter(x=frequencies, y=spectrum, line_shape='hvh')\n",
    "data = [trace]\n",
    "layout = go.Layout(xaxis=dict(type='log'))\n",
    "fig = go.Figure(data=data, layout=layout)\n",
    "fig.show()"
   ]
  },
  {
   "cell_type": "code",
   "execution_count": null,
   "id": "daf12cc4",
   "metadata": {
    "papermill": {
     "duration": 0.043439,
     "end_time": "2021-10-22T20:25:19.153595",
     "exception": false,
     "start_time": "2021-10-22T20:25:19.110156",
     "status": "completed"
    },
    "tags": []
   },
   "outputs": [],
   "source": []
  },
  {
   "cell_type": "markdown",
   "id": "fbed76e4",
   "metadata": {
    "papermill": {
     "duration": 0.048208,
     "end_time": "2021-10-22T20:25:19.244215",
     "exception": false,
     "start_time": "2021-10-22T20:25:19.196007",
     "status": "completed"
    },
    "tags": []
   },
   "source": [
    "-------------------------------------------------------------------------------\n",
    "\n",
    "Examine the following seasonal plot:"
   ]
  },
  {
   "cell_type": "code",
   "execution_count": 13,
   "id": "714c9763",
   "metadata": {
    "execution": {
     "iopub.execute_input": "2021-10-22T20:25:19.334592Z",
     "iopub.status.busy": "2021-10-22T20:25:19.333608Z",
     "iopub.status.idle": "2021-10-22T20:25:19.445612Z",
     "shell.execute_reply": "2021-10-22T20:25:19.444068Z",
     "shell.execute_reply.started": "2021-10-22T03:03:58.768127Z"
    },
    "papermill": {
     "duration": 0.15862,
     "end_time": "2021-10-22T20:25:19.445881",
     "exception": true,
     "start_time": "2021-10-22T20:25:19.287261",
     "status": "failed"
    },
    "tags": []
   },
   "outputs": [
    {
     "ename": "AttributeError",
     "evalue": "'DataFrame' object has no attribute 'to_frame'",
     "output_type": "error",
     "traceback": [
      "\u001b[0;31m---------------------------------------------------------------------------\u001b[0m",
      "\u001b[0;31mAttributeError\u001b[0m                            Traceback (most recent call last)",
      "\u001b[0;32m/tmp/ipykernel_19/790289088.py\u001b[0m in \u001b[0;36m<module>\u001b[0;34m\u001b[0m\n\u001b[0;32m----> 1\u001b[0;31m \u001b[0mX\u001b[0m \u001b[0;34m=\u001b[0m \u001b[0maverage_sales\u001b[0m\u001b[0;34m.\u001b[0m\u001b[0mto_frame\u001b[0m\u001b[0;34m(\u001b[0m\u001b[0;34m)\u001b[0m\u001b[0;34m\u001b[0m\u001b[0;34m\u001b[0m\u001b[0m\n\u001b[0m\u001b[1;32m      2\u001b[0m \u001b[0mX\u001b[0m\u001b[0;34m[\u001b[0m\u001b[0;34m\"week\"\u001b[0m\u001b[0;34m]\u001b[0m \u001b[0;34m=\u001b[0m \u001b[0mX\u001b[0m\u001b[0;34m.\u001b[0m\u001b[0mindex\u001b[0m\u001b[0;34m.\u001b[0m\u001b[0mweek\u001b[0m\u001b[0;34m\u001b[0m\u001b[0;34m\u001b[0m\u001b[0m\n\u001b[1;32m      3\u001b[0m \u001b[0mX\u001b[0m\u001b[0;34m[\u001b[0m\u001b[0;34m\"day\"\u001b[0m\u001b[0;34m]\u001b[0m \u001b[0;34m=\u001b[0m \u001b[0mX\u001b[0m\u001b[0;34m.\u001b[0m\u001b[0mindex\u001b[0m\u001b[0;34m.\u001b[0m\u001b[0mdayofweek\u001b[0m\u001b[0;34m\u001b[0m\u001b[0;34m\u001b[0m\u001b[0m\n\u001b[1;32m      4\u001b[0m \u001b[0mseasonal_plot\u001b[0m\u001b[0;34m(\u001b[0m\u001b[0mX\u001b[0m\u001b[0;34m,\u001b[0m \u001b[0my\u001b[0m\u001b[0;34m=\u001b[0m\u001b[0;34m'sales'\u001b[0m\u001b[0;34m,\u001b[0m \u001b[0mperiod\u001b[0m\u001b[0;34m=\u001b[0m\u001b[0;34m'week'\u001b[0m\u001b[0;34m,\u001b[0m \u001b[0mfreq\u001b[0m\u001b[0;34m=\u001b[0m\u001b[0;34m'day'\u001b[0m\u001b[0;34m)\u001b[0m\u001b[0;34m;\u001b[0m\u001b[0;34m\u001b[0m\u001b[0;34m\u001b[0m\u001b[0m\n",
      "\u001b[0;32m/opt/conda/lib/python3.7/site-packages/pandas/core/generic.py\u001b[0m in \u001b[0;36m__getattr__\u001b[0;34m(self, name)\u001b[0m\n\u001b[1;32m   5485\u001b[0m         ):\n\u001b[1;32m   5486\u001b[0m             \u001b[0;32mreturn\u001b[0m \u001b[0mself\u001b[0m\u001b[0;34m[\u001b[0m\u001b[0mname\u001b[0m\u001b[0;34m]\u001b[0m\u001b[0;34m\u001b[0m\u001b[0;34m\u001b[0m\u001b[0m\n\u001b[0;32m-> 5487\u001b[0;31m         \u001b[0;32mreturn\u001b[0m \u001b[0mobject\u001b[0m\u001b[0;34m.\u001b[0m\u001b[0m__getattribute__\u001b[0m\u001b[0;34m(\u001b[0m\u001b[0mself\u001b[0m\u001b[0;34m,\u001b[0m \u001b[0mname\u001b[0m\u001b[0;34m)\u001b[0m\u001b[0;34m\u001b[0m\u001b[0;34m\u001b[0m\u001b[0m\n\u001b[0m\u001b[1;32m   5488\u001b[0m \u001b[0;34m\u001b[0m\u001b[0m\n\u001b[1;32m   5489\u001b[0m     \u001b[0;32mdef\u001b[0m \u001b[0m__setattr__\u001b[0m\u001b[0;34m(\u001b[0m\u001b[0mself\u001b[0m\u001b[0;34m,\u001b[0m \u001b[0mname\u001b[0m\u001b[0;34m:\u001b[0m \u001b[0mstr\u001b[0m\u001b[0;34m,\u001b[0m \u001b[0mvalue\u001b[0m\u001b[0;34m)\u001b[0m \u001b[0;34m->\u001b[0m \u001b[0;32mNone\u001b[0m\u001b[0;34m:\u001b[0m\u001b[0;34m\u001b[0m\u001b[0;34m\u001b[0m\u001b[0m\n",
      "\u001b[0;31mAttributeError\u001b[0m: 'DataFrame' object has no attribute 'to_frame'"
     ]
    }
   ],
   "source": [
    "X = average_sales.to_frame()\n",
    "X[\"week\"] = X.index.week\n",
    "X[\"day\"] = X.index.dayofweek\n",
    "seasonal_plot(X, y='sales', period='week', freq='day');"
   ]
  },
  {
   "cell_type": "markdown",
   "id": "37e12aea",
   "metadata": {
    "papermill": {
     "duration": null,
     "end_time": null,
     "exception": null,
     "start_time": null,
     "status": "pending"
    },
    "tags": []
   },
   "source": [
    "And also the periodogram:"
   ]
  },
  {
   "cell_type": "code",
   "execution_count": null,
   "id": "612f85e3",
   "metadata": {
    "papermill": {
     "duration": null,
     "end_time": null,
     "exception": null,
     "start_time": null,
     "status": "pending"
    },
    "tags": []
   },
   "outputs": [],
   "source": [
    "plot_periodogram(average_sales);"
   ]
  },
  {
   "cell_type": "markdown",
   "id": "54e8de66",
   "metadata": {
    "papermill": {
     "duration": null,
     "end_time": null,
     "exception": null,
     "start_time": null,
     "status": "pending"
    },
    "tags": []
   },
   "source": [
    "# 1) Determine seasonality\n",
    "\n",
    "What kind of seasonality do you see evidence of? Once you've thought about it, run the next cell for some discussion."
   ]
  },
  {
   "cell_type": "code",
   "execution_count": null,
   "id": "1473ffa4",
   "metadata": {
    "execution": {
     "iopub.execute_input": "2021-10-22T15:39:32.365043Z",
     "iopub.status.busy": "2021-10-22T15:39:32.36474Z",
     "iopub.status.idle": "2021-10-22T15:39:32.3738Z",
     "shell.execute_reply": "2021-10-22T15:39:32.372997Z",
     "shell.execute_reply.started": "2021-10-22T15:39:32.365013Z"
    },
    "papermill": {
     "duration": null,
     "end_time": null,
     "exception": null,
     "start_time": null,
     "status": "pending"
    },
    "tags": []
   },
   "outputs": [],
   "source": [
    "# View the solution (Run this cell to receive credit!)\n",
    "q_1.check()"
   ]
  },
  {
   "cell_type": "code",
   "execution_count": null,
   "id": "d93e385d",
   "metadata": {
    "execution": {
     "iopub.execute_input": "2021-10-22T15:42:34.44749Z",
     "iopub.status.busy": "2021-10-22T15:42:34.447187Z",
     "iopub.status.idle": "2021-10-22T15:42:34.451254Z",
     "shell.execute_reply": "2021-10-22T15:42:34.450363Z",
     "shell.execute_reply.started": "2021-10-22T15:42:34.447457Z"
    },
    "papermill": {
     "duration": null,
     "end_time": null,
     "exception": null,
     "start_time": null,
     "status": "pending"
    },
    "tags": []
   },
   "outputs": [],
   "source": [
    "from statsmodels.tsa.deterministic import CalendarFourier, DeterministicProcess\n",
    "\n"
   ]
  },
  {
   "cell_type": "code",
   "execution_count": null,
   "id": "eda10a81",
   "metadata": {
    "execution": {
     "iopub.execute_input": "2021-10-22T18:09:10.687611Z",
     "iopub.status.busy": "2021-10-22T18:09:10.687316Z",
     "iopub.status.idle": "2021-10-22T18:09:10.693732Z",
     "shell.execute_reply": "2021-10-22T18:09:10.692936Z",
     "shell.execute_reply.started": "2021-10-22T18:09:10.687579Z"
    },
    "papermill": {
     "duration": null,
     "end_time": null,
     "exception": null,
     "start_time": null,
     "status": "pending"
    },
    "tags": []
   },
   "outputs": [],
   "source": [
    "\n",
    "fourier = CalendarFourier(freq='A', order=4)\n",
    "\n",
    "dp = DeterministicProcess(\n",
    "    index = average_sales.index, \n",
    "    constant=True, \n",
    "    order = 1, \n",
    "    seasonal = True, \n",
    "    additional_terms=[fourier], \n",
    "    drop=True,\n",
    ")"
   ]
  },
  {
   "cell_type": "markdown",
   "id": "a9ccb1ea",
   "metadata": {
    "papermill": {
     "duration": null,
     "end_time": null,
     "exception": null,
     "start_time": null,
     "status": "pending"
    },
    "tags": []
   },
   "source": [
    "-------------------------------------------------------------------------------\n",
    "\n",
    "# 2) Create seasonal features\n",
    "\n",
    "Use `DeterministicProcess` and `CalendarFourier` to create:\n",
    "- indicators for weekly seasons and\n",
    "- Fourier features of order 4 for monthly seasons."
   ]
  },
  {
   "cell_type": "code",
   "execution_count": null,
   "id": "f10c195e",
   "metadata": {
    "execution": {
     "iopub.execute_input": "2021-10-22T19:59:06.019697Z",
     "iopub.status.busy": "2021-10-22T19:59:06.019004Z",
     "iopub.status.idle": "2021-10-22T19:59:06.029027Z",
     "shell.execute_reply": "2021-10-22T19:59:06.028012Z",
     "shell.execute_reply.started": "2021-10-22T19:59:06.019660Z"
    },
    "papermill": {
     "duration": null,
     "end_time": null,
     "exception": null,
     "start_time": null,
     "status": "pending"
    },
    "tags": []
   },
   "outputs": [],
   "source": []
  },
  {
   "cell_type": "code",
   "execution_count": null,
   "id": "91aa18eb",
   "metadata": {
    "execution": {
     "iopub.execute_input": "2021-10-22T19:59:08.501076Z",
     "iopub.status.busy": "2021-10-22T19:59:08.499785Z",
     "iopub.status.idle": "2021-10-22T19:59:12.747775Z",
     "shell.execute_reply": "2021-10-22T19:59:12.745064Z",
     "shell.execute_reply.started": "2021-10-22T19:59:08.501008Z"
    },
    "papermill": {
     "duration": null,
     "end_time": null,
     "exception": null,
     "start_time": null,
     "status": "pending"
    },
    "tags": []
   },
   "outputs": [],
   "source": [
    "X = average_sales.copy()\n",
    "X_week = pd.Index(X.asfreq('W').index, name='week')\n",
    "X['day_of_week'] = X.index.dayofweek\n",
    "X.set_index(X_week, append=True, inplace=True)\n",
    "\n",
    "\n",
    "y = average_sales['sales'].copy()\n",
    "\n",
    "# YOUR CODE HERE\n",
    "fourier = CalendarFourier(freq='M', order=4)\n",
    "dp = DeterministicProcess(\n",
    "    index=y.index,\n",
    "    constant=True,\n",
    "    order=1,\n",
    "    seasonal=True, \n",
    "    additional_terms=[fourier],\n",
    "    drop=True,\n",
    ")\n",
    "X = dp.in_sample()\n",
    "\n",
    "# Check your answer\n",
    "q_2.check()"
   ]
  },
  {
   "cell_type": "markdown",
   "id": "2a580104",
   "metadata": {
    "papermill": {
     "duration": null,
     "end_time": null,
     "exception": null,
     "start_time": null,
     "status": "pending"
    },
    "tags": []
   },
   "source": [
    "Now run this cell to fit the seasonal model."
   ]
  },
  {
   "cell_type": "code",
   "execution_count": null,
   "id": "ff0b06bd",
   "metadata": {
    "execution": {
     "iopub.execute_input": "2021-10-22T19:59:20.412485Z",
     "iopub.status.busy": "2021-10-22T19:59:20.411734Z",
     "iopub.status.idle": "2021-10-22T19:59:20.439646Z",
     "shell.execute_reply": "2021-10-22T19:59:20.438592Z",
     "shell.execute_reply.started": "2021-10-22T19:59:20.412413Z"
    },
    "papermill": {
     "duration": null,
     "end_time": null,
     "exception": null,
     "start_time": null,
     "status": "pending"
    },
    "tags": []
   },
   "outputs": [],
   "source": [
    "X.head(3)"
   ]
  },
  {
   "cell_type": "code",
   "execution_count": null,
   "id": "7e7f3f54",
   "metadata": {
    "papermill": {
     "duration": null,
     "end_time": null,
     "exception": null,
     "start_time": null,
     "status": "pending"
    },
    "tags": []
   },
   "outputs": [],
   "source": []
  },
  {
   "cell_type": "code",
   "execution_count": null,
   "id": "f2c7e489",
   "metadata": {
    "execution": {
     "iopub.execute_input": "2021-10-22T18:44:22.788281Z",
     "iopub.status.busy": "2021-10-22T18:44:22.788014Z",
     "iopub.status.idle": "2021-10-22T18:44:22.797980Z",
     "shell.execute_reply": "2021-10-22T18:44:22.796853Z",
     "shell.execute_reply.started": "2021-10-22T18:44:22.788252Z"
    },
    "papermill": {
     "duration": null,
     "end_time": null,
     "exception": null,
     "start_time": null,
     "status": "pending"
    },
    "tags": []
   },
   "outputs": [],
   "source": [
    "model = LinearRegression()\n",
    "model.fit(X, y)\n",
    "y_pred = model.predict(X).squeeze()"
   ]
  },
  {
   "cell_type": "code",
   "execution_count": null,
   "id": "ce00ede8",
   "metadata": {
    "execution": {
     "iopub.execute_input": "2021-10-22T19:50:28.195709Z",
     "iopub.status.busy": "2021-10-22T19:50:28.195235Z",
     "iopub.status.idle": "2021-10-22T19:50:28.198853Z",
     "shell.execute_reply": "2021-10-22T19:50:28.198298Z",
     "shell.execute_reply.started": "2021-10-22T19:50:28.195654Z"
    },
    "papermill": {
     "duration": null,
     "end_time": null,
     "exception": null,
     "start_time": null,
     "status": "pending"
    },
    "tags": []
   },
   "outputs": [],
   "source": [
    "# y_pred"
   ]
  },
  {
   "cell_type": "code",
   "execution_count": null,
   "id": "743be4fd",
   "metadata": {
    "execution": {
     "iopub.execute_input": "2021-10-22T18:09:23.635285Z",
     "iopub.status.busy": "2021-10-22T18:09:23.634708Z",
     "iopub.status.idle": "2021-10-22T18:09:23.669612Z",
     "shell.execute_reply": "2021-10-22T18:09:23.668678Z",
     "shell.execute_reply.started": "2021-10-22T18:09:23.635232Z"
    },
    "papermill": {
     "duration": null,
     "end_time": null,
     "exception": null,
     "start_time": null,
     "status": "pending"
    },
    "tags": []
   },
   "outputs": [],
   "source": [
    "trace_0 = go.Scatter(x=average_sales.index.to_timestamp(), y=average_sales['sales'])\n",
    "trace_1 = go.Scatter(x=X.index.get_level_values(0).to_timestamp(), y=y_pred)\n",
    "data = [trace_0, trace_1]\n",
    "layout=go.Layout(height=640, width=1440)\n",
    "fig = go.Figure(data=data, layout=layout)\n",
    "fig.show()"
   ]
  },
  {
   "cell_type": "code",
   "execution_count": null,
   "id": "20592462",
   "metadata": {
    "execution": {
     "iopub.execute_input": "2021-10-22T15:50:46.146642Z",
     "iopub.status.busy": "2021-10-22T15:50:46.146098Z",
     "iopub.status.idle": "2021-10-22T15:50:46.156354Z",
     "shell.execute_reply": "2021-10-22T15:50:46.155712Z",
     "shell.execute_reply.started": "2021-10-22T15:50:46.146607Z"
    },
    "papermill": {
     "duration": null,
     "end_time": null,
     "exception": null,
     "start_time": null,
     "status": "pending"
    },
    "tags": []
   },
   "outputs": [],
   "source": [
    "X.index.get_level_values(0).to_timestamp()"
   ]
  },
  {
   "cell_type": "code",
   "execution_count": null,
   "id": "9498fe1d",
   "metadata": {
    "papermill": {
     "duration": null,
     "end_time": null,
     "exception": null,
     "start_time": null,
     "status": "pending"
    },
    "tags": []
   },
   "outputs": [],
   "source": [
    "model = LinearRegression().fit(X, y)\n",
    "y_pred = pd.Series(\n",
    "    model.predict(X),\n",
    "    index=X.index,\n",
    "    name='Fitted',\n",
    ")\n",
    "\n",
    "y_pred = pd.Series(model.predict(X), index=X.index)\n",
    "ax = y.plot(**plot_params, alpha=0.5, title=\"Average Sales\", ylabel=\"items sold\")\n",
    "ax = y_pred.plot(ax=ax, label=\"Seasonal\")\n",
    "ax.legend();"
   ]
  },
  {
   "cell_type": "markdown",
   "id": "d59570d0",
   "metadata": {
    "papermill": {
     "duration": null,
     "end_time": null,
     "exception": null,
     "start_time": null,
     "status": "pending"
    },
    "tags": []
   },
   "source": [
    "-------------------------------------------------------------------------------\n"
   ]
  },
  {
   "cell_type": "markdown",
   "id": "5e11c97e",
   "metadata": {
    "papermill": {
     "duration": null,
     "end_time": null,
     "exception": null,
     "start_time": null,
     "status": "pending"
    },
    "tags": []
   },
   "source": [
    "Removing from a series its trend or seasons is called **detrending** or **deseasonalizing** the series.\n",
    "\n",
    "Look at the periodogram of the deseasonalized series."
   ]
  },
  {
   "cell_type": "code",
   "execution_count": null,
   "id": "cbd61b6b",
   "metadata": {
    "papermill": {
     "duration": null,
     "end_time": null,
     "exception": null,
     "start_time": null,
     "status": "pending"
    },
    "tags": []
   },
   "outputs": [],
   "source": [
    "y_deseason = y - y_pred\n",
    "\n",
    "fig, (ax1, ax2) = plt.subplots(2, 1, sharex=True, sharey=True, figsize=(10, 7))\n",
    "ax1 = plot_periodogram(y, ax=ax1)\n",
    "ax1.set_title(\"Product Sales Frequency Components\")\n",
    "ax2 = plot_periodogram(y_deseason, ax=ax2);\n",
    "ax2.set_title(\"Deseasonalized\");"
   ]
  },
  {
   "cell_type": "code",
   "execution_count": null,
   "id": "5253465e",
   "metadata": {
    "execution": {
     "iopub.execute_input": "2021-10-22T18:45:24.924816Z",
     "iopub.status.busy": "2021-10-22T18:45:24.924537Z",
     "iopub.status.idle": "2021-10-22T18:45:24.929636Z",
     "shell.execute_reply": "2021-10-22T18:45:24.928447Z",
     "shell.execute_reply.started": "2021-10-22T18:45:24.924787Z"
    },
    "papermill": {
     "duration": null,
     "end_time": null,
     "exception": null,
     "start_time": null,
     "status": "pending"
    },
    "tags": []
   },
   "outputs": [],
   "source": [
    "y_deseason = y.values.squeeze() - y_pred.squeeze()\n",
    "#y_deseason"
   ]
  },
  {
   "cell_type": "code",
   "execution_count": null,
   "id": "c2ccbbba",
   "metadata": {
    "execution": {
     "iopub.execute_input": "2021-10-22T18:45:29.387153Z",
     "iopub.status.busy": "2021-10-22T18:45:29.386467Z",
     "iopub.status.idle": "2021-10-22T18:45:29.421671Z",
     "shell.execute_reply": "2021-10-22T18:45:29.421072Z",
     "shell.execute_reply.started": "2021-10-22T18:45:29.387114Z"
    },
    "papermill": {
     "duration": null,
     "end_time": null,
     "exception": null,
     "start_time": null,
     "status": "pending"
    },
    "tags": []
   },
   "outputs": [],
   "source": [
    "trace_0 = go.Scatter(x=average_sales.index.to_timestamp(), y=average_sales['sales'])\n",
    "trace_1 = go.Scatter(x=X.index.get_level_values(0).to_timestamp(), y=y_pred)\n",
    "trace_3 = go.Scatter(x=X.index.get_level_values(0).to_timestamp(), y=y_deseason)\n",
    "\n",
    "data = [trace_0, trace_1, trace_3]\n",
    "layout=go.Layout(height=640, width=1440)\n",
    "fig = go.Figure(data=data, layout=layout)\n",
    "fig.show()"
   ]
  },
  {
   "cell_type": "code",
   "execution_count": null,
   "id": "d862e7e0",
   "metadata": {
    "execution": {
     "iopub.execute_input": "2021-10-22T16:05:15.456522Z",
     "iopub.status.busy": "2021-10-22T16:05:15.456231Z",
     "iopub.status.idle": "2021-10-22T16:05:15.473314Z",
     "shell.execute_reply": "2021-10-22T16:05:15.472465Z",
     "shell.execute_reply.started": "2021-10-22T16:05:15.456494Z"
    },
    "papermill": {
     "duration": null,
     "end_time": null,
     "exception": null,
     "start_time": null,
     "status": "pending"
    },
    "tags": []
   },
   "outputs": [],
   "source": [
    "print(pd.Timedelta('1Y') )\n",
    "print(pd.Timedelta('1D'))\n",
    "fs = pd.Timedelta('1Y') / pd.Timedelta('1D')\n",
    "print(fs)\n",
    "\n",
    "frequencies, spectrum = periodogram(y_deseason,\n",
    "                                    fs =fs, \n",
    "                                    detrend='linear',\n",
    "                                    window='boxcar',\n",
    "                                    scaling='spectrum',)\n",
    "\n",
    "\n",
    "trace = go.Scatter(x=frequencies, y=spectrum, line_shape='hvh')\n",
    "data = [trace]\n",
    "layout = go.Layout(xaxis=dict(type='log'))\n",
    "fig = go.Figure(data=data, layout=layout)\n",
    "fig.show()"
   ]
  },
  {
   "cell_type": "markdown",
   "id": "ab03b7ac",
   "metadata": {
    "papermill": {
     "duration": null,
     "end_time": null,
     "exception": null,
     "start_time": null,
     "status": "pending"
    },
    "tags": []
   },
   "source": [
    "# 3) Check for remaining seasonality\n",
    "\n",
    "Based on these periodograms, how effectively does it appear your model captured the seasonality in *Average Sales*? Does the periodogram agree with the time plot of the deseasonalized series?"
   ]
  },
  {
   "cell_type": "code",
   "execution_count": null,
   "id": "4b33ec29",
   "metadata": {
    "execution": {
     "iopub.execute_input": "2021-10-22T16:05:33.032026Z",
     "iopub.status.busy": "2021-10-22T16:05:33.031246Z",
     "iopub.status.idle": "2021-10-22T16:05:33.039746Z",
     "shell.execute_reply": "2021-10-22T16:05:33.038931Z",
     "shell.execute_reply.started": "2021-10-22T16:05:33.031982Z"
    },
    "papermill": {
     "duration": null,
     "end_time": null,
     "exception": null,
     "start_time": null,
     "status": "pending"
    },
    "tags": []
   },
   "outputs": [],
   "source": [
    "# View the solution (Run this cell to receive credit!)\n",
    "q_3.check()"
   ]
  },
  {
   "cell_type": "markdown",
   "id": "1ea05306",
   "metadata": {
    "papermill": {
     "duration": null,
     "end_time": null,
     "exception": null,
     "start_time": null,
     "status": "pending"
    },
    "tags": []
   },
   "source": [
    "-------------------------------------------------------------------------------\n",
    "\n",
    "The *Store Sales* dataset includes a table of Ecuadorian holidays."
   ]
  },
  {
   "cell_type": "code",
   "execution_count": null,
   "id": "9bc2d4ab",
   "metadata": {
    "execution": {
     "iopub.execute_input": "2021-10-22T16:06:26.859942Z",
     "iopub.status.busy": "2021-10-22T16:06:26.859189Z",
     "iopub.status.idle": "2021-10-22T16:06:26.8738Z",
     "shell.execute_reply": "2021-10-22T16:06:26.873123Z",
     "shell.execute_reply.started": "2021-10-22T16:06:26.859894Z"
    },
    "papermill": {
     "duration": null,
     "end_time": null,
     "exception": null,
     "start_time": null,
     "status": "pending"
    },
    "tags": []
   },
   "outputs": [],
   "source": [
    "holidays_events.head(3)"
   ]
  },
  {
   "cell_type": "code",
   "execution_count": null,
   "id": "3c2b8bb3",
   "metadata": {
    "execution": {
     "iopub.execute_input": "2021-10-22T18:09:49.674631Z",
     "iopub.status.busy": "2021-10-22T18:09:49.673384Z",
     "iopub.status.idle": "2021-10-22T18:09:49.691610Z",
     "shell.execute_reply": "2021-10-22T18:09:49.690625Z",
     "shell.execute_reply.started": "2021-10-22T18:09:49.674558Z"
    },
    "papermill": {
     "duration": null,
     "end_time": null,
     "exception": null,
     "start_time": null,
     "status": "pending"
    },
    "tags": []
   },
   "outputs": [],
   "source": [
    "len(holidays_events)\n",
    "print(holidays_events['locale'].unique())\n",
    "print(holidays_events['type'].unique())\n",
    "holidays_events['locale_name'].unique()\n",
    "holidays_events['description'].unique()"
   ]
  },
  {
   "cell_type": "code",
   "execution_count": null,
   "id": "3edcb007",
   "metadata": {
    "execution": {
     "iopub.execute_input": "2021-10-22T19:27:34.678366Z",
     "iopub.status.busy": "2021-10-22T19:27:34.677579Z",
     "iopub.status.idle": "2021-10-22T19:27:34.686479Z",
     "shell.execute_reply": "2021-10-22T19:27:34.685517Z",
     "shell.execute_reply.started": "2021-10-22T19:27:34.678324Z"
    },
    "papermill": {
     "duration": null,
     "end_time": null,
     "exception": null,
     "start_time": null,
     "status": "pending"
    },
    "tags": []
   },
   "outputs": [],
   "source": [
    "holidays_in_ecuador = holidays_events[holidays_events['locale'].isin(['National', 'Regional'])]\n",
    "# holidays_in_ecuador = holidays_events[holidays_events['locale'].isin(['National'])]\n",
    "\n",
    "holidays = holidays_in_ecuador[(holidays_in_ecuador.index >= y.index.min())  &\n",
    "                    (holidays_in_ecuador.index <= y.index.max())]"
   ]
  },
  {
   "cell_type": "code",
   "execution_count": null,
   "id": "5bc9aade",
   "metadata": {
    "execution": {
     "iopub.execute_input": "2021-10-22T19:29:31.202940Z",
     "iopub.status.busy": "2021-10-22T19:29:31.202408Z",
     "iopub.status.idle": "2021-10-22T19:29:31.212130Z",
     "shell.execute_reply": "2021-10-22T19:29:31.211541Z",
     "shell.execute_reply.started": "2021-10-22T19:29:31.202885Z"
    },
    "papermill": {
     "duration": null,
     "end_time": null,
     "exception": null,
     "start_time": null,
     "status": "pending"
    },
    "tags": []
   },
   "outputs": [],
   "source": [
    "yp"
   ]
  },
  {
   "cell_type": "code",
   "execution_count": null,
   "id": "4a5f7138",
   "metadata": {
    "execution": {
     "iopub.execute_input": "2021-10-22T19:30:07.665503Z",
     "iopub.status.busy": "2021-10-22T19:30:07.665154Z",
     "iopub.status.idle": "2021-10-22T19:30:07.671865Z",
     "shell.execute_reply": "2021-10-22T19:30:07.670548Z",
     "shell.execute_reply.started": "2021-10-22T19:30:07.665469Z"
    },
    "papermill": {
     "duration": null,
     "end_time": null,
     "exception": null,
     "start_time": null,
     "status": "pending"
    },
    "tags": []
   },
   "outputs": [],
   "source": [
    "yp = pd.DataFrame(y.squeeze()-y_pred, index=y.index) \n"
   ]
  },
  {
   "cell_type": "code",
   "execution_count": null,
   "id": "d62993fe",
   "metadata": {
    "execution": {
     "iopub.execute_input": "2021-10-22T20:03:54.223862Z",
     "iopub.status.busy": "2021-10-22T20:03:54.223220Z",
     "iopub.status.idle": "2021-10-22T20:03:54.242254Z",
     "shell.execute_reply": "2021-10-22T20:03:54.241410Z",
     "shell.execute_reply.started": "2021-10-22T20:03:54.223822Z"
    },
    "papermill": {
     "duration": null,
     "end_time": null,
     "exception": null,
     "start_time": null,
     "status": "pending"
    },
    "tags": []
   },
   "outputs": [],
   "source": [
    "# National and regional holidays in the training set\n",
    "holidays = (\n",
    "    holidays_events\n",
    "    .query(\"locale in ['National', 'Regional']\")\n",
    "    .loc['2017':'2017-08-15', ['description']]\n",
    "    .assign(description=lambda x: x.description.cat.remove_unused_categories())\n",
    ")\n",
    "\n",
    "display(holidays)"
   ]
  },
  {
   "cell_type": "code",
   "execution_count": null,
   "id": "c6418784",
   "metadata": {
    "execution": {
     "iopub.execute_input": "2021-10-22T19:30:10.916553Z",
     "iopub.status.busy": "2021-10-22T19:30:10.916224Z",
     "iopub.status.idle": "2021-10-22T19:30:10.927565Z",
     "shell.execute_reply": "2021-10-22T19:30:10.926359Z",
     "shell.execute_reply.started": "2021-10-22T19:30:10.916518Z"
    },
    "papermill": {
     "duration": null,
     "end_time": null,
     "exception": null,
     "start_time": null,
     "status": "pending"
    },
    "tags": []
   },
   "outputs": [],
   "source": [
    "yp.head(3)"
   ]
  },
  {
   "cell_type": "markdown",
   "id": "dad99570",
   "metadata": {
    "papermill": {
     "duration": null,
     "end_time": null,
     "exception": null,
     "start_time": null,
     "status": "pending"
    },
    "tags": []
   },
   "source": [
    "From a plot of the deseasonalized *Average Sales*, it appears these holidays could have some predictive power."
   ]
  },
  {
   "cell_type": "code",
   "execution_count": null,
   "id": "1b53c07b",
   "metadata": {
    "execution": {
     "iopub.execute_input": "2021-10-22T19:31:37.235938Z",
     "iopub.status.busy": "2021-10-22T19:31:37.235573Z",
     "iopub.status.idle": "2021-10-22T19:31:37.279627Z",
     "shell.execute_reply": "2021-10-22T19:31:37.278431Z",
     "shell.execute_reply.started": "2021-10-22T19:31:37.235881Z"
    },
    "papermill": {
     "duration": null,
     "end_time": null,
     "exception": null,
     "start_time": null,
     "status": "pending"
    },
    "tags": []
   },
   "outputs": [],
   "source": [
    "trace_0 = go.Scatter(x=average_sales.index.to_timestamp(), y=average_sales['sales'])\n",
    "trace_1 = go.Scatter(x=X.index.get_level_values(0).to_timestamp(), y=y_pred)\n",
    "trace_3 = go.Scatter(x=X.index.get_level_values(0).to_timestamp(), y=yp['sales'])\n",
    "trace_4 = go.Scatter(x=holidays.index.to_timestamp(),y=yp.loc[holidays.index, 'sales'], mode ='markers' )\n",
    "\n",
    "data = [trace_0, trace_1, trace_3, trace_4]\n",
    "# data = [trace_3, trace_4]\n",
    "\n",
    "layout=go.Layout(height=640, width=1440)\n",
    "fig = go.Figure(data=data, layout=layout)\n",
    "fig.show()\n",
    "\n",
    "\n"
   ]
  },
  {
   "cell_type": "code",
   "execution_count": null,
   "id": "f434ac75",
   "metadata": {
    "execution": {
     "iopub.execute_input": "2021-10-22T16:32:42.00392Z",
     "iopub.status.busy": "2021-10-22T16:32:42.003224Z",
     "iopub.status.idle": "2021-10-22T16:32:42.024741Z",
     "shell.execute_reply": "2021-10-22T16:32:42.023299Z",
     "shell.execute_reply.started": "2021-10-22T16:32:42.003837Z"
    },
    "papermill": {
     "duration": null,
     "end_time": null,
     "exception": null,
     "start_time": null,
     "status": "pending"
    },
    "tags": []
   },
   "outputs": [],
   "source": [
    "import matplotlib.pyplot as plt\n",
    "ax = y_deseason.plot(**plot_params)\n",
    "plt.plot_date(holidays.index, y_deseason[holidays.index], color='C3')\n",
    "ax.set_title('National and Regional Holidays');"
   ]
  },
  {
   "cell_type": "markdown",
   "id": "e644bd3d",
   "metadata": {
    "papermill": {
     "duration": null,
     "end_time": null,
     "exception": null,
     "start_time": null,
     "status": "pending"
    },
    "tags": []
   },
   "source": [
    "# 4) Create holiday features\n",
    "\n",
    "What kind of features could you create to help your model make use of this information? Code your answer in the next cell. (Scikit-learn and Pandas both have utilities that should make this easy. See the `hint` if you'd like more details.)\n"
   ]
  },
  {
   "cell_type": "code",
   "execution_count": null,
   "id": "7407b747",
   "metadata": {
    "execution": {
     "iopub.execute_input": "2021-10-22T20:01:19.027395Z",
     "iopub.status.busy": "2021-10-22T20:01:19.027059Z",
     "iopub.status.idle": "2021-10-22T20:01:19.047806Z",
     "shell.execute_reply": "2021-10-22T20:01:19.047139Z",
     "shell.execute_reply.started": "2021-10-22T20:01:19.027363Z"
    },
    "papermill": {
     "duration": null,
     "end_time": null,
     "exception": null,
     "start_time": null,
     "status": "pending"
    },
    "tags": []
   },
   "outputs": [],
   "source": [
    "X = average_sales.copy()\n",
    "X_week = pd.Index(X.asfreq('W').index, name='week')\n",
    "X['day_of_week'] = X.index.dayofweek\n",
    "X.set_index(X_week, append=True, inplace=True)\n",
    "\n",
    "\n",
    "y = average_sales['sales'].copy()\n",
    "\n",
    "# YOUR CODE HERE\n",
    "fourier = CalendarFourier(freq='M', order=4)\n",
    "dp = DeterministicProcess(\n",
    "    index=y.index,\n",
    "    constant=True,\n",
    "    order=1,\n",
    "    seasonal=True, \n",
    "    additional_terms=[fourier],\n",
    "    drop=True,\n",
    ")\n",
    "X = dp.in_sample()"
   ]
  },
  {
   "cell_type": "code",
   "execution_count": null,
   "id": "8fcff696",
   "metadata": {
    "execution": {
     "iopub.execute_input": "2021-10-22T20:03:41.034358Z",
     "iopub.status.busy": "2021-10-22T20:03:41.033948Z",
     "iopub.status.idle": "2021-10-22T20:03:41.066599Z",
     "shell.execute_reply": "2021-10-22T20:03:41.065609Z",
     "shell.execute_reply.started": "2021-10-22T20:03:41.034328Z"
    },
    "papermill": {
     "duration": null,
     "end_time": null,
     "exception": null,
     "start_time": null,
     "status": "pending"
    },
    "tags": []
   },
   "outputs": [],
   "source": [
    "X"
   ]
  },
  {
   "cell_type": "code",
   "execution_count": null,
   "id": "f11c8cb8",
   "metadata": {
    "execution": {
     "iopub.execute_input": "2021-10-22T20:04:27.108017Z",
     "iopub.status.busy": "2021-10-22T20:04:27.107255Z",
     "iopub.status.idle": "2021-10-22T20:04:27.123234Z",
     "shell.execute_reply": "2021-10-22T20:04:27.122573Z",
     "shell.execute_reply.started": "2021-10-22T20:04:27.107980Z"
    },
    "papermill": {
     "duration": null,
     "end_time": null,
     "exception": null,
     "start_time": null,
     "status": "pending"
    },
    "tags": []
   },
   "outputs": [],
   "source": [
    "X_holidays = pd.get_dummies(holidays)\n",
    "X2 = X.join(X_holidays, how='left').fillna(0.0)\n",
    "\n",
    "# Check your answer\n",
    "q_4.check()"
   ]
  },
  {
   "cell_type": "code",
   "execution_count": null,
   "id": "f11f33d2",
   "metadata": {
    "execution": {
     "iopub.execute_input": "2021-10-22T20:02:47.725652Z",
     "iopub.status.busy": "2021-10-22T20:02:47.725133Z",
     "iopub.status.idle": "2021-10-22T20:02:47.739180Z",
     "shell.execute_reply": "2021-10-22T20:02:47.738639Z",
     "shell.execute_reply.started": "2021-10-22T20:02:47.725618Z"
    },
    "papermill": {
     "duration": null,
     "end_time": null,
     "exception": null,
     "start_time": null,
     "status": "pending"
    },
    "tags": []
   },
   "outputs": [],
   "source": [
    "# Lines below will give you a hint or solution code\n",
    "q_4.hint()\n",
    "q_4.hint(2)\n",
    "q_4.solution()"
   ]
  },
  {
   "cell_type": "markdown",
   "id": "055bb8fe",
   "metadata": {
    "papermill": {
     "duration": null,
     "end_time": null,
     "exception": null,
     "start_time": null,
     "status": "pending"
    },
    "tags": []
   },
   "source": [
    "Use this cell to fit the seasonal model with holiday features added. Do the fitted values seem to have improved?"
   ]
  },
  {
   "cell_type": "code",
   "execution_count": null,
   "id": "af8fe35b",
   "metadata": {
    "execution": {
     "iopub.execute_input": "2021-10-22T20:05:12.226263Z",
     "iopub.status.busy": "2021-10-22T20:05:12.225671Z",
     "iopub.status.idle": "2021-10-22T20:05:12.236735Z",
     "shell.execute_reply": "2021-10-22T20:05:12.235990Z",
     "shell.execute_reply.started": "2021-10-22T20:05:12.226213Z"
    },
    "papermill": {
     "duration": null,
     "end_time": null,
     "exception": null,
     "start_time": null,
     "status": "pending"
    },
    "tags": []
   },
   "outputs": [],
   "source": [
    "model = LinearRegression()\n",
    "model.fit(X2, y)\n",
    "y_pred = model.predict(X2)"
   ]
  },
  {
   "cell_type": "code",
   "execution_count": null,
   "id": "3c707d97",
   "metadata": {
    "execution": {
     "iopub.execute_input": "2021-10-22T20:06:48.239673Z",
     "iopub.status.busy": "2021-10-22T20:06:48.239346Z",
     "iopub.status.idle": "2021-10-22T20:06:48.244930Z",
     "shell.execute_reply": "2021-10-22T20:06:48.243959Z",
     "shell.execute_reply.started": "2021-10-22T20:06:48.239640Z"
    },
    "papermill": {
     "duration": null,
     "end_time": null,
     "exception": null,
     "start_time": null,
     "status": "pending"
    },
    "tags": []
   },
   "outputs": [],
   "source": [
    "yp2 = y.values - y_pred"
   ]
  },
  {
   "cell_type": "code",
   "execution_count": null,
   "id": "fb7ebe70",
   "metadata": {
    "execution": {
     "iopub.execute_input": "2021-10-22T20:06:59.241506Z",
     "iopub.status.busy": "2021-10-22T20:06:59.241042Z",
     "iopub.status.idle": "2021-10-22T20:06:59.283388Z",
     "shell.execute_reply": "2021-10-22T20:06:59.282261Z",
     "shell.execute_reply.started": "2021-10-22T20:06:59.241458Z"
    },
    "papermill": {
     "duration": null,
     "end_time": null,
     "exception": null,
     "start_time": null,
     "status": "pending"
    },
    "tags": []
   },
   "outputs": [],
   "source": [
    "trace_0 = go.Scatter(x=average_sales.index.to_timestamp(), y=average_sales['sales'])\n",
    "trace_1 = go.Scatter(x=X2.index.get_level_values(0).to_timestamp(), y=y_pred)\n",
    "trace_3 = go.Scatter(x=X2.index.get_level_values(0).to_timestamp(), y=yp2)\n",
    "trace_4 = go.Scatter(x=holidays.index.to_timestamp(),y=yp.loc[holidays.index, 'sales'], mode ='markers' )\n",
    "\n",
    "data = [trace_0, trace_1, trace_3, trace_4]\n",
    "# data = [trace_3, trace_4]\n",
    "# data = [trace_0, trace_1, trace_3]\n",
    "\n",
    "layout=go.Layout(height=640, width=1440)\n",
    "fig = go.Figure(data=data, layout=layout)\n",
    "fig.show()"
   ]
  },
  {
   "cell_type": "code",
   "execution_count": null,
   "id": "7d517707",
   "metadata": {
    "papermill": {
     "duration": null,
     "end_time": null,
     "exception": null,
     "start_time": null,
     "status": "pending"
    },
    "tags": []
   },
   "outputs": [],
   "source": [
    "model = LinearRegression().fit(X2, y)\n",
    "y_pred = pd.Series(\n",
    "    model.predict(X2),\n",
    "    index=X2.index,\n",
    "    name='Fitted',\n",
    ")\n",
    "\n",
    "y_pred = pd.Series(model.predict(X2), index=X2.index)\n",
    "ax = y.plot(**plot_params, alpha=0.5, title=\"Average Sales\", ylabel=\"items sold\")\n",
    "ax = y_pred.plot(ax=ax, label=\"Seasonal\")\n",
    "ax.legend();"
   ]
  },
  {
   "cell_type": "markdown",
   "id": "1e29fcfa",
   "metadata": {
    "papermill": {
     "duration": null,
     "end_time": null,
     "exception": null,
     "start_time": null,
     "status": "pending"
    },
    "tags": []
   },
   "source": [
    "-------------------------------------------------------------------------------\n",
    "\n",
    "# (Optional) Submit to Store Sales competition\n",
    "\n",
    "This part of the exercise will walk you through your first submission to this course's companion competition: [**Store Sales - Time Series Forecasting**](https://www.kaggle.com/c/29781). Submitting to the competition isn't required to complete the course, but it's a great way to try out your new skills.\n",
    "\n",
    "The next cell creates a seasonal model of the kind you've learned about in this lesson for the full *Store Sales* dataset with all 1800 time series."
   ]
  },
  {
   "cell_type": "code",
   "execution_count": null,
   "id": "e3a5183f",
   "metadata": {
    "execution": {
     "iopub.execute_input": "2021-10-22T17:39:03.886631Z",
     "iopub.status.busy": "2021-10-22T17:39:03.886334Z",
     "iopub.status.idle": "2021-10-22T17:39:05.081615Z",
     "shell.execute_reply": "2021-10-22T17:39:05.080640Z",
     "shell.execute_reply.started": "2021-10-22T17:39:03.886597Z"
    },
    "papermill": {
     "duration": null,
     "end_time": null,
     "exception": null,
     "start_time": null,
     "status": "pending"
    },
    "tags": []
   },
   "outputs": [],
   "source": [
    "y = store_sales.unstack(['store_nbr', 'family']).loc[\"2017\"]\n",
    "\n",
    "# Create training data\n",
    "fourier = CalendarFourier(freq='M', order=4)\n",
    "dp = DeterministicProcess(\n",
    "    index=y.index,\n",
    "    constant=True,\n",
    "    order=1,\n",
    "    seasonal=True,\n",
    "    additional_terms=[fourier],\n",
    "    drop=True,\n",
    ")\n",
    "X = dp.in_sample()\n",
    "X['NewYear'] = (X.index.dayofyear == 1)\n",
    "\n",
    "model = LinearRegression(fit_intercept=False)\n",
    "model.fit(X, y)\n",
    "y_pred = pd.DataFrame(model.predict(X), index=X.index, columns=y.columns)"
   ]
  },
  {
   "cell_type": "markdown",
   "id": "202e8ebe",
   "metadata": {
    "papermill": {
     "duration": null,
     "end_time": null,
     "exception": null,
     "start_time": null,
     "status": "pending"
    },
    "tags": []
   },
   "source": [
    "You can use this cell to see some of its predictions.\n"
   ]
  },
  {
   "cell_type": "code",
   "execution_count": null,
   "id": "e310a09d",
   "metadata": {
    "execution": {
     "iopub.execute_input": "2021-10-22T17:39:11.779154Z",
     "iopub.status.busy": "2021-10-22T17:39:11.778857Z",
     "iopub.status.idle": "2021-10-22T17:39:12.212614Z",
     "shell.execute_reply": "2021-10-22T17:39:12.211806Z",
     "shell.execute_reply.started": "2021-10-22T17:39:11.779123Z"
    },
    "papermill": {
     "duration": null,
     "end_time": null,
     "exception": null,
     "start_time": null,
     "status": "pending"
    },
    "tags": []
   },
   "outputs": [],
   "source": [
    "STORE_NBR = '1'  # 1 - 54\n",
    "FAMILY = 'PRODUCE'\n",
    "# Uncomment to see a list of product families\n",
    "# display(store_sales.index.get_level_values('family').unique())\n",
    "\n",
    "ax = y.loc(axis=1)['sales', STORE_NBR, FAMILY].plot(**plot_params)\n",
    "ax = y_pred.loc(axis=1)['sales', STORE_NBR, FAMILY].plot(ax=ax)\n",
    "ax.set_title(f'{FAMILY} Sales at Store {STORE_NBR}');"
   ]
  },
  {
   "cell_type": "markdown",
   "id": "3cc4800b",
   "metadata": {
    "papermill": {
     "duration": null,
     "end_time": null,
     "exception": null,
     "start_time": null,
     "status": "pending"
    },
    "tags": []
   },
   "source": [
    "Finally, this cell loads the test data, creates a feature set for the forecast period, and then creates the submission file `submission.csv`."
   ]
  },
  {
   "cell_type": "code",
   "execution_count": null,
   "id": "e6a2a3be",
   "metadata": {
    "execution": {
     "iopub.execute_input": "2021-10-22T17:39:16.040987Z",
     "iopub.status.busy": "2021-10-22T17:39:16.040711Z",
     "iopub.status.idle": "2021-10-22T17:39:17.135376Z",
     "shell.execute_reply": "2021-10-22T17:39:17.134785Z",
     "shell.execute_reply.started": "2021-10-22T17:39:16.040958Z"
    },
    "papermill": {
     "duration": null,
     "end_time": null,
     "exception": null,
     "start_time": null,
     "status": "pending"
    },
    "tags": []
   },
   "outputs": [],
   "source": [
    "df_test = pd.read_csv(\n",
    "    comp_dir / 'test.csv',\n",
    "    dtype={\n",
    "        'store_nbr': 'category',\n",
    "        'family': 'category',\n",
    "        'onpromotion': 'uint32',\n",
    "    },\n",
    "    parse_dates=['date'],\n",
    "    infer_datetime_format=True,\n",
    ")\n",
    "df_test['date'] = df_test.date.dt.to_period('D')\n",
    "df_test = df_test.set_index(['store_nbr', 'family', 'date']).sort_index()\n",
    "\n",
    "# Create features for test set\n",
    "X_test = dp.out_of_sample(steps=16)\n",
    "X_test.index.name = 'date'\n",
    "X_test['NewYear'] = (X_test.index.dayofyear == 1)\n",
    "\n",
    "\n",
    "y_submit = pd.DataFrame(model.predict(X_test), index=X_test.index, columns=y.columns)\n",
    "y_submit = y_submit.stack(['store_nbr', 'family'])\n",
    "y_submit = y_submit.join(df_test.id).reindex(columns=['id', 'sales'])\n",
    "y_submit.to_csv('submission.csv', index=False)"
   ]
  },
  {
   "cell_type": "markdown",
   "id": "ccc3d7e9",
   "metadata": {
    "papermill": {
     "duration": null,
     "end_time": null,
     "exception": null,
     "start_time": null,
     "status": "pending"
    },
    "tags": []
   },
   "source": [
    "To test your forecasts, you'll need to join the competition (if you haven't already). So open a new window by clicking on [this link](https://www.kaggle.com/c/29781). Then click on the **Join Competition** button.\n",
    "\n",
    "Next, follow the instructions below:\n",
    "1. Begin by clicking on the **Save Version** button in the top right corner of the window.  This will generate a pop-up window.  \n",
    "2. Ensure that the **Save and Run All** option is selected, and then click on the **Save** button.\n",
    "3. This generates a window in the bottom left corner of the notebook.  After it has finished running, click on the number to the right of the **Save Version** button.  This pulls up a list of versions on the right of the screen.  Click on the ellipsis **(...)** to the right of the most recent version, and select **Open in Viewer**.  This brings you into view mode of the same page. You will need to scroll down to get back to these instructions.\n",
    "4. Click on the **Output** tab on the right of the screen.  Then, click on the file you would like to submit, and click on the **Submit** button to submit your results to the leaderboard.\n",
    "\n",
    "You have now successfully submitted to the competition!\n",
    "\n",
    "If you want to keep working to improve your performance, select the **Edit** button in the top right of the screen. Then you can change your code and repeat the process. There's a lot of room to improve, and you will climb up the leaderboard as you work.\n"
   ]
  },
  {
   "cell_type": "markdown",
   "id": "58e9aebf",
   "metadata": {
    "papermill": {
     "duration": null,
     "end_time": null,
     "exception": null,
     "start_time": null,
     "status": "pending"
    },
    "tags": []
   },
   "source": [
    "# Keep Going #\n",
    "\n",
    "[**Use time series as features**](https://www.kaggle.com/ryanholbrook/time-series-as-features) to capture cycles and other kinds of serial dependence."
   ]
  }
 ],
 "metadata": {
  "kernelspec": {
   "display_name": "Python 3",
   "language": "python",
   "name": "python3"
  },
  "language_info": {
   "codemirror_mode": {
    "name": "ipython",
    "version": 3
   },
   "file_extension": ".py",
   "mimetype": "text/x-python",
   "name": "python",
   "nbconvert_exporter": "python",
   "pygments_lexer": "ipython3",
   "version": "3.7.10"
  },
  "papermill": {
   "default_parameters": {},
   "duration": 19.611899,
   "end_time": "2021-10-22T20:25:20.198929",
   "environment_variables": {},
   "exception": true,
   "input_path": "__notebook__.ipynb",
   "output_path": "__notebook__.ipynb",
   "parameters": {},
   "start_time": "2021-10-22T20:25:00.587030",
   "version": "2.3.3"
  }
 },
 "nbformat": 4,
 "nbformat_minor": 5
}
