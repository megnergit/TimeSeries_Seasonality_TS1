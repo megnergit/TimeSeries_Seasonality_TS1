{
 "cells": [
  {
   "cell_type": "markdown",
   "metadata": {},
   "source": [
    "------------------------------------------------------------------\n",
    " # Tunnel Traffic  - Time Series Analysis T1\n",
    "------------------------------------------------------------------\n",
    "\n",
    " ## 1. Introduction\n",
    "\n",
    " This is a notebook to practice the routine procedures\n",
    " commonly used in the time sequence analysis."
   ]
  },
  {
   "cell_type": "markdown",
   "metadata": {},
   "source": [
    "Temporal sequence consists of several components.\n",
    " - Trend (gradual decrease / increase)\n",
    " - Seasonality (hour of day, day of week, week of month, month of year, etc.)\n",
    " - Cycles (up and down but with a specific time scale)\n",
    " - Peculiarity (national holidays, etc.)"
   ]
  },
  {
   "cell_type": "markdown",
   "metadata": {},
   "source": [
    "The list above is the whole features that one can\n",
    " predict by time-sequence analysis and machine-learning models.\n",
    " A model can predict what only repeats, i.e., what happened before.\n",
    " A model cannot learn from what did not happen yet.\n",
    "\n",
    " To deal with each elements of time sequence, we have\n",
    "\n",
    " - For __trend__ : Analytical fitting of the baselines (linear, polynomial, etc)\n",
    " - For __seasonality__ : Fourier decomposition.\n",
    " - For __cycle__ : Lags.\n",
    " - For __peculiarity__ : Categorical features."
   ]
  },
  {
   "cell_type": "markdown",
   "metadata": {},
   "source": [
    "In this notebook we will familiarize ourselves with\n",
    "\n",
    "  * Manipulation of index.\n",
    "  * 'DeterministicProcess` in 'statsmodels' package.\n",
    "    'DeterministicProcess` will be used to create 'time dummy'."
   ]
  },
  {
   "cell_type": "markdown",
   "metadata": {},
   "source": [
    "'Time dummy's are the indices of target parameters.\n",
    " Index in other types of data is just a convenient unique address\n",
    " of a record to identify it. Since indices do not contain\n",
    " any useful information, they are usually dropped during the machine learning.\n",
    " On the contrary, index has special meaning in the time sequence analysis.\n",
    " It is the feature needed for the prediction."
   ]
  },
  {
   "cell_type": "markdown",
   "metadata": {},
   "source": [
    "The manipulation of index in time sequence analysis include\n",
    " \n",
    " * Date parsing\n",
    " * Set date as index\n",
    " * Set period of date to 'D' (or 'M', 'W )\n",
    "   + [offset aliases](https://pandas.pydata.org/pandas-docs/stable/user_guide/timeseries.html#offset-aliases)\n",
    " * Set `dtype` (category features to `category`)"
   ]
  },
  {
   "cell_type": "markdown",
   "metadata": {},
   "source": [
    "The only features (except categorical ones) used to model the  temporal\n",
    " behavior of the target parameter is the time, but the time in different\n",
    " intervals.\n",
    " 'DeterministicProcess` help us to quickly create `t` in `y=f(t)`.\n",
    " It is called 'deterministic', because it is a feature that are prefixed.\n",
    " One can use such features at the time of prediction, i.e.\n",
    " if we would like to predict a sales on a Sunday, we can use the fact\n",
    " that day is a Sunday. On the contrary, we cannot use a sales one day before,\n",
    " on Saturday, if it is not published yet at the time the prediction.\n",
    " The former (=being a Sunday) is a deterministic feature, while the sales on\n",
    " Saturday is a non-deterministic feature."
   ]
  },
  {
   "cell_type": "markdown",
   "metadata": {},
   "source": [
    "## 2. Task\n",
    "\n",
    "  We have a record of traffic of a tunnel. Model the temporal sequence of\n",
    "  the traffic from the time features only."
   ]
  },
  {
   "cell_type": "markdown",
   "metadata": {},
   "source": [
    "## 3. Data\n",
    "\n",
    " 1. A traffic of vehicles traveling through the Baregg Tunnel\n",
    "    in Switzerland from November 2003 to November 2005."
   ]
  },
  {
   "cell_type": "markdown",
   "metadata": {},
   "source": [
    "## 4. Notebook"
   ]
  },
  {
   "cell_type": "markdown",
   "metadata": {},
   "source": [
    "Import packages."
   ]
  },
  {
   "cell_type": "code",
   "execution_count": null,
   "metadata": {},
   "outputs": [],
   "source": [
    "from pathlib import Path\n",
    "import os\n",
    "import pandas as pd\n",
    "import numpy as np\n",
    "\n",
    "from scipy.signal import periodogram\n",
    "from sklearn.linear_model import LinearRegression\n",
    "from sklearn.metrics import mean_squared_error\n",
    "\n",
    "from statsmodels.tsa.deterministic import CalendarFourier, DeterministicProcess\n",
    "from statsmodels.graphics.tsaplots import plot_pacf\n",
    "from statsmodels.tsa.stattools import pacf\n",
    "import statsmodels.api as sm\n",
    "\n",
    "from IPython.display import display\n",
    "import plotly.graph_objs as go\n",
    "from plotly.subplots import make_subplots\n",
    "import kaleido\n",
    "from kaggle_tsa.ktsa import *"
   ]
  },
  {
   "cell_type": "markdown",
   "metadata": {},
   "source": [
    "Set up directories."
   ]
  },
  {
   "cell_type": "code",
   "execution_count": null,
   "metadata": {},
   "outputs": [],
   "source": [
    "CWD = Path('/Users/meg/git7/trend/')\n",
    "DATA_DIR = Path('../input/ts-course-data/')\n",
    "KAGGLE_DIR = Path('ryanholbrook/ts-course-data/')\n",
    "IMAGE_DIR = Path('./images')\n",
    "HTML_DIR = Path('./html')\n",
    "\n",
    "os.chdir(CWD)\n",
    "set_cwd(CWD)"
   ]
  },
  {
   "cell_type": "markdown",
   "metadata": {},
   "source": [
    "If the data is not downloaded yet, do so now."
   ]
  },
  {
   "cell_type": "code",
   "execution_count": null,
   "metadata": {},
   "outputs": [],
   "source": [
    "set_data_dir(KAGGLE_DIR, CWD)\n",
    "show_whole_dataframe(True)"
   ]
  },
  {
   "cell_type": "markdown",
   "metadata": {},
   "source": [
    "Read the data, first as it is."
   ]
  },
  {
   "cell_type": "code",
   "execution_count": null,
   "metadata": {},
   "outputs": [],
   "source": [
    "tunnel = pd.read_csv(DATA_DIR/'tunnel.csv')"
   ]
  },
  {
   "cell_type": "markdown",
   "metadata": {},
   "source": [
    "Check the contents."
   ]
  },
  {
   "cell_type": "code",
   "execution_count": null,
   "metadata": {},
   "outputs": [],
   "source": [
    "print(tunnel.info())\n",
    "display(tunnel.head(3))"
   ]
  },
  {
   "cell_type": "markdown",
   "metadata": {},
   "source": [
    "Index manipulation, parsing. Currently `Day` column is taken as\n",
    " `object` type (=string). We will convert it to `datetime` type.\n",
    " In the same time `Day` column is set to be the index.\n",
    " The frequency of the index is now set to 'D' (=calendar day frequency).\n",
    " By setting the frequency, when we use `.shift(1)` to the dataframe,\n",
    " the dataframe will be shifted by that amount in the unit of the specified\n",
    " frequency. The `dtype`  of `NumVehicles` is set to 'float32'."
   ]
  },
  {
   "cell_type": "code",
   "execution_count": null,
   "metadata": {},
   "outputs": [],
   "source": [
    "tunnel = pd.read_csv(DATA_DIR/'tunnel.csv',\n",
    "                     dtype={'NumVehicles': 'float32'},\n",
    "                     parse_dates=['Day'],\n",
    "                     index_col='Day').to_period('D')\n",
    "\n",
    "print(tunnel.info())\n",
    "print(tunnel.index)\n",
    "display(tunnel.head(3))"
   ]
  },
  {
   "cell_type": "markdown",
   "metadata": {},
   "source": [
    "Let us have a quick look at the data."
   ]
  },
  {
   "cell_type": "code",
   "execution_count": null,
   "metadata": {},
   "outputs": [],
   "source": [
    "trace_1 = go.Scatter(x=tunnel.index.to_timestamp(),\n",
    "                     y=tunnel['NumVehicles'],\n",
    "                     name='Tunnel traffic')\n",
    "\n",
    "data = [trace_1]\n",
    "layout = go.Layout(height=512)\n",
    "fig = go.Figure(data=data, layout=layout)\n",
    "\n",
    "fig.show()\n",
    "fig.write_image(IMAGE_DIR/'fig1.png')"
   ]
  },
  {
   "cell_type": "markdown",
   "metadata": {},
   "source": [
    "One can see\n",
    "\n",
    " - Weekly trend (common in-week movement).\n",
    " - In-year trend. Decrease of traffic during\n",
    "    + Christmas holidays\n",
    "    + Easter holidays\n",
    "    + Summer vacations\n",
    "\n",
    " Here we concentrate on reproducing in-week trend.\n",
    " First let us have a look."
   ]
  },
  {
   "cell_type": "code",
   "execution_count": null,
   "metadata": {},
   "outputs": [],
   "source": [
    "tunnel = pd.read_csv(DATA_DIR/'tunnel.csv',\n",
    "                     dtype={'NumVehicles': 'float32'},\n",
    "                     parse_dates=['Day'],\n",
    "                     index_col='Day').to_period('D')\n",
    "\n",
    "tunnel['dayofweek'] = tunnel.index.dayofweek\n",
    "tunnel['Week'] = tunnel.index.asfreq('W')\n",
    "\n",
    "data = []\n",
    "day_name = ('Mo', 'Di', 'Mi', 'Do', 'Fr', 'Sa', 'So')\n",
    "\n",
    "for i, w in tunnel.groupby('Week'):\n",
    "    trace = go.Scatter(x=w['dayofweek'],\n",
    "                       y=w['NumVehicles'],\n",
    "                       name=i)\n",
    "\n",
    "    data.append(trace)\n",
    "\n",
    "layout = go.Layout(height=1024,\n",
    "                   xaxis=dict(categoryarray=day_name))\n",
    "fig = go.Figure(data=data, layout=layout)\n",
    "fig.show()\n",
    "fig.write_image(IMAGE_DIR/'fig2.png')"
   ]
  },
  {
   "cell_type": "markdown",
   "metadata": {},
   "source": [
    "The trend is nicely seen in which\n",
    " the traffic gradually goes up from Monday to Friday,\n",
    " and decreases toward Saturday and Sunday."
   ]
  },
  {
   "cell_type": "markdown",
   "metadata": {},
   "source": [
    "We will make two more plots.\n",
    " 1. periodogram\n",
    " 2. lagplot (although we do not use lag feature here)"
   ]
  },
  {
   "cell_type": "markdown",
   "metadata": {},
   "source": [
    "[To-do : function to check if the index is continuous and no missing dates.]"
   ]
  },
  {
   "cell_type": "code",
   "execution_count": null,
   "metadata": {},
   "outputs": [],
   "source": [
    "annual_freq = (\n",
    "    'Annual (1)',\n",
    "    'Semiannual (2)',\n",
    "    'Quarterly (4)',\n",
    "    'Bimonthly (6)',\n",
    "    'Monthly (12)',\n",
    "    'Biweekly (26)',\n",
    "    'Weekly (52)',\n",
    "    'Semiweekly (104)')\n",
    "\n",
    "fs = pd.Timedelta('1Y')/pd.Timedelta('1D')\n",
    "frequencies, spectrum = periodogram(tunnel['NumVehicles'],\n",
    "                                    fs=fs,\n",
    "                                    detrend='linear',\n",
    "                                    window='boxcar',\n",
    "                                    scaling='spectrum'\n",
    "                                    )"
   ]
  },
  {
   "cell_type": "markdown",
   "metadata": {},
   "source": [
    "__`periodogram`__:\\\n",
    " `detrend` {'linear', 'constant'}\\\n",
    " `window`  {'boxcar', 'gaussian', ...} `scipy.signal.get_window`[shape of window function](https://docs.scipy.org/doc/scipy/reference/generated/scipy.signal.get_window.html#scipy.signal.get_window)\\\n",
    " `scaling` {'density', 'spectrum'}\\  \n",
    " The units are [V<sup>2</sup>/Hz] for 'density' (power spectrum)\\\n",
    " and [V<sup>2</sup>] for 'spectrum'."
   ]
  },
  {
   "cell_type": "code",
   "execution_count": null,
   "metadata": {},
   "outputs": [],
   "source": [
    "trace = go.Scatter(x=frequencies,\n",
    "                   y=spectrum,\n",
    "                   fill='tozeroy',\n",
    "                   line=dict(color='coral'),\n",
    "                   line_shape='hvh')\n",
    "\n",
    "data = [trace]\n",
    "layout = go.Layout(height=640,\n",
    "                   font=dict(size=20),\n",
    "                   xaxis=dict(type='log',\n",
    "                              ticktext=annual_freq,\n",
    "                              tickvals=[1, 2, 4, 6, 12, 26, 52, 104]))\n",
    "\n",
    "fig = go.Figure(data=data, layout=layout)\n",
    "fig.show()\n",
    "fig.write_image(IMAGE_DIR/'fig3.png')"
   ]
  },
  {
   "cell_type": "markdown",
   "metadata": {},
   "source": [
    "We can see\n",
    " * strong weekly repetitions, and\n",
    " * annual, semiannual, and quarterly trend."
   ]
  },
  {
   "cell_type": "markdown",
   "metadata": {},
   "source": [
    "Next, a lag plot."
   ]
  },
  {
   "cell_type": "code",
   "execution_count": null,
   "metadata": {},
   "outputs": [],
   "source": [
    "n_lag = 12\n",
    "n_cols = 3\n",
    "n_rows = n_lag // n_cols\n",
    "sm.OLS.df_degree = 1\n",
    "fig = make_subplots(cols=n_cols,\n",
    "                    rows=n_rows,\n",
    "                    vertical_spacing=0.04,\n",
    "                    subplot_titles=[f'Lag {i}' for i in range(1, n_lag+1)]\n",
    "                    )\n",
    "\n",
    "xax = ['x' + str(i) for i in range(1, n_lag+1)]\n",
    "xax[0] = 'x'\n",
    "\n",
    "yax = ['y' + str(i) for i in range(1, n_lag+1)]\n",
    "yax[0] = 'y'\n",
    "\n",
    "trace = [go.Scatter(x=tunnel['NumVehicles'],\n",
    "                    y=tunnel['NumVehicles'].shift(i),\n",
    "                    marker=dict(opacity=0.7),\n",
    "                    mode='markers',\n",
    "                    xaxis=xax[i-1],\n",
    "                    yaxis=yax[i-1]) for i in range(1, n_lag+1)]\n",
    "\n",
    "trace_reg = [go.Scatter(x=sorted(tunnel['NumVehicles']),\n",
    "                        y=sorted(sm.OLS(tunnel['NumVehicles'].shift(i).values,\n",
    "                                        tunnel['NumVehicles'],\n",
    "                                        missing='drop').fit().fittedvalues),\n",
    "                        mode='lines',\n",
    "                        xaxis=xax[i-1], yaxis=yax[i-1]) for i in range(1, n_lag+1)]\n",
    "\n",
    "data = trace + trace_reg\n",
    "layout = go.Layout(height=1024 * 2,\n",
    "                   font=dict(size=20),\n",
    "                   showlegend=False)\n",
    "\n",
    "layout = fig.layout.update(layout)\n",
    "fig = go.Figure(data=data, layout=layout)\n",
    "fig.show()\n",
    "fig.write_image(IMAGE_DIR/'fig4.png')\n",
    "\n",
    "corr = [tunnel['NumVehicles'].autocorr(lag=i) for i in range(1, n_lag+1)]\n",
    "\n",
    "_ = [print(f'Lag {i:-2}: {tunnel[\"NumVehicles\"].autocorr(lag=i):5.3f}')\n",
    "     for i in range(1, n_lag+1)]"
   ]
  },
  {
   "cell_type": "markdown",
   "metadata": {},
   "source": [
    "There are 3 components seen in `Lag_1` plot.\n",
    "\n",
    " - a bit increased from the day before\n",
    " - a bit degreased from the day before\n",
    " - about the same from the day before"
   ]
  },
  {
   "cell_type": "markdown",
   "metadata": {},
   "source": [
    "The correlation is high in 7-days lag than 1-day lag.\n",
    " It corresponds to the weekly repetitions of the traffic we saw before."
   ]
  },
  {
   "cell_type": "markdown",
   "metadata": {},
   "source": [
    "Partial autocorrelation function.\n",
    " This will be used to decide how many lags should be\n",
    " included in the features. We do not use the information here."
   ]
  },
  {
   "cell_type": "code",
   "execution_count": null,
   "metadata": {},
   "outputs": [],
   "source": [
    "# The example of a plot for partial autocorrelation function\n",
    "# from native `statsmodels`.\n",
    "# fig = plot_pacf(tunnel['NumVehicles'], lags=12)\n",
    "\n",
    "\n",
    "x_pacf, x_conf = pacf(tunnel['NumVehicles'], nlags=12, alpha=0.05)\n",
    "x_error = (x_conf - x_pacf.repeat(2).reshape(x_conf.shape))[:, 1]\n",
    "x_sig = 1.96 / np.sqrt(len(tunnel['NumVehicles']))\n",
    "\n",
    "lags_name = [f'Lag {i-1}' for i in range(1, n_lag+1)]\n",
    "\n",
    "trace_1 = go.Bar(y=lags_name,\n",
    "                 error_x=dict(type='data', array=x_error),\n",
    "                 x=x_pacf,\n",
    "                 marker_color='indianred',\n",
    "                 opacity=0.8,\n",
    "                 width=0.8,\n",
    "                 orientation='h')\n",
    "\n",
    "trace_2a = go.Scatter(y=[lags_name[0],\n",
    "                         lags_name[-1],\n",
    "                         lags_name[-1],\n",
    "                         lags_name[0],\n",
    "                         lags_name[0]],\n",
    "                      x=[-x_sig, -x_sig, x_sig, x_sig, -x_sig],\n",
    "                      line=dict(color='teal'),\n",
    "                      fill='toself',\n",
    "                      mode='lines')\n",
    "\n",
    "layout = go.Layout(height=512, width=800,\n",
    "                   font=dict(size=20),\n",
    "                   showlegend=False,\n",
    "                   xaxis=dict(range=[-1.1, 1.1]))\n",
    "\n",
    "data = [trace_1, trace_2a]\n",
    "\n",
    "fig = go.Figure(data=data, layout=layout)\n",
    "fig.show()\n",
    "fig.write_image(IMAGE_DIR/'fig5.png')"
   ]
  },
  {
   "cell_type": "markdown",
   "metadata": {},
   "source": [
    "Okay, let us come back to the seasonality, and Fourier decompositions.\n",
    " Let us take 10 frequencies."
   ]
  },
  {
   "cell_type": "code",
   "execution_count": null,
   "metadata": {},
   "outputs": [],
   "source": [
    "fourier = CalendarFourier(freq=\"A\", order=10)\n",
    "\n",
    "dp = DeterministicProcess(\n",
    "    index=tunnel.index,\n",
    "    constant=True,               # dummy feature for bias (y-intercept)\n",
    "    order=1,                     # trend (order 1 means linear)\n",
    "    seasonal=True,               # weekly seasonality (indicators)\n",
    "    additional_terms=[fourier],  # annual seasonality (Fourier)\n",
    "    drop=True,                   # drop terms to avoid collinearity\n",
    ")\n",
    "\n",
    "X = dp.in_sample()  # create features for the dates in tunnel.index\n",
    "display(X.head(3))\n",
    "\n",
    "y = tunnel['NumVehicles']"
   ]
  },
  {
   "cell_type": "markdown",
   "metadata": {},
   "source": [
    "Here actual modeling."
   ]
  },
  {
   "cell_type": "code",
   "execution_count": null,
   "metadata": {},
   "outputs": [],
   "source": [
    "model = LinearRegression()\n",
    "model.fit(X, y)\n",
    "y_fit = model.predict(X)"
   ]
  },
  {
   "cell_type": "markdown",
   "metadata": {},
   "source": [
    "Show the results."
   ]
  },
  {
   "cell_type": "code",
   "execution_count": null,
   "metadata": {},
   "outputs": [],
   "source": [
    "trace_1 = go.Scatter(x=X.index.to_timestamp(),\n",
    "                     y=y,\n",
    "                     line=dict(color='teal'),\n",
    "                     mode='lines')\n",
    "\n",
    "trace_2 = go.Scatter(x=X.index.to_timestamp(),\n",
    "                     y=y_fit,\n",
    "                     line=dict(color='coral'),\n",
    "                     mode='lines')\n",
    "\n",
    "data = [trace_1, trace_2]\n",
    "\n",
    "layout = go.Layout(height=512, width=2048,\n",
    "                   font=dict(size=20),\n",
    "                   showlegend=False)\n",
    "\n",
    "fig = go.Figure(data=data, layout=layout)\n",
    "fig.show()\n",
    "fig.write_image(IMAGE_DIR/'fig6.png')"
   ]
  },
  {
   "cell_type": "markdown",
   "metadata": {},
   "source": [
    "Training error."
   ]
  },
  {
   "cell_type": "code",
   "execution_count": null,
   "metadata": {},
   "outputs": [],
   "source": [
    "train_rmse = mean_squared_error(y, y_fit, squared=False)\n",
    "print(f'RMSE : \\033[96m{train_rmse:6.2f}\\033[0m')"
   ]
  },
  {
   "cell_type": "markdown",
   "metadata": {},
   "source": [
    "END"
   ]
  }
 ],
 "metadata": {},
 "nbformat": 4,
 "nbformat_minor": 4
}
